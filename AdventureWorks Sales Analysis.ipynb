{
 "cells": [
  {
   "cell_type": "markdown",
   "metadata": {
    "collapsed": false
   },
   "source": [
    "<span style=\"font-size: 10px\">Namah Siddham"
   ]
  },
  {
   "attachments": {},
   "cell_type": "markdown",
   "metadata": {
    "collapsed": false
   },
   "source": [
    "# <span style = 'color:green'>**1. Project Description and Objective**\n",
    "\n",
    "AdventureWorks is a global manufacturing company that produces cycling equipment and accessories. The management team needs a way to track KPIs (sales, revenue, profit,returns), compare regional performance, analyze product-level trends, identify high value customers, seasonal trends, best-selling products or key factors influencing sales.\n",
    "\n",
    "<font size=\"5\">A folder of raw csv files are available which contains information about transactions, returns, products, customers and sales territories."
   ]
  },
  {
   "attachments": {},
   "cell_type": "markdown",
   "metadata": {
    "collapsed": false
   },
   "source": [
    "# <span style = 'color:green'>**2. Import Libraries**"
   ]
  },
  {
   "cell_type": "code",
   "execution_count": null,
   "metadata": {
    "ExecuteTime": {
     "end_time": "2023-07-05T21:25:17.874084800Z",
     "start_time": "2023-07-05T21:25:11.345095700Z"
    },
    "collapsed": true
   },
   "outputs": [],
   "source": [
    "import numpy as np\n",
    "import pandas as pd\n",
    "import matplotlib.pyplot as plt\n",
    "import seaborn as sns\n",
    "import datetime\n",
    "import plotly.graph_objects as go\n",
    "import plotly.offline as pyo\n",
    "import dash\n",
    "from dash import dcc\n",
    "from dash import html\n",
    "import dash_table\n",
    "from dash.dependencies import Input,Output,State\n",
    "import warnings\n",
    "warnings.filterwarnings(\"ignore\")"
   ]
  },
  {
   "attachments": {},
   "cell_type": "markdown",
   "metadata": {
    "collapsed": false
   },
   "source": [
    "# <span style = 'color:green'>**3. Import Data**"
   ]
  },
  {
   "attachments": {},
   "cell_type": "markdown",
   "metadata": {},
   "source": [
    "### <span style = 'color:orange'>**3.1 Import Territories Data**"
   ]
  },
  {
   "cell_type": "code",
   "execution_count": 2,
   "metadata": {
    "ExecuteTime": {
     "end_time": "2023-07-05T21:25:17.913017200Z",
     "start_time": "2023-07-05T21:25:13.146480900Z"
    },
    "collapsed": false
   },
   "outputs": [
    {
     "data": {
      "text/html": [
       "<div>\n",
       "<style scoped>\n",
       "    .dataframe tbody tr th:only-of-type {\n",
       "        vertical-align: middle;\n",
       "    }\n",
       "\n",
       "    .dataframe tbody tr th {\n",
       "        vertical-align: top;\n",
       "    }\n",
       "\n",
       "    .dataframe thead th {\n",
       "        text-align: right;\n",
       "    }\n",
       "</style>\n",
       "<table border=\"1\" class=\"dataframe\">\n",
       "  <thead>\n",
       "    <tr style=\"text-align: right;\">\n",
       "      <th></th>\n",
       "      <th>SalesTerritoryKey</th>\n",
       "      <th>Region</th>\n",
       "      <th>Country</th>\n",
       "      <th>Continent</th>\n",
       "    </tr>\n",
       "  </thead>\n",
       "  <tbody>\n",
       "    <tr>\n",
       "      <th>0</th>\n",
       "      <td>1</td>\n",
       "      <td>Northwest</td>\n",
       "      <td>United States</td>\n",
       "      <td>North America</td>\n",
       "    </tr>\n",
       "    <tr>\n",
       "      <th>1</th>\n",
       "      <td>2</td>\n",
       "      <td>Northeast</td>\n",
       "      <td>United States</td>\n",
       "      <td>North America</td>\n",
       "    </tr>\n",
       "    <tr>\n",
       "      <th>2</th>\n",
       "      <td>3</td>\n",
       "      <td>Central</td>\n",
       "      <td>United States</td>\n",
       "      <td>North America</td>\n",
       "    </tr>\n",
       "    <tr>\n",
       "      <th>3</th>\n",
       "      <td>4</td>\n",
       "      <td>Southwest</td>\n",
       "      <td>United States</td>\n",
       "      <td>North America</td>\n",
       "    </tr>\n",
       "    <tr>\n",
       "      <th>4</th>\n",
       "      <td>5</td>\n",
       "      <td>Southeast</td>\n",
       "      <td>United States</td>\n",
       "      <td>North America</td>\n",
       "    </tr>\n",
       "  </tbody>\n",
       "</table>\n",
       "</div>"
      ],
      "text/plain": [
       "   SalesTerritoryKey     Region        Country      Continent\n",
       "0                  1  Northwest  United States  North America\n",
       "1                  2  Northeast  United States  North America\n",
       "2                  3    Central  United States  North America\n",
       "3                  4  Southwest  United States  North America\n",
       "4                  5  Southeast  United States  North America"
      ]
     },
     "execution_count": 2,
     "metadata": {},
     "output_type": "execute_result"
    }
   ],
   "source": [
    "aw_territories = pd.read_csv('AdventureWorks Territory Lookup.csv')\n",
    "aw_territories.head()"
   ]
  },
  {
   "attachments": {},
   "cell_type": "markdown",
   "metadata": {
    "collapsed": false
   },
   "source": [
    "The company does business across 10 different territories as shown in this table. Each territory is uniquely identified by a territory key."
   ]
  },
  {
   "attachments": {},
   "cell_type": "markdown",
   "metadata": {},
   "source": [
    "### <span style = 'color:orange'>**3.2 Import Customers Data**"
   ]
  },
  {
   "cell_type": "code",
   "execution_count": 3,
   "metadata": {
    "ExecuteTime": {
     "end_time": "2023-07-05T21:25:18.000717400Z",
     "start_time": "2023-07-05T21:25:13.212914200Z"
    },
    "collapsed": false
   },
   "outputs": [
    {
     "data": {
      "text/html": [
       "<div>\n",
       "<style scoped>\n",
       "    .dataframe tbody tr th:only-of-type {\n",
       "        vertical-align: middle;\n",
       "    }\n",
       "\n",
       "    .dataframe tbody tr th {\n",
       "        vertical-align: top;\n",
       "    }\n",
       "\n",
       "    .dataframe thead th {\n",
       "        text-align: right;\n",
       "    }\n",
       "</style>\n",
       "<table border=\"1\" class=\"dataframe\">\n",
       "  <thead>\n",
       "    <tr style=\"text-align: right;\">\n",
       "      <th></th>\n",
       "      <th>CustomerKey</th>\n",
       "      <th>Prefix</th>\n",
       "      <th>FirstName</th>\n",
       "      <th>LastName</th>\n",
       "      <th>BirthDate</th>\n",
       "      <th>MaritalStatus</th>\n",
       "      <th>Gender</th>\n",
       "      <th>EmailAddress</th>\n",
       "      <th>AnnualIncome</th>\n",
       "      <th>TotalChildren</th>\n",
       "      <th>EducationLevel</th>\n",
       "      <th>Occupation</th>\n",
       "      <th>HomeOwner</th>\n",
       "    </tr>\n",
       "  </thead>\n",
       "  <tbody>\n",
       "    <tr>\n",
       "      <th>0</th>\n",
       "      <td>11000</td>\n",
       "      <td>MR.</td>\n",
       "      <td>JON</td>\n",
       "      <td>YANG</td>\n",
       "      <td>1966-04-08</td>\n",
       "      <td>M</td>\n",
       "      <td>M</td>\n",
       "      <td>jon24@adventure-works.com</td>\n",
       "      <td>90000.0</td>\n",
       "      <td>2.0</td>\n",
       "      <td>Bachelors</td>\n",
       "      <td>Professional</td>\n",
       "      <td>Y</td>\n",
       "    </tr>\n",
       "    <tr>\n",
       "      <th>1</th>\n",
       "      <td>11001</td>\n",
       "      <td>MR.</td>\n",
       "      <td>EUGENE</td>\n",
       "      <td>HUANG</td>\n",
       "      <td>1965-05-14</td>\n",
       "      <td>S</td>\n",
       "      <td>M</td>\n",
       "      <td>eugene10@adventure-works.com</td>\n",
       "      <td>60000.0</td>\n",
       "      <td>3.0</td>\n",
       "      <td>Bachelors</td>\n",
       "      <td>Professional</td>\n",
       "      <td>N</td>\n",
       "    </tr>\n",
       "    <tr>\n",
       "      <th>2</th>\n",
       "      <td>11002</td>\n",
       "      <td>MR.</td>\n",
       "      <td>RUBEN</td>\n",
       "      <td>TORRES</td>\n",
       "      <td>1965-08-12</td>\n",
       "      <td>M</td>\n",
       "      <td>M</td>\n",
       "      <td>ruben35@adventure-works.com</td>\n",
       "      <td>60000.0</td>\n",
       "      <td>3.0</td>\n",
       "      <td>Bachelors</td>\n",
       "      <td>Professional</td>\n",
       "      <td>Y</td>\n",
       "    </tr>\n",
       "    <tr>\n",
       "      <th>3</th>\n",
       "      <td>11003</td>\n",
       "      <td>MS.</td>\n",
       "      <td>CHRISTY</td>\n",
       "      <td>ZHU</td>\n",
       "      <td>1968-02-15</td>\n",
       "      <td>S</td>\n",
       "      <td>F</td>\n",
       "      <td>christy12@adventure-works.com</td>\n",
       "      <td>70000.0</td>\n",
       "      <td>0.0</td>\n",
       "      <td>Bachelors</td>\n",
       "      <td>Professional</td>\n",
       "      <td>N</td>\n",
       "    </tr>\n",
       "    <tr>\n",
       "      <th>4</th>\n",
       "      <td>11004</td>\n",
       "      <td>MRS.</td>\n",
       "      <td>ELIZABETH</td>\n",
       "      <td>JOHNSON</td>\n",
       "      <td>1968-08-08</td>\n",
       "      <td>S</td>\n",
       "      <td>F</td>\n",
       "      <td>elizabeth5@adventure-works.com</td>\n",
       "      <td>80000.0</td>\n",
       "      <td>5.0</td>\n",
       "      <td>Bachelors</td>\n",
       "      <td>Professional</td>\n",
       "      <td>Y</td>\n",
       "    </tr>\n",
       "  </tbody>\n",
       "</table>\n",
       "</div>"
      ],
      "text/plain": [
       "  CustomerKey Prefix  FirstName LastName   BirthDate MaritalStatus Gender  \\\n",
       "0       11000    MR.        JON     YANG  1966-04-08             M      M   \n",
       "1       11001    MR.     EUGENE    HUANG  1965-05-14             S      M   \n",
       "2       11002    MR.      RUBEN   TORRES  1965-08-12             M      M   \n",
       "3       11003    MS.    CHRISTY      ZHU  1968-02-15             S      F   \n",
       "4       11004   MRS.  ELIZABETH  JOHNSON  1968-08-08             S      F   \n",
       "\n",
       "                     EmailAddress  AnnualIncome  TotalChildren EducationLevel  \\\n",
       "0       jon24@adventure-works.com       90000.0            2.0      Bachelors   \n",
       "1    eugene10@adventure-works.com       60000.0            3.0      Bachelors   \n",
       "2     ruben35@adventure-works.com       60000.0            3.0      Bachelors   \n",
       "3   christy12@adventure-works.com       70000.0            0.0      Bachelors   \n",
       "4  elizabeth5@adventure-works.com       80000.0            5.0      Bachelors   \n",
       "\n",
       "     Occupation HomeOwner  \n",
       "0  Professional         Y  \n",
       "1  Professional         N  \n",
       "2  Professional         Y  \n",
       "3  Professional         N  \n",
       "4  Professional         Y  "
      ]
     },
     "execution_count": 3,
     "metadata": {},
     "output_type": "execute_result"
    }
   ],
   "source": [
    "aw_customers = pd.read_csv('AdventureWorks Customer Lookup.csv',encoding='latin-1')\n",
    "aw_customers.head()"
   ]
  },
  {
   "attachments": {},
   "cell_type": "markdown",
   "metadata": {
    "collapsed": false
   },
   "source": [
    "Names, contact details, income and education details available for customers in this table. Each customer is identified by a unique customer key."
   ]
  },
  {
   "attachments": {},
   "cell_type": "markdown",
   "metadata": {},
   "source": [
    "### <span style = 'color:orange'>**3.3 Import Products Data**"
   ]
  },
  {
   "cell_type": "code",
   "execution_count": 4,
   "metadata": {
    "ExecuteTime": {
     "end_time": "2023-07-05T21:25:18.001534300Z",
     "start_time": "2023-07-05T21:25:13.351847700Z"
    },
    "collapsed": false
   },
   "outputs": [
    {
     "data": {
      "text/html": [
       "<div>\n",
       "<style scoped>\n",
       "    .dataframe tbody tr th:only-of-type {\n",
       "        vertical-align: middle;\n",
       "    }\n",
       "\n",
       "    .dataframe tbody tr th {\n",
       "        vertical-align: top;\n",
       "    }\n",
       "\n",
       "    .dataframe thead th {\n",
       "        text-align: right;\n",
       "    }\n",
       "</style>\n",
       "<table border=\"1\" class=\"dataframe\">\n",
       "  <thead>\n",
       "    <tr style=\"text-align: right;\">\n",
       "      <th></th>\n",
       "      <th>ProductKey</th>\n",
       "      <th>ProductSubcategoryKey</th>\n",
       "      <th>ProductSKU</th>\n",
       "      <th>ProductName</th>\n",
       "      <th>ModelName</th>\n",
       "      <th>ProductDescription</th>\n",
       "      <th>ProductColor</th>\n",
       "      <th>ProductSize</th>\n",
       "      <th>ProductStyle</th>\n",
       "      <th>ProductCost</th>\n",
       "      <th>ProductPrice</th>\n",
       "    </tr>\n",
       "  </thead>\n",
       "  <tbody>\n",
       "    <tr>\n",
       "      <th>0</th>\n",
       "      <td>214</td>\n",
       "      <td>31</td>\n",
       "      <td>HL-U509-R</td>\n",
       "      <td>Sport-100 Helmet, Red</td>\n",
       "      <td>Sport-100</td>\n",
       "      <td>Universal fit, well-vented, lightweight , snap...</td>\n",
       "      <td>Red</td>\n",
       "      <td>0</td>\n",
       "      <td>0</td>\n",
       "      <td>13.0863</td>\n",
       "      <td>34.9900</td>\n",
       "    </tr>\n",
       "    <tr>\n",
       "      <th>1</th>\n",
       "      <td>215</td>\n",
       "      <td>31</td>\n",
       "      <td>HL-U509</td>\n",
       "      <td>Sport-100 Helmet, Black</td>\n",
       "      <td>Sport-100</td>\n",
       "      <td>Universal fit, well-vented, lightweight , snap...</td>\n",
       "      <td>Black</td>\n",
       "      <td>0</td>\n",
       "      <td>0</td>\n",
       "      <td>12.0278</td>\n",
       "      <td>33.6442</td>\n",
       "    </tr>\n",
       "    <tr>\n",
       "      <th>2</th>\n",
       "      <td>218</td>\n",
       "      <td>23</td>\n",
       "      <td>SO-B909-M</td>\n",
       "      <td>Mountain Bike Socks, M</td>\n",
       "      <td>Mountain Bike Socks</td>\n",
       "      <td>Combination of natural and synthetic fibers st...</td>\n",
       "      <td>White</td>\n",
       "      <td>M</td>\n",
       "      <td>U</td>\n",
       "      <td>3.3963</td>\n",
       "      <td>9.5000</td>\n",
       "    </tr>\n",
       "    <tr>\n",
       "      <th>3</th>\n",
       "      <td>219</td>\n",
       "      <td>23</td>\n",
       "      <td>SO-B909-L</td>\n",
       "      <td>Mountain Bike Socks, L</td>\n",
       "      <td>Mountain Bike Socks</td>\n",
       "      <td>Combination of natural and synthetic fibers st...</td>\n",
       "      <td>White</td>\n",
       "      <td>L</td>\n",
       "      <td>U</td>\n",
       "      <td>3.3963</td>\n",
       "      <td>9.5000</td>\n",
       "    </tr>\n",
       "    <tr>\n",
       "      <th>4</th>\n",
       "      <td>220</td>\n",
       "      <td>31</td>\n",
       "      <td>HL-U509-B</td>\n",
       "      <td>Sport-100 Helmet, Blue</td>\n",
       "      <td>Sport-100</td>\n",
       "      <td>Universal fit, well-vented, lightweight , snap...</td>\n",
       "      <td>Blue</td>\n",
       "      <td>0</td>\n",
       "      <td>0</td>\n",
       "      <td>12.0278</td>\n",
       "      <td>33.6442</td>\n",
       "    </tr>\n",
       "  </tbody>\n",
       "</table>\n",
       "</div>"
      ],
      "text/plain": [
       "   ProductKey  ProductSubcategoryKey ProductSKU              ProductName  \\\n",
       "0         214                     31  HL-U509-R    Sport-100 Helmet, Red   \n",
       "1         215                     31    HL-U509  Sport-100 Helmet, Black   \n",
       "2         218                     23  SO-B909-M   Mountain Bike Socks, M   \n",
       "3         219                     23  SO-B909-L   Mountain Bike Socks, L   \n",
       "4         220                     31  HL-U509-B   Sport-100 Helmet, Blue   \n",
       "\n",
       "             ModelName                                 ProductDescription  \\\n",
       "0            Sport-100  Universal fit, well-vented, lightweight , snap...   \n",
       "1            Sport-100  Universal fit, well-vented, lightweight , snap...   \n",
       "2  Mountain Bike Socks  Combination of natural and synthetic fibers st...   \n",
       "3  Mountain Bike Socks  Combination of natural and synthetic fibers st...   \n",
       "4            Sport-100  Universal fit, well-vented, lightweight , snap...   \n",
       "\n",
       "  ProductColor ProductSize ProductStyle  ProductCost  ProductPrice  \n",
       "0          Red           0            0      13.0863       34.9900  \n",
       "1        Black           0            0      12.0278       33.6442  \n",
       "2        White           M            U       3.3963        9.5000  \n",
       "3        White           L            U       3.3963        9.5000  \n",
       "4         Blue           0            0      12.0278       33.6442  "
      ]
     },
     "execution_count": 4,
     "metadata": {},
     "output_type": "execute_result"
    }
   ],
   "source": [
    "aw_products = pd.read_csv('AdventureWorks Product Lookup.csv')\n",
    "aw_products.head()"
   ]
  },
  {
   "attachments": {},
   "cell_type": "markdown",
   "metadata": {
    "collapsed": false
   },
   "source": [
    "Description of the products and their attributes are available in this table. Each product is identified by a unique product key.\n"
   ]
  },
  {
   "attachments": {},
   "cell_type": "markdown",
   "metadata": {},
   "source": [
    "### <span style = 'color:orange'>**3.4 Import Product Categories Data**"
   ]
  },
  {
   "cell_type": "code",
   "execution_count": 5,
   "metadata": {
    "ExecuteTime": {
     "end_time": "2023-07-05T21:25:18.177322Z",
     "start_time": "2023-07-05T21:25:13.395729300Z"
    },
    "collapsed": false
   },
   "outputs": [
    {
     "data": {
      "text/html": [
       "<div>\n",
       "<style scoped>\n",
       "    .dataframe tbody tr th:only-of-type {\n",
       "        vertical-align: middle;\n",
       "    }\n",
       "\n",
       "    .dataframe tbody tr th {\n",
       "        vertical-align: top;\n",
       "    }\n",
       "\n",
       "    .dataframe thead th {\n",
       "        text-align: right;\n",
       "    }\n",
       "</style>\n",
       "<table border=\"1\" class=\"dataframe\">\n",
       "  <thead>\n",
       "    <tr style=\"text-align: right;\">\n",
       "      <th></th>\n",
       "      <th>ProductCategoryKey</th>\n",
       "      <th>CategoryName</th>\n",
       "    </tr>\n",
       "  </thead>\n",
       "  <tbody>\n",
       "    <tr>\n",
       "      <th>0</th>\n",
       "      <td>1</td>\n",
       "      <td>Bikes</td>\n",
       "    </tr>\n",
       "    <tr>\n",
       "      <th>1</th>\n",
       "      <td>2</td>\n",
       "      <td>Components</td>\n",
       "    </tr>\n",
       "    <tr>\n",
       "      <th>2</th>\n",
       "      <td>3</td>\n",
       "      <td>Clothing</td>\n",
       "    </tr>\n",
       "    <tr>\n",
       "      <th>3</th>\n",
       "      <td>4</td>\n",
       "      <td>Accessories</td>\n",
       "    </tr>\n",
       "  </tbody>\n",
       "</table>\n",
       "</div>"
      ],
      "text/plain": [
       "   ProductCategoryKey CategoryName\n",
       "0                   1        Bikes\n",
       "1                   2   Components\n",
       "2                   3     Clothing\n",
       "3                   4  Accessories"
      ]
     },
     "execution_count": 5,
     "metadata": {},
     "output_type": "execute_result"
    }
   ],
   "source": [
    "aw_products_categories = pd.read_csv('AdventureWorks Product Categories Lookup.csv')\n",
    "aw_products_categories.head()"
   ]
  },
  {
   "attachments": {},
   "cell_type": "markdown",
   "metadata": {
    "collapsed": false
   },
   "source": [
    "The products are divided into 4 broad categories and each category is identified by a unique product category key."
   ]
  },
  {
   "attachments": {},
   "cell_type": "markdown",
   "metadata": {},
   "source": [
    "### <span style = 'color:orange'>**3.5 Import Product Sub Categories Data**"
   ]
  },
  {
   "cell_type": "code",
   "execution_count": 6,
   "metadata": {
    "ExecuteTime": {
     "end_time": "2023-07-05T21:25:18.177638100Z",
     "start_time": "2023-07-05T21:25:13.426647800Z"
    },
    "collapsed": false
   },
   "outputs": [
    {
     "data": {
      "text/html": [
       "<div>\n",
       "<style scoped>\n",
       "    .dataframe tbody tr th:only-of-type {\n",
       "        vertical-align: middle;\n",
       "    }\n",
       "\n",
       "    .dataframe tbody tr th {\n",
       "        vertical-align: top;\n",
       "    }\n",
       "\n",
       "    .dataframe thead th {\n",
       "        text-align: right;\n",
       "    }\n",
       "</style>\n",
       "<table border=\"1\" class=\"dataframe\">\n",
       "  <thead>\n",
       "    <tr style=\"text-align: right;\">\n",
       "      <th></th>\n",
       "      <th>ProductSubcategoryKey</th>\n",
       "      <th>SubcategoryName</th>\n",
       "      <th>ProductCategoryKey</th>\n",
       "    </tr>\n",
       "  </thead>\n",
       "  <tbody>\n",
       "    <tr>\n",
       "      <th>0</th>\n",
       "      <td>1</td>\n",
       "      <td>Mountain Bikes</td>\n",
       "      <td>1</td>\n",
       "    </tr>\n",
       "    <tr>\n",
       "      <th>1</th>\n",
       "      <td>2</td>\n",
       "      <td>Road Bikes</td>\n",
       "      <td>1</td>\n",
       "    </tr>\n",
       "    <tr>\n",
       "      <th>2</th>\n",
       "      <td>3</td>\n",
       "      <td>Touring Bikes</td>\n",
       "      <td>1</td>\n",
       "    </tr>\n",
       "    <tr>\n",
       "      <th>3</th>\n",
       "      <td>4</td>\n",
       "      <td>Handlebars</td>\n",
       "      <td>2</td>\n",
       "    </tr>\n",
       "    <tr>\n",
       "      <th>4</th>\n",
       "      <td>5</td>\n",
       "      <td>Bottom Brackets</td>\n",
       "      <td>2</td>\n",
       "    </tr>\n",
       "  </tbody>\n",
       "</table>\n",
       "</div>"
      ],
      "text/plain": [
       "   ProductSubcategoryKey  SubcategoryName  ProductCategoryKey\n",
       "0                      1   Mountain Bikes                   1\n",
       "1                      2       Road Bikes                   1\n",
       "2                      3    Touring Bikes                   1\n",
       "3                      4       Handlebars                   2\n",
       "4                      5  Bottom Brackets                   2"
      ]
     },
     "execution_count": 6,
     "metadata": {},
     "output_type": "execute_result"
    }
   ],
   "source": [
    "aw_products_subcategories = pd.read_csv('AdventureWorks Product Subcategories Lookup.csv')\n",
    "aw_products_subcategories.head()"
   ]
  },
  {
   "attachments": {},
   "cell_type": "markdown",
   "metadata": {
    "collapsed": false
   },
   "source": [
    "Each product category has sub category. Each product sub category is identified by a unique product subcategory key."
   ]
  },
  {
   "attachments": {},
   "cell_type": "markdown",
   "metadata": {},
   "source": [
    "### <span style = 'color:orange'>**3.6 Import Sales Data**"
   ]
  },
  {
   "cell_type": "code",
   "execution_count": 7,
   "metadata": {
    "ExecuteTime": {
     "end_time": "2023-07-05T21:25:18.210650600Z",
     "start_time": "2023-07-05T21:25:13.458561500Z"
    },
    "collapsed": false
   },
   "outputs": [],
   "source": [
    "aw_sales_2020 = pd.read_csv('AdventureWorks Sales Data 2020.csv')  # Sales for year 2020\n",
    "aw_sales_2021 = pd.read_csv('AdventureWorks Sales Data 2021.csv')  # Sales for year 2021\n",
    "aw_sales_2022 = pd.read_csv('AdventureWorks Sales Data 2022.csv')  # Sales for year 2022"
   ]
  },
  {
   "cell_type": "code",
   "execution_count": 8,
   "metadata": {
    "ExecuteTime": {
     "end_time": "2023-07-05T21:25:18.284457500Z",
     "start_time": "2023-07-05T21:25:13.585223800Z"
    },
    "collapsed": false
   },
   "outputs": [
    {
     "data": {
      "text/html": [
       "<div>\n",
       "<style scoped>\n",
       "    .dataframe tbody tr th:only-of-type {\n",
       "        vertical-align: middle;\n",
       "    }\n",
       "\n",
       "    .dataframe tbody tr th {\n",
       "        vertical-align: top;\n",
       "    }\n",
       "\n",
       "    .dataframe thead th {\n",
       "        text-align: right;\n",
       "    }\n",
       "</style>\n",
       "<table border=\"1\" class=\"dataframe\">\n",
       "  <thead>\n",
       "    <tr style=\"text-align: right;\">\n",
       "      <th></th>\n",
       "      <th>OrderDate</th>\n",
       "      <th>StockDate</th>\n",
       "      <th>OrderNumber</th>\n",
       "      <th>ProductKey</th>\n",
       "      <th>CustomerKey</th>\n",
       "      <th>TerritoryKey</th>\n",
       "      <th>OrderLineItem</th>\n",
       "      <th>OrderQuantity</th>\n",
       "    </tr>\n",
       "  </thead>\n",
       "  <tbody>\n",
       "    <tr>\n",
       "      <th>0</th>\n",
       "      <td>2022-01-01</td>\n",
       "      <td>2021-12-13</td>\n",
       "      <td>SO61285</td>\n",
       "      <td>529</td>\n",
       "      <td>23791</td>\n",
       "      <td>1</td>\n",
       "      <td>2</td>\n",
       "      <td>2</td>\n",
       "    </tr>\n",
       "    <tr>\n",
       "      <th>1</th>\n",
       "      <td>2022-01-01</td>\n",
       "      <td>2021-09-24</td>\n",
       "      <td>SO61285</td>\n",
       "      <td>214</td>\n",
       "      <td>23791</td>\n",
       "      <td>1</td>\n",
       "      <td>3</td>\n",
       "      <td>1</td>\n",
       "    </tr>\n",
       "    <tr>\n",
       "      <th>2</th>\n",
       "      <td>2022-01-01</td>\n",
       "      <td>2021-09-04</td>\n",
       "      <td>SO61285</td>\n",
       "      <td>540</td>\n",
       "      <td>23791</td>\n",
       "      <td>1</td>\n",
       "      <td>1</td>\n",
       "      <td>1</td>\n",
       "    </tr>\n",
       "    <tr>\n",
       "      <th>3</th>\n",
       "      <td>2022-01-01</td>\n",
       "      <td>2021-09-28</td>\n",
       "      <td>SO61301</td>\n",
       "      <td>529</td>\n",
       "      <td>16747</td>\n",
       "      <td>1</td>\n",
       "      <td>2</td>\n",
       "      <td>2</td>\n",
       "    </tr>\n",
       "    <tr>\n",
       "      <th>4</th>\n",
       "      <td>2022-01-01</td>\n",
       "      <td>2021-10-21</td>\n",
       "      <td>SO61301</td>\n",
       "      <td>377</td>\n",
       "      <td>16747</td>\n",
       "      <td>1</td>\n",
       "      <td>1</td>\n",
       "      <td>1</td>\n",
       "    </tr>\n",
       "  </tbody>\n",
       "</table>\n",
       "</div>"
      ],
      "text/plain": [
       "    OrderDate   StockDate OrderNumber  ProductKey  CustomerKey  TerritoryKey  \\\n",
       "0  2022-01-01  2021-12-13     SO61285         529        23791             1   \n",
       "1  2022-01-01  2021-09-24     SO61285         214        23791             1   \n",
       "2  2022-01-01  2021-09-04     SO61285         540        23791             1   \n",
       "3  2022-01-01  2021-09-28     SO61301         529        16747             1   \n",
       "4  2022-01-01  2021-10-21     SO61301         377        16747             1   \n",
       "\n",
       "   OrderLineItem  OrderQuantity  \n",
       "0              2              2  \n",
       "1              3              1  \n",
       "2              1              1  \n",
       "3              2              2  \n",
       "4              1              1  "
      ]
     },
     "execution_count": 8,
     "metadata": {},
     "output_type": "execute_result"
    }
   ],
   "source": [
    "aw_sales_2022.head()"
   ]
  },
  {
   "attachments": {},
   "cell_type": "markdown",
   "metadata": {
    "collapsed": false
   },
   "source": [
    "The above tables contain sales information for year 2020, 2021 and 2022."
   ]
  },
  {
   "attachments": {},
   "cell_type": "markdown",
   "metadata": {},
   "source": [
    "### <span style = 'color:orange'>**3.7 Import Product Returns Data**"
   ]
  },
  {
   "cell_type": "code",
   "execution_count": 9,
   "metadata": {
    "ExecuteTime": {
     "end_time": "2023-07-05T21:25:18.285452300Z",
     "start_time": "2023-07-05T21:25:13.615671700Z"
    },
    "collapsed": false
   },
   "outputs": [
    {
     "data": {
      "text/html": [
       "<div>\n",
       "<style scoped>\n",
       "    .dataframe tbody tr th:only-of-type {\n",
       "        vertical-align: middle;\n",
       "    }\n",
       "\n",
       "    .dataframe tbody tr th {\n",
       "        vertical-align: top;\n",
       "    }\n",
       "\n",
       "    .dataframe thead th {\n",
       "        text-align: right;\n",
       "    }\n",
       "</style>\n",
       "<table border=\"1\" class=\"dataframe\">\n",
       "  <thead>\n",
       "    <tr style=\"text-align: right;\">\n",
       "      <th></th>\n",
       "      <th>ReturnDate</th>\n",
       "      <th>TerritoryKey</th>\n",
       "      <th>ProductKey</th>\n",
       "      <th>ReturnQuantity</th>\n",
       "    </tr>\n",
       "  </thead>\n",
       "  <tbody>\n",
       "    <tr>\n",
       "      <th>0</th>\n",
       "      <td>2020-01-18</td>\n",
       "      <td>9</td>\n",
       "      <td>312</td>\n",
       "      <td>1</td>\n",
       "    </tr>\n",
       "    <tr>\n",
       "      <th>1</th>\n",
       "      <td>2020-01-18</td>\n",
       "      <td>10</td>\n",
       "      <td>310</td>\n",
       "      <td>1</td>\n",
       "    </tr>\n",
       "    <tr>\n",
       "      <th>2</th>\n",
       "      <td>2020-01-21</td>\n",
       "      <td>8</td>\n",
       "      <td>346</td>\n",
       "      <td>1</td>\n",
       "    </tr>\n",
       "    <tr>\n",
       "      <th>3</th>\n",
       "      <td>2020-01-22</td>\n",
       "      <td>4</td>\n",
       "      <td>311</td>\n",
       "      <td>1</td>\n",
       "    </tr>\n",
       "    <tr>\n",
       "      <th>4</th>\n",
       "      <td>2020-02-02</td>\n",
       "      <td>6</td>\n",
       "      <td>312</td>\n",
       "      <td>1</td>\n",
       "    </tr>\n",
       "  </tbody>\n",
       "</table>\n",
       "</div>"
      ],
      "text/plain": [
       "   ReturnDate  TerritoryKey  ProductKey  ReturnQuantity\n",
       "0  2020-01-18             9         312               1\n",
       "1  2020-01-18            10         310               1\n",
       "2  2020-01-21             8         346               1\n",
       "3  2020-01-22             4         311               1\n",
       "4  2020-02-02             6         312               1"
      ]
     },
     "execution_count": 9,
     "metadata": {},
     "output_type": "execute_result"
    }
   ],
   "source": [
    "aw_returns = pd.read_csv('AdventureWorks Returns Data.csv')\n",
    "aw_returns.head()"
   ]
  },
  {
   "attachments": {},
   "cell_type": "markdown",
   "metadata": {
    "collapsed": false
   },
   "source": [
    "The above table contains information about the products returned by the customers."
   ]
  },
  {
   "attachments": {},
   "cell_type": "markdown",
   "metadata": {
    "collapsed": false
   },
   "source": [
    "# <span style = 'color:green'>**4. Data Preprocessing and Cleaning**"
   ]
  },
  {
   "attachments": {},
   "cell_type": "markdown",
   "metadata": {
    "collapsed": false
   },
   "source": [
    "### <span style = 'color:orange'>**4.1 Concatenating Sales 2020, Sales 2021 and Sales 2022 Tables**"
   ]
  },
  {
   "cell_type": "code",
   "execution_count": 10,
   "metadata": {
    "ExecuteTime": {
     "end_time": "2023-07-05T21:25:18.330907600Z",
     "start_time": "2023-07-05T21:25:13.667533Z"
    },
    "collapsed": false
   },
   "outputs": [
    {
     "data": {
      "text/html": [
       "<div>\n",
       "<style scoped>\n",
       "    .dataframe tbody tr th:only-of-type {\n",
       "        vertical-align: middle;\n",
       "    }\n",
       "\n",
       "    .dataframe tbody tr th {\n",
       "        vertical-align: top;\n",
       "    }\n",
       "\n",
       "    .dataframe thead th {\n",
       "        text-align: right;\n",
       "    }\n",
       "</style>\n",
       "<table border=\"1\" class=\"dataframe\">\n",
       "  <thead>\n",
       "    <tr style=\"text-align: right;\">\n",
       "      <th></th>\n",
       "      <th>OrderDate</th>\n",
       "      <th>StockDate</th>\n",
       "      <th>OrderNumber</th>\n",
       "      <th>ProductKey</th>\n",
       "      <th>CustomerKey</th>\n",
       "      <th>TerritoryKey</th>\n",
       "      <th>OrderLineItem</th>\n",
       "      <th>OrderQuantity</th>\n",
       "    </tr>\n",
       "  </thead>\n",
       "  <tbody>\n",
       "    <tr>\n",
       "      <th>0</th>\n",
       "      <td>2020-01-01</td>\n",
       "      <td>2019-09-21</td>\n",
       "      <td>SO45080</td>\n",
       "      <td>332</td>\n",
       "      <td>14657</td>\n",
       "      <td>1</td>\n",
       "      <td>1</td>\n",
       "      <td>1</td>\n",
       "    </tr>\n",
       "    <tr>\n",
       "      <th>1</th>\n",
       "      <td>2020-01-01</td>\n",
       "      <td>2019-12-05</td>\n",
       "      <td>SO45079</td>\n",
       "      <td>312</td>\n",
       "      <td>29255</td>\n",
       "      <td>4</td>\n",
       "      <td>1</td>\n",
       "      <td>1</td>\n",
       "    </tr>\n",
       "    <tr>\n",
       "      <th>2</th>\n",
       "      <td>2020-01-01</td>\n",
       "      <td>2019-10-29</td>\n",
       "      <td>SO45082</td>\n",
       "      <td>350</td>\n",
       "      <td>11455</td>\n",
       "      <td>9</td>\n",
       "      <td>1</td>\n",
       "      <td>1</td>\n",
       "    </tr>\n",
       "    <tr>\n",
       "      <th>3</th>\n",
       "      <td>2020-01-01</td>\n",
       "      <td>2019-11-16</td>\n",
       "      <td>SO45081</td>\n",
       "      <td>338</td>\n",
       "      <td>26782</td>\n",
       "      <td>6</td>\n",
       "      <td>1</td>\n",
       "      <td>1</td>\n",
       "    </tr>\n",
       "    <tr>\n",
       "      <th>4</th>\n",
       "      <td>2020-01-02</td>\n",
       "      <td>2019-12-15</td>\n",
       "      <td>SO45083</td>\n",
       "      <td>312</td>\n",
       "      <td>14947</td>\n",
       "      <td>10</td>\n",
       "      <td>1</td>\n",
       "      <td>1</td>\n",
       "    </tr>\n",
       "  </tbody>\n",
       "</table>\n",
       "</div>"
      ],
      "text/plain": [
       "    OrderDate   StockDate OrderNumber  ProductKey  CustomerKey  TerritoryKey  \\\n",
       "0  2020-01-01  2019-09-21     SO45080         332        14657             1   \n",
       "1  2020-01-01  2019-12-05     SO45079         312        29255             4   \n",
       "2  2020-01-01  2019-10-29     SO45082         350        11455             9   \n",
       "3  2020-01-01  2019-11-16     SO45081         338        26782             6   \n",
       "4  2020-01-02  2019-12-15     SO45083         312        14947            10   \n",
       "\n",
       "   OrderLineItem  OrderQuantity  \n",
       "0              1              1  \n",
       "1              1              1  \n",
       "2              1              1  \n",
       "3              1              1  \n",
       "4              1              1  "
      ]
     },
     "execution_count": 10,
     "metadata": {},
     "output_type": "execute_result"
    }
   ],
   "source": [
    "aw_sales = pd.concat(objs=[aw_sales_2020,aw_sales_2021,aw_sales_2022],axis=0,ignore_index=True)\n",
    "aw_sales.head()  # Sales table containing all years data"
   ]
  },
  {
   "attachments": {},
   "cell_type": "markdown",
   "metadata": {
    "collapsed": false
   },
   "source": [
    "### <span style = 'color:orange'>**4.2 Joining Sales Table and Territory Table**"
   ]
  },
  {
   "cell_type": "code",
   "execution_count": 11,
   "metadata": {
    "ExecuteTime": {
     "end_time": "2023-07-05T21:25:18.433730700Z",
     "start_time": "2023-07-05T21:25:13.705526500Z"
    },
    "collapsed": false
   },
   "outputs": [
    {
     "data": {
      "text/html": [
       "<div>\n",
       "<style scoped>\n",
       "    .dataframe tbody tr th:only-of-type {\n",
       "        vertical-align: middle;\n",
       "    }\n",
       "\n",
       "    .dataframe tbody tr th {\n",
       "        vertical-align: top;\n",
       "    }\n",
       "\n",
       "    .dataframe thead th {\n",
       "        text-align: right;\n",
       "    }\n",
       "</style>\n",
       "<table border=\"1\" class=\"dataframe\">\n",
       "  <thead>\n",
       "    <tr style=\"text-align: right;\">\n",
       "      <th></th>\n",
       "      <th>OrderDate</th>\n",
       "      <th>StockDate</th>\n",
       "      <th>OrderNumber</th>\n",
       "      <th>ProductKey</th>\n",
       "      <th>CustomerKey</th>\n",
       "      <th>OrderLineItem</th>\n",
       "      <th>OrderQuantity</th>\n",
       "      <th>Region</th>\n",
       "      <th>Country</th>\n",
       "      <th>Continent</th>\n",
       "    </tr>\n",
       "  </thead>\n",
       "  <tbody>\n",
       "    <tr>\n",
       "      <th>0</th>\n",
       "      <td>2020-01-01</td>\n",
       "      <td>2019-09-21</td>\n",
       "      <td>SO45080</td>\n",
       "      <td>332</td>\n",
       "      <td>14657</td>\n",
       "      <td>1</td>\n",
       "      <td>1</td>\n",
       "      <td>Northwest</td>\n",
       "      <td>United States</td>\n",
       "      <td>North America</td>\n",
       "    </tr>\n",
       "    <tr>\n",
       "      <th>1</th>\n",
       "      <td>2020-01-04</td>\n",
       "      <td>2019-09-15</td>\n",
       "      <td>SO45098</td>\n",
       "      <td>310</td>\n",
       "      <td>29167</td>\n",
       "      <td>1</td>\n",
       "      <td>1</td>\n",
       "      <td>Northwest</td>\n",
       "      <td>United States</td>\n",
       "      <td>North America</td>\n",
       "    </tr>\n",
       "    <tr>\n",
       "      <th>2</th>\n",
       "      <td>2020-01-04</td>\n",
       "      <td>2019-12-20</td>\n",
       "      <td>SO45099</td>\n",
       "      <td>312</td>\n",
       "      <td>29174</td>\n",
       "      <td>1</td>\n",
       "      <td>1</td>\n",
       "      <td>Northwest</td>\n",
       "      <td>United States</td>\n",
       "      <td>North America</td>\n",
       "    </tr>\n",
       "    <tr>\n",
       "      <th>3</th>\n",
       "      <td>2020-01-06</td>\n",
       "      <td>2019-09-24</td>\n",
       "      <td>SO45103</td>\n",
       "      <td>310</td>\n",
       "      <td>29140</td>\n",
       "      <td>1</td>\n",
       "      <td>1</td>\n",
       "      <td>Northwest</td>\n",
       "      <td>United States</td>\n",
       "      <td>North America</td>\n",
       "    </tr>\n",
       "    <tr>\n",
       "      <th>4</th>\n",
       "      <td>2020-01-08</td>\n",
       "      <td>2019-11-21</td>\n",
       "      <td>SO45117</td>\n",
       "      <td>342</td>\n",
       "      <td>14727</td>\n",
       "      <td>1</td>\n",
       "      <td>1</td>\n",
       "      <td>Northwest</td>\n",
       "      <td>United States</td>\n",
       "      <td>North America</td>\n",
       "    </tr>\n",
       "  </tbody>\n",
       "</table>\n",
       "</div>"
      ],
      "text/plain": [
       "    OrderDate   StockDate OrderNumber  ProductKey  CustomerKey  OrderLineItem  \\\n",
       "0  2020-01-01  2019-09-21     SO45080         332        14657              1   \n",
       "1  2020-01-04  2019-09-15     SO45098         310        29167              1   \n",
       "2  2020-01-04  2019-12-20     SO45099         312        29174              1   \n",
       "3  2020-01-06  2019-09-24     SO45103         310        29140              1   \n",
       "4  2020-01-08  2019-11-21     SO45117         342        14727              1   \n",
       "\n",
       "   OrderQuantity     Region        Country      Continent  \n",
       "0              1  Northwest  United States  North America  \n",
       "1              1  Northwest  United States  North America  \n",
       "2              1  Northwest  United States  North America  \n",
       "3              1  Northwest  United States  North America  \n",
       "4              1  Northwest  United States  North America  "
      ]
     },
     "execution_count": 11,
     "metadata": {},
     "output_type": "execute_result"
    }
   ],
   "source": [
    "aw_sales = aw_sales.merge(aw_territories,left_on='TerritoryKey',right_on='SalesTerritoryKey',how='inner').drop(['TerritoryKey','SalesTerritoryKey'],axis=1)\n",
    "aw_sales.head()"
   ]
  },
  {
   "attachments": {},
   "cell_type": "markdown",
   "metadata": {
    "collapsed": false
   },
   "source": [
    "### <span style = 'color:orange'>**4.3 Joining Products, Products Category and Products Subcategory Table**"
   ]
  },
  {
   "cell_type": "code",
   "execution_count": 12,
   "metadata": {
    "ExecuteTime": {
     "end_time": "2023-07-05T21:25:18.434853700Z",
     "start_time": "2023-07-05T21:25:13.784315400Z"
    },
    "collapsed": false
   },
   "outputs": [],
   "source": [
    "aw_products = aw_products.merge(aw_products_subcategories,on='ProductSubcategoryKey',how='inner').merge(aw_products_categories,on='ProductCategoryKey',how='inner')"
   ]
  },
  {
   "cell_type": "code",
   "execution_count": 13,
   "metadata": {
    "ExecuteTime": {
     "end_time": "2023-07-05T21:25:18.435723100Z",
     "start_time": "2023-07-05T21:25:13.817227200Z"
    },
    "collapsed": false
   },
   "outputs": [
    {
     "data": {
      "text/html": [
       "<div>\n",
       "<style scoped>\n",
       "    .dataframe tbody tr th:only-of-type {\n",
       "        vertical-align: middle;\n",
       "    }\n",
       "\n",
       "    .dataframe tbody tr th {\n",
       "        vertical-align: top;\n",
       "    }\n",
       "\n",
       "    .dataframe thead th {\n",
       "        text-align: right;\n",
       "    }\n",
       "</style>\n",
       "<table border=\"1\" class=\"dataframe\">\n",
       "  <thead>\n",
       "    <tr style=\"text-align: right;\">\n",
       "      <th></th>\n",
       "      <th>ProductKey</th>\n",
       "      <th>ProductSKU</th>\n",
       "      <th>ProductName</th>\n",
       "      <th>ModelName</th>\n",
       "      <th>ProductDescription</th>\n",
       "      <th>ProductColor</th>\n",
       "      <th>ProductSize</th>\n",
       "      <th>ProductStyle</th>\n",
       "      <th>ProductCost</th>\n",
       "      <th>ProductPrice</th>\n",
       "      <th>SubcategoryName</th>\n",
       "      <th>CategoryName</th>\n",
       "    </tr>\n",
       "  </thead>\n",
       "  <tbody>\n",
       "    <tr>\n",
       "      <th>0</th>\n",
       "      <td>214</td>\n",
       "      <td>HL-U509-R</td>\n",
       "      <td>Sport-100 Helmet, Red</td>\n",
       "      <td>Sport-100</td>\n",
       "      <td>Universal fit, well-vented, lightweight , snap...</td>\n",
       "      <td>Red</td>\n",
       "      <td>0</td>\n",
       "      <td>0</td>\n",
       "      <td>13.0863</td>\n",
       "      <td>34.9900</td>\n",
       "      <td>Helmets</td>\n",
       "      <td>Accessories</td>\n",
       "    </tr>\n",
       "    <tr>\n",
       "      <th>1</th>\n",
       "      <td>215</td>\n",
       "      <td>HL-U509</td>\n",
       "      <td>Sport-100 Helmet, Black</td>\n",
       "      <td>Sport-100</td>\n",
       "      <td>Universal fit, well-vented, lightweight , snap...</td>\n",
       "      <td>Black</td>\n",
       "      <td>0</td>\n",
       "      <td>0</td>\n",
       "      <td>12.0278</td>\n",
       "      <td>33.6442</td>\n",
       "      <td>Helmets</td>\n",
       "      <td>Accessories</td>\n",
       "    </tr>\n",
       "    <tr>\n",
       "      <th>2</th>\n",
       "      <td>220</td>\n",
       "      <td>HL-U509-B</td>\n",
       "      <td>Sport-100 Helmet, Blue</td>\n",
       "      <td>Sport-100</td>\n",
       "      <td>Universal fit, well-vented, lightweight , snap...</td>\n",
       "      <td>Blue</td>\n",
       "      <td>0</td>\n",
       "      <td>0</td>\n",
       "      <td>12.0278</td>\n",
       "      <td>33.6442</td>\n",
       "      <td>Helmets</td>\n",
       "      <td>Accessories</td>\n",
       "    </tr>\n",
       "    <tr>\n",
       "      <th>3</th>\n",
       "      <td>446</td>\n",
       "      <td>PA-T100</td>\n",
       "      <td>Touring-Panniers, Large</td>\n",
       "      <td>Touring-Panniers</td>\n",
       "      <td>Durable, water-proof nylon construction with e...</td>\n",
       "      <td>Grey</td>\n",
       "      <td>0</td>\n",
       "      <td>0</td>\n",
       "      <td>51.5625</td>\n",
       "      <td>125.0000</td>\n",
       "      <td>Panniers</td>\n",
       "      <td>Accessories</td>\n",
       "    </tr>\n",
       "    <tr>\n",
       "      <th>4</th>\n",
       "      <td>447</td>\n",
       "      <td>LO-C100</td>\n",
       "      <td>Cable Lock</td>\n",
       "      <td>Cable Lock</td>\n",
       "      <td>Wraps to fit front and rear tires, carrier and...</td>\n",
       "      <td>NaN</td>\n",
       "      <td>0</td>\n",
       "      <td>0</td>\n",
       "      <td>10.3125</td>\n",
       "      <td>25.0000</td>\n",
       "      <td>Locks</td>\n",
       "      <td>Accessories</td>\n",
       "    </tr>\n",
       "  </tbody>\n",
       "</table>\n",
       "</div>"
      ],
      "text/plain": [
       "   ProductKey ProductSKU              ProductName         ModelName  \\\n",
       "0         214  HL-U509-R    Sport-100 Helmet, Red         Sport-100   \n",
       "1         215    HL-U509  Sport-100 Helmet, Black         Sport-100   \n",
       "2         220  HL-U509-B   Sport-100 Helmet, Blue         Sport-100   \n",
       "3         446    PA-T100  Touring-Panniers, Large  Touring-Panniers   \n",
       "4         447    LO-C100               Cable Lock        Cable Lock   \n",
       "\n",
       "                                  ProductDescription ProductColor ProductSize  \\\n",
       "0  Universal fit, well-vented, lightweight , snap...          Red           0   \n",
       "1  Universal fit, well-vented, lightweight , snap...        Black           0   \n",
       "2  Universal fit, well-vented, lightweight , snap...         Blue           0   \n",
       "3  Durable, water-proof nylon construction with e...         Grey           0   \n",
       "4  Wraps to fit front and rear tires, carrier and...          NaN           0   \n",
       "\n",
       "  ProductStyle  ProductCost  ProductPrice SubcategoryName CategoryName  \n",
       "0            0      13.0863       34.9900         Helmets  Accessories  \n",
       "1            0      12.0278       33.6442         Helmets  Accessories  \n",
       "2            0      12.0278       33.6442         Helmets  Accessories  \n",
       "3            0      51.5625      125.0000        Panniers  Accessories  \n",
       "4            0      10.3125       25.0000           Locks  Accessories  "
      ]
     },
     "execution_count": 13,
     "metadata": {},
     "output_type": "execute_result"
    }
   ],
   "source": [
    "# Dropping Product Category Key and Product Sub Category Key Columns from the Products Table\n",
    "\n",
    "aw_products.drop(['ProductCategoryKey','ProductSubcategoryKey'],axis=1,inplace=True)\n",
    "aw_products.head()"
   ]
  },
  {
   "attachments": {},
   "cell_type": "markdown",
   "metadata": {
    "collapsed": false
   },
   "source": [
    "### <span style = 'color:orange'>**4.4 Handling Null Values**"
   ]
  },
  {
   "cell_type": "code",
   "execution_count": 14,
   "metadata": {
    "ExecuteTime": {
     "end_time": "2023-07-05T21:25:18.436721500Z",
     "start_time": "2023-07-05T21:25:13.863105Z"
    },
    "collapsed": false
   },
   "outputs": [],
   "source": [
    "def pct_values_missing(df):\n",
    "    \"\"\"Defining a function to calculate percent values missing in each column of the dataframe and reporting it in a bar plot\"\"\"\n",
    "    pct_missing = (df.isnull().sum()/df.size).sort_values(ascending=False)*100\n",
    "    return pct_missing.plot(kind='bar')"
   ]
  },
  {
   "cell_type": "code",
   "execution_count": 15,
   "metadata": {
    "ExecuteTime": {
     "end_time": "2023-07-05T21:25:19.311042900Z",
     "start_time": "2023-07-05T21:25:13.876069200Z"
    },
    "collapsed": false
   },
   "outputs": [
    {
     "data": {
      "image/png": "[encoded data removed]",
      "text/plain": [
       "<Figure size 640x480 with 1 Axes>"
      ]
     },
     "metadata": {},
     "output_type": "display_data"
    }
   ],
   "source": [
    "pct_values_missing(aw_customers)\n",
    "plt.title('Pct Missing Values for Customers Table');"
   ]
  },
  {
   "cell_type": "code",
   "execution_count": 16,
   "metadata": {
    "ExecuteTime": {
     "end_time": "2023-07-05T21:25:19.314004300Z",
     "start_time": "2023-07-05T21:25:14.691501900Z"
    },
    "collapsed": false
   },
   "outputs": [
    {
     "data": {
      "image/png": "[encoded data removed]",
      "text/plain": [
       "<Figure size 640x480 with 1 Axes>"
      ]
     },
     "metadata": {},
     "output_type": "display_data"
    }
   ],
   "source": [
    "pct_values_missing(aw_sales)\n",
    "plt.title('Pct Missing Values for Sales Table');"
   ]
  },
  {
   "cell_type": "code",
   "execution_count": 17,
   "metadata": {
    "ExecuteTime": {
     "end_time": "2023-07-05T21:25:19.317554900Z",
     "start_time": "2023-07-05T21:25:15.220549600Z"
    },
    "collapsed": false
   },
   "outputs": [
    {
     "data": {
      "image/png": "[encoded data removed]",
      "text/plain": [
       "<Figure size 640x480 with 1 Axes>"
      ]
     },
     "metadata": {},
     "output_type": "display_data"
    }
   ],
   "source": [
    "pct_values_missing(aw_products)\n",
    "plt.title('Pct Missing Values for Products Table');"
   ]
  },
  {
   "cell_type": "code",
   "execution_count": 18,
   "metadata": {
    "ExecuteTime": {
     "end_time": "2023-07-05T21:25:19.318993300Z",
     "start_time": "2023-07-05T21:25:15.841351900Z"
    },
    "collapsed": false
   },
   "outputs": [
    {
     "data": {
      "image/png": "[encoded data removed]",
      "text/plain": [
       "<Figure size 640x480 with 1 Axes>"
      ]
     },
     "metadata": {},
     "output_type": "display_data"
    }
   ],
   "source": [
    "pct_values_missing(aw_returns)\n",
    "plt.title('Pct Missing Values for Returns Table');"
   ]
  },
  {
   "attachments": {},
   "cell_type": "markdown",
   "metadata": {
    "collapsed": false
   },
   "source": [
    "There are null values present in Customers Table and Products Table. The percent missing values are less than 1% for each column. However, exploring to fill the missing values to not loose any sales information."
   ]
  },
  {
   "cell_type": "code",
   "execution_count": 19,
   "metadata": {
    "ExecuteTime": {
     "end_time": "2023-07-05T21:25:19.319992900Z",
     "start_time": "2023-07-05T21:25:16.231288700Z"
    },
    "collapsed": false
   },
   "outputs": [
    {
     "name": "stdout",
     "output_type": "stream",
     "text": [
      "Total Null Values: 327\n",
      "Total Null Values After Dropping Rows: 314\n"
     ]
    }
   ],
   "source": [
    "# Dropping rows which has all values as null in customers table\n",
    "print(f'Total Null Values: {aw_customers.isnull().sum().sum()}')  # Displaying total number of null values\n",
    "aw_customers.dropna(how='all',inplace=True)\n",
    "print(f'Total Null Values After Dropping Rows: {aw_customers.isnull().sum().sum()}')"
   ]
  },
  {
   "cell_type": "code",
   "execution_count": 20,
   "metadata": {
    "ExecuteTime": {
     "end_time": "2023-07-05T21:25:19.359885500Z",
     "start_time": "2023-07-05T21:25:16.290134100Z"
    },
    "collapsed": false
   },
   "outputs": [
    {
     "data": {
      "image/png": "[encoded data removed]",
      "text/plain": [
       "<Figure size 640x480 with 1 Axes>"
      ]
     },
     "metadata": {},
     "output_type": "display_data"
    }
   ],
   "source": [
    "pct_values_missing(aw_customers);"
   ]
  },
  {
   "cell_type": "code",
   "execution_count": 21,
   "metadata": {
    "ExecuteTime": {
     "end_time": "2023-07-05T21:25:19.360882900Z",
     "start_time": "2023-07-05T21:25:16.901256300Z"
    },
    "collapsed": false
   },
   "outputs": [
    {
     "data": {
      "text/html": [
       "<div>\n",
       "<style scoped>\n",
       "    .dataframe tbody tr th:only-of-type {\n",
       "        vertical-align: middle;\n",
       "    }\n",
       "\n",
       "    .dataframe tbody tr th {\n",
       "        vertical-align: top;\n",
       "    }\n",
       "\n",
       "    .dataframe thead th {\n",
       "        text-align: right;\n",
       "    }\n",
       "</style>\n",
       "<table border=\"1\" class=\"dataframe\">\n",
       "  <thead>\n",
       "    <tr style=\"text-align: right;\">\n",
       "      <th></th>\n",
       "      <th>CustomerKey</th>\n",
       "      <th>Prefix</th>\n",
       "      <th>FirstName</th>\n",
       "      <th>LastName</th>\n",
       "      <th>BirthDate</th>\n",
       "      <th>MaritalStatus</th>\n",
       "      <th>Gender</th>\n",
       "      <th>EmailAddress</th>\n",
       "      <th>AnnualIncome</th>\n",
       "      <th>TotalChildren</th>\n",
       "      <th>EducationLevel</th>\n",
       "      <th>Occupation</th>\n",
       "      <th>HomeOwner</th>\n",
       "    </tr>\n",
       "  </thead>\n",
       "  <tbody>\n",
       "    <tr>\n",
       "      <th>24</th>\n",
       "      <td>11025</td>\n",
       "      <td>NaN</td>\n",
       "      <td>ALEJANDRO</td>\n",
       "      <td>BECK</td>\n",
       "      <td>1945-12-23</td>\n",
       "      <td>M</td>\n",
       "      <td>NaN</td>\n",
       "      <td>alejandro45@adventure-works.com</td>\n",
       "      <td>10000.0</td>\n",
       "      <td>2.0</td>\n",
       "      <td>Partial High School</td>\n",
       "      <td>Clerical</td>\n",
       "      <td>Y</td>\n",
       "    </tr>\n",
       "    <tr>\n",
       "      <th>34</th>\n",
       "      <td>11035</td>\n",
       "      <td>NaN</td>\n",
       "      <td>WENDY</td>\n",
       "      <td>DOMINGUEZ</td>\n",
       "      <td>1948-02-24</td>\n",
       "      <td>M</td>\n",
       "      <td>NaN</td>\n",
       "      <td>wendy12@adventure-works.com</td>\n",
       "      <td>10000.0</td>\n",
       "      <td>2.0</td>\n",
       "      <td>Partial High School</td>\n",
       "      <td>Clerical</td>\n",
       "      <td>Y</td>\n",
       "    </tr>\n",
       "    <tr>\n",
       "      <th>81</th>\n",
       "      <td>11082</td>\n",
       "      <td>NaN</td>\n",
       "      <td>ANGELA</td>\n",
       "      <td>BUTLER</td>\n",
       "      <td>1966-08-04</td>\n",
       "      <td>S</td>\n",
       "      <td>NaN</td>\n",
       "      <td>angela17@adventure-works.com</td>\n",
       "      <td>130000.0</td>\n",
       "      <td>0.0</td>\n",
       "      <td>Graduate Degree</td>\n",
       "      <td>Management</td>\n",
       "      <td>N</td>\n",
       "    </tr>\n",
       "    <tr>\n",
       "      <th>228</th>\n",
       "      <td>11234</td>\n",
       "      <td>NaN</td>\n",
       "      <td>ANNA</td>\n",
       "      <td>GRIFFIN</td>\n",
       "      <td>1952-11-19</td>\n",
       "      <td>S</td>\n",
       "      <td>NaN</td>\n",
       "      <td>anna46@adventure-works.com</td>\n",
       "      <td>70000.0</td>\n",
       "      <td>4.0</td>\n",
       "      <td>Partial College</td>\n",
       "      <td>Professional</td>\n",
       "      <td>Y</td>\n",
       "    </tr>\n",
       "    <tr>\n",
       "      <th>464</th>\n",
       "      <td>11475</td>\n",
       "      <td>NaN</td>\n",
       "      <td>CESAR</td>\n",
       "      <td>SUBRAM</td>\n",
       "      <td>1978-10-09</td>\n",
       "      <td>S</td>\n",
       "      <td>NaN</td>\n",
       "      <td>cesar12@adventure-works.com</td>\n",
       "      <td>30000.0</td>\n",
       "      <td>0.0</td>\n",
       "      <td>High School</td>\n",
       "      <td>Manual</td>\n",
       "      <td>N</td>\n",
       "    </tr>\n",
       "    <tr>\n",
       "      <th>...</th>\n",
       "      <td>...</td>\n",
       "      <td>...</td>\n",
       "      <td>...</td>\n",
       "      <td>...</td>\n",
       "      <td>...</td>\n",
       "      <td>...</td>\n",
       "      <td>...</td>\n",
       "      <td>...</td>\n",
       "      <td>...</td>\n",
       "      <td>...</td>\n",
       "      <td>...</td>\n",
       "      <td>...</td>\n",
       "      <td>...</td>\n",
       "    </tr>\n",
       "    <tr>\n",
       "      <th>18148</th>\n",
       "      <td>30---</td>\n",
       "      <td>m</td>\n",
       "      <td>NaN</td>\n",
       "      <td>NaN</td>\n",
       "      <td>1900-01-01</td>\n",
       "      <td>NaN</td>\n",
       "      <td>NaN</td>\n",
       "      <td>NaN</td>\n",
       "      <td>NaN</td>\n",
       "      <td>NaN</td>\n",
       "      <td>NaN</td>\n",
       "      <td>NaN</td>\n",
       "      <td>NaN</td>\n",
       "    </tr>\n",
       "    <tr>\n",
       "      <th>18149</th>\n",
       "      <td>30---</td>\n",
       "      <td>m</td>\n",
       "      <td>NaN</td>\n",
       "      <td>NaN</td>\n",
       "      <td>1900-01-01</td>\n",
       "      <td>NaN</td>\n",
       "      <td>NaN</td>\n",
       "      <td>NaN</td>\n",
       "      <td>NaN</td>\n",
       "      <td>NaN</td>\n",
       "      <td>NaN</td>\n",
       "      <td>NaN</td>\n",
       "      <td>NaN</td>\n",
       "    </tr>\n",
       "    <tr>\n",
       "      <th>18150</th>\n",
       "      <td>30---</td>\n",
       "      <td>m</td>\n",
       "      <td>NaN</td>\n",
       "      <td>NaN</td>\n",
       "      <td>1900-01-01</td>\n",
       "      <td>NaN</td>\n",
       "      <td>NaN</td>\n",
       "      <td>NaN</td>\n",
       "      <td>NaN</td>\n",
       "      <td>NaN</td>\n",
       "      <td>NaN</td>\n",
       "      <td>NaN</td>\n",
       "      <td>NaN</td>\n",
       "    </tr>\n",
       "    <tr>\n",
       "      <th>18152</th>\n",
       "      <td>Export date 20230101 14:59:17</td>\n",
       "      <td>NaN</td>\n",
       "      <td>NaN</td>\n",
       "      <td>NaN</td>\n",
       "      <td>NaN</td>\n",
       "      <td>NaN</td>\n",
       "      <td>NaN</td>\n",
       "      <td>NaN</td>\n",
       "      <td>NaN</td>\n",
       "      <td>NaN</td>\n",
       "      <td>NaN</td>\n",
       "      <td>NaN</td>\n",
       "      <td>NaN</td>\n",
       "    </tr>\n",
       "    <tr>\n",
       "      <th>18153</th>\n",
       "      <td>Source AW_Cust_Master</td>\n",
       "      <td>NaN</td>\n",
       "      <td>NaN</td>\n",
       "      <td>NaN</td>\n",
       "      <td>NaN</td>\n",
       "      <td>NaN</td>\n",
       "      <td>NaN</td>\n",
       "      <td>NaN</td>\n",
       "      <td>NaN</td>\n",
       "      <td>NaN</td>\n",
       "      <td>NaN</td>\n",
       "      <td>NaN</td>\n",
       "      <td>NaN</td>\n",
       "    </tr>\n",
       "  </tbody>\n",
       "</table>\n",
       "<p>135 rows × 13 columns</p>\n",
       "</div>"
      ],
      "text/plain": [
       "                         CustomerKey Prefix  FirstName   LastName   BirthDate  \\\n",
       "24                             11025    NaN  ALEJANDRO       BECK  1945-12-23   \n",
       "34                             11035    NaN      WENDY  DOMINGUEZ  1948-02-24   \n",
       "81                             11082    NaN     ANGELA     BUTLER  1966-08-04   \n",
       "228                            11234    NaN       ANNA    GRIFFIN  1952-11-19   \n",
       "464                            11475    NaN      CESAR     SUBRAM  1978-10-09   \n",
       "...                              ...    ...        ...        ...         ...   \n",
       "18148                          30---      m        NaN        NaN  1900-01-01   \n",
       "18149                          30---      m        NaN        NaN  1900-01-01   \n",
       "18150                          30---      m        NaN        NaN  1900-01-01   \n",
       "18152  Export date 20230101 14:59:17    NaN        NaN        NaN         NaN   \n",
       "18153          Source AW_Cust_Master    NaN        NaN        NaN         NaN   \n",
       "\n",
       "      MaritalStatus Gender                     EmailAddress  AnnualIncome  \\\n",
       "24                M    NaN  alejandro45@adventure-works.com       10000.0   \n",
       "34                M    NaN      wendy12@adventure-works.com       10000.0   \n",
       "81                S    NaN     angela17@adventure-works.com      130000.0   \n",
       "228               S    NaN       anna46@adventure-works.com       70000.0   \n",
       "464               S    NaN      cesar12@adventure-works.com       30000.0   \n",
       "...             ...    ...                              ...           ...   \n",
       "18148           NaN    NaN                              NaN           NaN   \n",
       "18149           NaN    NaN                              NaN           NaN   \n",
       "18150           NaN    NaN                              NaN           NaN   \n",
       "18152           NaN    NaN                              NaN           NaN   \n",
       "18153           NaN    NaN                              NaN           NaN   \n",
       "\n",
       "       TotalChildren       EducationLevel    Occupation HomeOwner  \n",
       "24               2.0  Partial High School      Clerical         Y  \n",
       "34               2.0  Partial High School      Clerical         Y  \n",
       "81               0.0      Graduate Degree    Management         N  \n",
       "228              4.0      Partial College  Professional         Y  \n",
       "464              0.0          High School        Manual         N  \n",
       "...              ...                  ...           ...       ...  \n",
       "18148            NaN                  NaN           NaN       NaN  \n",
       "18149            NaN                  NaN           NaN       NaN  \n",
       "18150            NaN                  NaN           NaN       NaN  \n",
       "18152            NaN                  NaN           NaN       NaN  \n",
       "18153            NaN                  NaN           NaN       NaN  \n",
       "\n",
       "[135 rows x 13 columns]"
      ]
     },
     "execution_count": 21,
     "metadata": {},
     "output_type": "execute_result"
    }
   ],
   "source": [
    "aw_customers.loc[aw_customers.isnull().any(axis=1)]  # Filtering rows which has at least 1 value null."
   ]
  },
  {
   "attachments": {},
   "cell_type": "markdown",
   "metadata": {
    "collapsed": false
   },
   "source": [
    "Last 5 Rows from 18148 to 18153 has all null values and some incorrect values. Dropping those rows."
   ]
  },
  {
   "cell_type": "code",
   "execution_count": 22,
   "metadata": {
    "ExecuteTime": {
     "end_time": "2023-07-05T21:25:19.361923200Z",
     "start_time": "2023-07-05T21:25:16.959588100Z"
    },
    "collapsed": false
   },
   "outputs": [
    {
     "data": {
      "text/html": [
       "<div>\n",
       "<style scoped>\n",
       "    .dataframe tbody tr th:only-of-type {\n",
       "        vertical-align: middle;\n",
       "    }\n",
       "\n",
       "    .dataframe tbody tr th {\n",
       "        vertical-align: top;\n",
       "    }\n",
       "\n",
       "    .dataframe thead th {\n",
       "        text-align: right;\n",
       "    }\n",
       "</style>\n",
       "<table border=\"1\" class=\"dataframe\">\n",
       "  <thead>\n",
       "    <tr style=\"text-align: right;\">\n",
       "      <th></th>\n",
       "      <th>CustomerKey</th>\n",
       "      <th>Prefix</th>\n",
       "      <th>FirstName</th>\n",
       "      <th>LastName</th>\n",
       "      <th>BirthDate</th>\n",
       "      <th>MaritalStatus</th>\n",
       "      <th>Gender</th>\n",
       "      <th>EmailAddress</th>\n",
       "      <th>AnnualIncome</th>\n",
       "      <th>TotalChildren</th>\n",
       "      <th>EducationLevel</th>\n",
       "      <th>Occupation</th>\n",
       "      <th>HomeOwner</th>\n",
       "    </tr>\n",
       "  </thead>\n",
       "  <tbody>\n",
       "    <tr>\n",
       "      <th>18148</th>\n",
       "      <td>30---</td>\n",
       "      <td>m</td>\n",
       "      <td>NaN</td>\n",
       "      <td>NaN</td>\n",
       "      <td>1900-01-01</td>\n",
       "      <td>NaN</td>\n",
       "      <td>NaN</td>\n",
       "      <td>NaN</td>\n",
       "      <td>NaN</td>\n",
       "      <td>NaN</td>\n",
       "      <td>NaN</td>\n",
       "      <td>NaN</td>\n",
       "      <td>NaN</td>\n",
       "    </tr>\n",
       "    <tr>\n",
       "      <th>18149</th>\n",
       "      <td>30---</td>\n",
       "      <td>m</td>\n",
       "      <td>NaN</td>\n",
       "      <td>NaN</td>\n",
       "      <td>1900-01-01</td>\n",
       "      <td>NaN</td>\n",
       "      <td>NaN</td>\n",
       "      <td>NaN</td>\n",
       "      <td>NaN</td>\n",
       "      <td>NaN</td>\n",
       "      <td>NaN</td>\n",
       "      <td>NaN</td>\n",
       "      <td>NaN</td>\n",
       "    </tr>\n",
       "    <tr>\n",
       "      <th>18150</th>\n",
       "      <td>30---</td>\n",
       "      <td>m</td>\n",
       "      <td>NaN</td>\n",
       "      <td>NaN</td>\n",
       "      <td>1900-01-01</td>\n",
       "      <td>NaN</td>\n",
       "      <td>NaN</td>\n",
       "      <td>NaN</td>\n",
       "      <td>NaN</td>\n",
       "      <td>NaN</td>\n",
       "      <td>NaN</td>\n",
       "      <td>NaN</td>\n",
       "      <td>NaN</td>\n",
       "    </tr>\n",
       "    <tr>\n",
       "      <th>18152</th>\n",
       "      <td>Export date 20230101 14:59:17</td>\n",
       "      <td>NaN</td>\n",
       "      <td>NaN</td>\n",
       "      <td>NaN</td>\n",
       "      <td>NaN</td>\n",
       "      <td>NaN</td>\n",
       "      <td>NaN</td>\n",
       "      <td>NaN</td>\n",
       "      <td>NaN</td>\n",
       "      <td>NaN</td>\n",
       "      <td>NaN</td>\n",
       "      <td>NaN</td>\n",
       "      <td>NaN</td>\n",
       "    </tr>\n",
       "    <tr>\n",
       "      <th>18153</th>\n",
       "      <td>Source AW_Cust_Master</td>\n",
       "      <td>NaN</td>\n",
       "      <td>NaN</td>\n",
       "      <td>NaN</td>\n",
       "      <td>NaN</td>\n",
       "      <td>NaN</td>\n",
       "      <td>NaN</td>\n",
       "      <td>NaN</td>\n",
       "      <td>NaN</td>\n",
       "      <td>NaN</td>\n",
       "      <td>NaN</td>\n",
       "      <td>NaN</td>\n",
       "      <td>NaN</td>\n",
       "    </tr>\n",
       "  </tbody>\n",
       "</table>\n",
       "</div>"
      ],
      "text/plain": [
       "                         CustomerKey Prefix FirstName LastName   BirthDate  \\\n",
       "18148                          30---      m       NaN      NaN  1900-01-01   \n",
       "18149                          30---      m       NaN      NaN  1900-01-01   \n",
       "18150                          30---      m       NaN      NaN  1900-01-01   \n",
       "18152  Export date 20230101 14:59:17    NaN       NaN      NaN         NaN   \n",
       "18153          Source AW_Cust_Master    NaN       NaN      NaN         NaN   \n",
       "\n",
       "      MaritalStatus Gender EmailAddress  AnnualIncome  TotalChildren  \\\n",
       "18148           NaN    NaN          NaN           NaN            NaN   \n",
       "18149           NaN    NaN          NaN           NaN            NaN   \n",
       "18150           NaN    NaN          NaN           NaN            NaN   \n",
       "18152           NaN    NaN          NaN           NaN            NaN   \n",
       "18153           NaN    NaN          NaN           NaN            NaN   \n",
       "\n",
       "      EducationLevel Occupation HomeOwner  \n",
       "18148            NaN        NaN       NaN  \n",
       "18149            NaN        NaN       NaN  \n",
       "18150            NaN        NaN       NaN  \n",
       "18152            NaN        NaN       NaN  \n",
       "18153            NaN        NaN       NaN  "
      ]
     },
     "execution_count": 22,
     "metadata": {},
     "output_type": "execute_result"
    }
   ],
   "source": [
    "aw_customers.loc[18148:18153]"
   ]
  },
  {
   "cell_type": "code",
   "execution_count": 23,
   "metadata": {
    "ExecuteTime": {
     "end_time": "2023-07-05T21:25:19.361923200Z",
     "start_time": "2023-07-05T21:25:17.006460500Z"
    },
    "collapsed": false
   },
   "outputs": [],
   "source": [
    "aw_customers.drop(index=[18148,18149,18150,18152,18153],inplace=True)"
   ]
  },
  {
   "cell_type": "code",
   "execution_count": 24,
   "metadata": {
    "ExecuteTime": {
     "end_time": "2023-07-05T21:25:19.363432300Z",
     "start_time": "2023-07-05T21:25:17.024465300Z"
    },
    "collapsed": false
   },
   "outputs": [
    {
     "data": {
      "text/plain": [
       "CustomerKey         0\n",
       "Prefix            130\n",
       "FirstName           0\n",
       "LastName            0\n",
       "BirthDate           0\n",
       "MaritalStatus       0\n",
       "Gender            130\n",
       "EmailAddress        0\n",
       "AnnualIncome        0\n",
       "TotalChildren       0\n",
       "EducationLevel      0\n",
       "Occupation          0\n",
       "HomeOwner           0\n",
       "dtype: int64"
      ]
     },
     "execution_count": 24,
     "metadata": {},
     "output_type": "execute_result"
    }
   ],
   "source": [
    "aw_customers.isnull().sum()"
   ]
  },
  {
   "cell_type": "code",
   "execution_count": 25,
   "metadata": {
    "ExecuteTime": {
     "end_time": "2023-07-05T21:25:19.363432300Z",
     "start_time": "2023-07-05T21:25:17.067297400Z"
    },
    "collapsed": false
   },
   "outputs": [],
   "source": [
    "# Dropping Prefix Column as it has some null values and is not useful for analysis.\n",
    "\n",
    "aw_customers.drop('Prefix',axis=1,inplace=True)"
   ]
  },
  {
   "attachments": {},
   "cell_type": "markdown",
   "metadata": {
    "collapsed": false
   },
   "source": [
    "Filling Null values in Gender Column using Gender Detector. The Gender Detector will identify the gender based on their first names."
   ]
  },
  {
   "cell_type": "code",
   "execution_count": 26,
   "metadata": {
    "ExecuteTime": {
     "end_time": "2023-07-05T21:25:19.364642300Z",
     "start_time": "2023-07-05T21:25:17.099211300Z"
    },
    "collapsed": false
   },
   "outputs": [
    {
     "data": {
      "text/plain": [
       "Int64Index([   24,    34,    81,   228,   464,   512,   608,   627,   944,\n",
       "             1254,\n",
       "            ...\n",
       "            16953, 16961, 17029, 17107, 17469, 17655, 17673, 17806, 18012,\n",
       "            18112],\n",
       "           dtype='int64', length=130)"
      ]
     },
     "execution_count": 26,
     "metadata": {},
     "output_type": "execute_result"
    }
   ],
   "source": [
    "# Pulling out customer keys of rows where gender is missing to check genders for these customer keys after using gender detector method.\n",
    "\n",
    "missing_genders = aw_customers[aw_customers['Gender'].isnull()].index\n",
    "missing_genders"
   ]
  },
  {
   "cell_type": "code",
   "execution_count": 27,
   "metadata": {
    "ExecuteTime": {
     "end_time": "2023-07-05T21:25:20.824384800Z",
     "start_time": "2023-07-05T21:25:17.134118100Z"
    },
    "collapsed": false
   },
   "outputs": [],
   "source": [
    "aw_customers.loc[:,'FirstName'] = aw_customers.loc[:,'FirstName'].str.title()  # converting first names into title case for using it with gender detector method.\n",
    "\n",
    "import gender_guesser.detector as gender\n",
    "\n",
    "gd = gender.Detector()\n",
    "\n",
    "# Function to infer gender\n",
    "def infer_gender(row):\n",
    "    if pd.isna(row['Gender']):\n",
    "        return gd.get_gender(row['FirstName'])\n",
    "    else:\n",
    "        return row['Gender']\n",
    "\n",
    "# Apply the function\n",
    "aw_customers['Gender'] = aw_customers.apply(infer_gender, axis=1)"
   ]
  },
  {
   "cell_type": "code",
   "execution_count": 28,
   "metadata": {
    "ExecuteTime": {
     "end_time": "2023-07-05T21:25:20.825408900Z",
     "start_time": "2023-07-05T21:25:17.970470200Z"
    },
    "collapsed": false
   },
   "outputs": [
    {
     "data": {
      "text/html": [
       "<div>\n",
       "<style scoped>\n",
       "    .dataframe tbody tr th:only-of-type {\n",
       "        vertical-align: middle;\n",
       "    }\n",
       "\n",
       "    .dataframe tbody tr th {\n",
       "        vertical-align: top;\n",
       "    }\n",
       "\n",
       "    .dataframe thead th {\n",
       "        text-align: right;\n",
       "    }\n",
       "</style>\n",
       "<table border=\"1\" class=\"dataframe\">\n",
       "  <thead>\n",
       "    <tr style=\"text-align: right;\">\n",
       "      <th></th>\n",
       "      <th>CustomerKey</th>\n",
       "      <th>FirstName</th>\n",
       "      <th>LastName</th>\n",
       "      <th>BirthDate</th>\n",
       "      <th>MaritalStatus</th>\n",
       "      <th>Gender</th>\n",
       "      <th>EmailAddress</th>\n",
       "      <th>AnnualIncome</th>\n",
       "      <th>TotalChildren</th>\n",
       "      <th>EducationLevel</th>\n",
       "      <th>Occupation</th>\n",
       "      <th>HomeOwner</th>\n",
       "    </tr>\n",
       "  </thead>\n",
       "  <tbody>\n",
       "    <tr>\n",
       "      <th>24</th>\n",
       "      <td>11025</td>\n",
       "      <td>Alejandro</td>\n",
       "      <td>BECK</td>\n",
       "      <td>1945-12-23</td>\n",
       "      <td>M</td>\n",
       "      <td>male</td>\n",
       "      <td>alejandro45@adventure-works.com</td>\n",
       "      <td>10000.0</td>\n",
       "      <td>2.0</td>\n",
       "      <td>Partial High School</td>\n",
       "      <td>Clerical</td>\n",
       "      <td>Y</td>\n",
       "    </tr>\n",
       "    <tr>\n",
       "      <th>34</th>\n",
       "      <td>11035</td>\n",
       "      <td>Wendy</td>\n",
       "      <td>DOMINGUEZ</td>\n",
       "      <td>1948-02-24</td>\n",
       "      <td>M</td>\n",
       "      <td>female</td>\n",
       "      <td>wendy12@adventure-works.com</td>\n",
       "      <td>10000.0</td>\n",
       "      <td>2.0</td>\n",
       "      <td>Partial High School</td>\n",
       "      <td>Clerical</td>\n",
       "      <td>Y</td>\n",
       "    </tr>\n",
       "    <tr>\n",
       "      <th>81</th>\n",
       "      <td>11082</td>\n",
       "      <td>Angela</td>\n",
       "      <td>BUTLER</td>\n",
       "      <td>1966-08-04</td>\n",
       "      <td>S</td>\n",
       "      <td>female</td>\n",
       "      <td>angela17@adventure-works.com</td>\n",
       "      <td>130000.0</td>\n",
       "      <td>0.0</td>\n",
       "      <td>Graduate Degree</td>\n",
       "      <td>Management</td>\n",
       "      <td>N</td>\n",
       "    </tr>\n",
       "    <tr>\n",
       "      <th>228</th>\n",
       "      <td>11234</td>\n",
       "      <td>Anna</td>\n",
       "      <td>GRIFFIN</td>\n",
       "      <td>1952-11-19</td>\n",
       "      <td>S</td>\n",
       "      <td>female</td>\n",
       "      <td>anna46@adventure-works.com</td>\n",
       "      <td>70000.0</td>\n",
       "      <td>4.0</td>\n",
       "      <td>Partial College</td>\n",
       "      <td>Professional</td>\n",
       "      <td>Y</td>\n",
       "    </tr>\n",
       "    <tr>\n",
       "      <th>464</th>\n",
       "      <td>11475</td>\n",
       "      <td>Cesar</td>\n",
       "      <td>SUBRAM</td>\n",
       "      <td>1978-10-09</td>\n",
       "      <td>S</td>\n",
       "      <td>male</td>\n",
       "      <td>cesar12@adventure-works.com</td>\n",
       "      <td>30000.0</td>\n",
       "      <td>0.0</td>\n",
       "      <td>High School</td>\n",
       "      <td>Manual</td>\n",
       "      <td>N</td>\n",
       "    </tr>\n",
       "    <tr>\n",
       "      <th>...</th>\n",
       "      <td>...</td>\n",
       "      <td>...</td>\n",
       "      <td>...</td>\n",
       "      <td>...</td>\n",
       "      <td>...</td>\n",
       "      <td>...</td>\n",
       "      <td>...</td>\n",
       "      <td>...</td>\n",
       "      <td>...</td>\n",
       "      <td>...</td>\n",
       "      <td>...</td>\n",
       "      <td>...</td>\n",
       "    </tr>\n",
       "    <tr>\n",
       "      <th>17655</th>\n",
       "      <td>28981</td>\n",
       "      <td>Luke</td>\n",
       "      <td>JAI</td>\n",
       "      <td>1940-03-17</td>\n",
       "      <td>S</td>\n",
       "      <td>male</td>\n",
       "      <td>luke21@adventure-works.com</td>\n",
       "      <td>60000.0</td>\n",
       "      <td>3.0</td>\n",
       "      <td>Graduate Degree</td>\n",
       "      <td>Management</td>\n",
       "      <td>N</td>\n",
       "    </tr>\n",
       "    <tr>\n",
       "      <th>17673</th>\n",
       "      <td>28999</td>\n",
       "      <td>Edward</td>\n",
       "      <td>MARTINEZ</td>\n",
       "      <td>1947-10-24</td>\n",
       "      <td>M</td>\n",
       "      <td>male</td>\n",
       "      <td>edward40@adventure-works.com</td>\n",
       "      <td>70000.0</td>\n",
       "      <td>2.0</td>\n",
       "      <td>Bachelors</td>\n",
       "      <td>Management</td>\n",
       "      <td>N</td>\n",
       "    </tr>\n",
       "    <tr>\n",
       "      <th>17806</th>\n",
       "      <td>29136</td>\n",
       "      <td>Caroline</td>\n",
       "      <td>BRYANT</td>\n",
       "      <td>1964-05-08</td>\n",
       "      <td>M</td>\n",
       "      <td>female</td>\n",
       "      <td>caroline19@adventure-works.com</td>\n",
       "      <td>60000.0</td>\n",
       "      <td>4.0</td>\n",
       "      <td>Bachelors</td>\n",
       "      <td>Skilled Manual</td>\n",
       "      <td>Y</td>\n",
       "    </tr>\n",
       "    <tr>\n",
       "      <th>18012</th>\n",
       "      <td>29345</td>\n",
       "      <td>Randall</td>\n",
       "      <td>DIAZ</td>\n",
       "      <td>1942-02-26</td>\n",
       "      <td>S</td>\n",
       "      <td>male</td>\n",
       "      <td>randall4@adventure-works.com</td>\n",
       "      <td>40000.0</td>\n",
       "      <td>2.0</td>\n",
       "      <td>Bachelors</td>\n",
       "      <td>Management</td>\n",
       "      <td>N</td>\n",
       "    </tr>\n",
       "    <tr>\n",
       "      <th>18112</th>\n",
       "      <td>29448</td>\n",
       "      <td>Lindsey</td>\n",
       "      <td>YUAN</td>\n",
       "      <td>1941-11-28</td>\n",
       "      <td>S</td>\n",
       "      <td>mostly_female</td>\n",
       "      <td>lindsey7@adventure-works.com</td>\n",
       "      <td>20000.0</td>\n",
       "      <td>1.0</td>\n",
       "      <td>Partial College</td>\n",
       "      <td>Manual</td>\n",
       "      <td>Y</td>\n",
       "    </tr>\n",
       "  </tbody>\n",
       "</table>\n",
       "<p>130 rows × 12 columns</p>\n",
       "</div>"
      ],
      "text/plain": [
       "      CustomerKey  FirstName   LastName   BirthDate MaritalStatus  \\\n",
       "24          11025  Alejandro       BECK  1945-12-23             M   \n",
       "34          11035      Wendy  DOMINGUEZ  1948-02-24             M   \n",
       "81          11082     Angela     BUTLER  1966-08-04             S   \n",
       "228         11234       Anna    GRIFFIN  1952-11-19             S   \n",
       "464         11475      Cesar     SUBRAM  1978-10-09             S   \n",
       "...           ...        ...        ...         ...           ...   \n",
       "17655       28981       Luke        JAI  1940-03-17             S   \n",
       "17673       28999     Edward   MARTINEZ  1947-10-24             M   \n",
       "17806       29136   Caroline     BRYANT  1964-05-08             M   \n",
       "18012       29345    Randall       DIAZ  1942-02-26             S   \n",
       "18112       29448    Lindsey       YUAN  1941-11-28             S   \n",
       "\n",
       "              Gender                     EmailAddress  AnnualIncome  \\\n",
       "24              male  alejandro45@adventure-works.com       10000.0   \n",
       "34            female      wendy12@adventure-works.com       10000.0   \n",
       "81            female     angela17@adventure-works.com      130000.0   \n",
       "228           female       anna46@adventure-works.com       70000.0   \n",
       "464             male      cesar12@adventure-works.com       30000.0   \n",
       "...              ...                              ...           ...   \n",
       "17655           male       luke21@adventure-works.com       60000.0   \n",
       "17673           male     edward40@adventure-works.com       70000.0   \n",
       "17806         female   caroline19@adventure-works.com       60000.0   \n",
       "18012           male     randall4@adventure-works.com       40000.0   \n",
       "18112  mostly_female     lindsey7@adventure-works.com       20000.0   \n",
       "\n",
       "       TotalChildren       EducationLevel      Occupation HomeOwner  \n",
       "24               2.0  Partial High School        Clerical         Y  \n",
       "34               2.0  Partial High School        Clerical         Y  \n",
       "81               0.0      Graduate Degree      Management         N  \n",
       "228              4.0      Partial College    Professional         Y  \n",
       "464              0.0          High School          Manual         N  \n",
       "...              ...                  ...             ...       ...  \n",
       "17655            3.0      Graduate Degree      Management         N  \n",
       "17673            2.0            Bachelors      Management         N  \n",
       "17806            4.0            Bachelors  Skilled Manual         Y  \n",
       "18012            2.0            Bachelors      Management         N  \n",
       "18112            1.0      Partial College          Manual         Y  \n",
       "\n",
       "[130 rows x 12 columns]"
      ]
     },
     "execution_count": 28,
     "metadata": {},
     "output_type": "execute_result"
    }
   ],
   "source": [
    "aw_customers.loc[missing_genders]"
   ]
  },
  {
   "cell_type": "code",
   "execution_count": 29,
   "metadata": {
    "ExecuteTime": {
     "end_time": "2023-07-05T21:25:20.826376400Z",
     "start_time": "2023-07-05T21:25:18.008515400Z"
    },
    "collapsed": false
   },
   "outputs": [
    {
     "data": {
      "text/plain": [
       "female           63\n",
       "male             54\n",
       "mostly_female     7\n",
       "mostly_male       3\n",
       "unknown           2\n",
       "andy              1\n",
       "Name: Gender, dtype: int64"
      ]
     },
     "execution_count": 29,
     "metadata": {},
     "output_type": "execute_result"
    }
   ],
   "source": [
    "aw_customers.loc[missing_genders]['Gender'].value_counts()"
   ]
  },
  {
   "cell_type": "code",
   "execution_count": 30,
   "metadata": {
    "ExecuteTime": {
     "end_time": "2023-07-05T21:25:20.826376400Z",
     "start_time": "2023-07-05T21:25:18.038435600Z"
    },
    "collapsed": false
   },
   "outputs": [
    {
     "data": {
      "text/html": [
       "<div>\n",
       "<style scoped>\n",
       "    .dataframe tbody tr th:only-of-type {\n",
       "        vertical-align: middle;\n",
       "    }\n",
       "\n",
       "    .dataframe tbody tr th {\n",
       "        vertical-align: top;\n",
       "    }\n",
       "\n",
       "    .dataframe thead th {\n",
       "        text-align: right;\n",
       "    }\n",
       "</style>\n",
       "<table border=\"1\" class=\"dataframe\">\n",
       "  <thead>\n",
       "    <tr style=\"text-align: right;\">\n",
       "      <th></th>\n",
       "      <th>CustomerKey</th>\n",
       "      <th>FirstName</th>\n",
       "      <th>LastName</th>\n",
       "      <th>BirthDate</th>\n",
       "      <th>MaritalStatus</th>\n",
       "      <th>Gender</th>\n",
       "      <th>EmailAddress</th>\n",
       "      <th>AnnualIncome</th>\n",
       "      <th>TotalChildren</th>\n",
       "      <th>EducationLevel</th>\n",
       "      <th>Occupation</th>\n",
       "      <th>HomeOwner</th>\n",
       "    </tr>\n",
       "  </thead>\n",
       "  <tbody>\n",
       "    <tr>\n",
       "      <th>5484</th>\n",
       "      <td>16590</td>\n",
       "      <td>Shawn</td>\n",
       "      <td>DENG</td>\n",
       "      <td>1953-09-02</td>\n",
       "      <td>M</td>\n",
       "      <td>mostly_male</td>\n",
       "      <td>shawn3@adventure-works.com</td>\n",
       "      <td>150000.0</td>\n",
       "      <td>3.0</td>\n",
       "      <td>Bachelors</td>\n",
       "      <td>Management</td>\n",
       "      <td>Y</td>\n",
       "    </tr>\n",
       "    <tr>\n",
       "      <th>6214</th>\n",
       "      <td>17330</td>\n",
       "      <td>Latoya</td>\n",
       "      <td>BECKER</td>\n",
       "      <td>1962-08-15</td>\n",
       "      <td>M</td>\n",
       "      <td>unknown</td>\n",
       "      <td>latoya19@adventure-works.com</td>\n",
       "      <td>70000.0</td>\n",
       "      <td>5.0</td>\n",
       "      <td>Bachelors</td>\n",
       "      <td>Professional</td>\n",
       "      <td>Y</td>\n",
       "    </tr>\n",
       "    <tr>\n",
       "      <th>6217</th>\n",
       "      <td>17333</td>\n",
       "      <td>Misty</td>\n",
       "      <td>CHANDER</td>\n",
       "      <td>1957-04-17</td>\n",
       "      <td>S</td>\n",
       "      <td>mostly_female</td>\n",
       "      <td>misty17@adventure-works.com</td>\n",
       "      <td>70000.0</td>\n",
       "      <td>1.0</td>\n",
       "      <td>Partial College</td>\n",
       "      <td>Skilled Manual</td>\n",
       "      <td>Y</td>\n",
       "    </tr>\n",
       "    <tr>\n",
       "      <th>6571</th>\n",
       "      <td>17696</td>\n",
       "      <td>Madison</td>\n",
       "      <td>SIMMONS</td>\n",
       "      <td>1973-04-21</td>\n",
       "      <td>S</td>\n",
       "      <td>mostly_female</td>\n",
       "      <td>madison27@adventure-works.com</td>\n",
       "      <td>50000.0</td>\n",
       "      <td>1.0</td>\n",
       "      <td>Graduate Degree</td>\n",
       "      <td>Skilled Manual</td>\n",
       "      <td>Y</td>\n",
       "    </tr>\n",
       "    <tr>\n",
       "      <th>8637</th>\n",
       "      <td>19807</td>\n",
       "      <td>Shannon</td>\n",
       "      <td>ZHAO</td>\n",
       "      <td>1959-04-24</td>\n",
       "      <td>M</td>\n",
       "      <td>mostly_female</td>\n",
       "      <td>shannon11@adventure-works.com</td>\n",
       "      <td>110000.0</td>\n",
       "      <td>1.0</td>\n",
       "      <td>Bachelors</td>\n",
       "      <td>Management</td>\n",
       "      <td>Y</td>\n",
       "    </tr>\n",
       "    <tr>\n",
       "      <th>9265</th>\n",
       "      <td>20448</td>\n",
       "      <td>Jésus</td>\n",
       "      <td>BLANCO</td>\n",
       "      <td>1956-02-22</td>\n",
       "      <td>M</td>\n",
       "      <td>unknown</td>\n",
       "      <td>jésus14@adventure-works.com</td>\n",
       "      <td>80000.0</td>\n",
       "      <td>2.0</td>\n",
       "      <td>High School</td>\n",
       "      <td>Skilled Manual</td>\n",
       "      <td>Y</td>\n",
       "    </tr>\n",
       "    <tr>\n",
       "      <th>12732</th>\n",
       "      <td>23977</td>\n",
       "      <td>Gail</td>\n",
       "      <td>BUTLER</td>\n",
       "      <td>1958-02-24</td>\n",
       "      <td>S</td>\n",
       "      <td>mostly_female</td>\n",
       "      <td>gail4@adventure-works.com</td>\n",
       "      <td>20000.0</td>\n",
       "      <td>1.0</td>\n",
       "      <td>Bachelors</td>\n",
       "      <td>Manual</td>\n",
       "      <td>Y</td>\n",
       "    </tr>\n",
       "    <tr>\n",
       "      <th>13593</th>\n",
       "      <td>24851</td>\n",
       "      <td>Leslie</td>\n",
       "      <td>ORTEGA</td>\n",
       "      <td>1946-06-08</td>\n",
       "      <td>M</td>\n",
       "      <td>mostly_female</td>\n",
       "      <td>leslie22@adventure-works.com</td>\n",
       "      <td>130000.0</td>\n",
       "      <td>4.0</td>\n",
       "      <td>Partial College</td>\n",
       "      <td>Professional</td>\n",
       "      <td>Y</td>\n",
       "    </tr>\n",
       "    <tr>\n",
       "      <th>14254</th>\n",
       "      <td>25522</td>\n",
       "      <td>Casey</td>\n",
       "      <td>ANAND</td>\n",
       "      <td>1976-09-13</td>\n",
       "      <td>S</td>\n",
       "      <td>andy</td>\n",
       "      <td>casey22@adventure-works.com</td>\n",
       "      <td>30000.0</td>\n",
       "      <td>0.0</td>\n",
       "      <td>Partial College</td>\n",
       "      <td>Clerical</td>\n",
       "      <td>N</td>\n",
       "    </tr>\n",
       "    <tr>\n",
       "      <th>15526</th>\n",
       "      <td>26819</td>\n",
       "      <td>Devin</td>\n",
       "      <td>MITCHELL</td>\n",
       "      <td>1967-02-21</td>\n",
       "      <td>M</td>\n",
       "      <td>mostly_male</td>\n",
       "      <td>devin34@adventure-works.com</td>\n",
       "      <td>10000.0</td>\n",
       "      <td>3.0</td>\n",
       "      <td>High School</td>\n",
       "      <td>Manual</td>\n",
       "      <td>Y</td>\n",
       "    </tr>\n",
       "    <tr>\n",
       "      <th>15556</th>\n",
       "      <td>26850</td>\n",
       "      <td>Terry</td>\n",
       "      <td>LUO</td>\n",
       "      <td>1963-06-19</td>\n",
       "      <td>S</td>\n",
       "      <td>mostly_male</td>\n",
       "      <td>terry9@adventure-works.com</td>\n",
       "      <td>20000.0</td>\n",
       "      <td>3.0</td>\n",
       "      <td>High School</td>\n",
       "      <td>Manual</td>\n",
       "      <td>N</td>\n",
       "    </tr>\n",
       "    <tr>\n",
       "      <th>16506</th>\n",
       "      <td>27815</td>\n",
       "      <td>Jamie</td>\n",
       "      <td>CHOW</td>\n",
       "      <td>1979-12-26</td>\n",
       "      <td>M</td>\n",
       "      <td>mostly_female</td>\n",
       "      <td>jamie4@adventure-works.com</td>\n",
       "      <td>30000.0</td>\n",
       "      <td>3.0</td>\n",
       "      <td>Partial College</td>\n",
       "      <td>Clerical</td>\n",
       "      <td>Y</td>\n",
       "    </tr>\n",
       "    <tr>\n",
       "      <th>18112</th>\n",
       "      <td>29448</td>\n",
       "      <td>Lindsey</td>\n",
       "      <td>YUAN</td>\n",
       "      <td>1941-11-28</td>\n",
       "      <td>S</td>\n",
       "      <td>mostly_female</td>\n",
       "      <td>lindsey7@adventure-works.com</td>\n",
       "      <td>20000.0</td>\n",
       "      <td>1.0</td>\n",
       "      <td>Partial College</td>\n",
       "      <td>Manual</td>\n",
       "      <td>Y</td>\n",
       "    </tr>\n",
       "  </tbody>\n",
       "</table>\n",
       "</div>"
      ],
      "text/plain": [
       "      CustomerKey FirstName  LastName   BirthDate MaritalStatus  \\\n",
       "5484        16590     Shawn      DENG  1953-09-02             M   \n",
       "6214        17330    Latoya    BECKER  1962-08-15             M   \n",
       "6217        17333     Misty   CHANDER  1957-04-17             S   \n",
       "6571        17696   Madison   SIMMONS  1973-04-21             S   \n",
       "8637        19807   Shannon      ZHAO  1959-04-24             M   \n",
       "9265        20448     Jésus    BLANCO  1956-02-22             M   \n",
       "12732       23977      Gail    BUTLER  1958-02-24             S   \n",
       "13593       24851    Leslie    ORTEGA  1946-06-08             M   \n",
       "14254       25522     Casey     ANAND  1976-09-13             S   \n",
       "15526       26819     Devin  MITCHELL  1967-02-21             M   \n",
       "15556       26850     Terry       LUO  1963-06-19             S   \n",
       "16506       27815     Jamie      CHOW  1979-12-26             M   \n",
       "18112       29448   Lindsey      YUAN  1941-11-28             S   \n",
       "\n",
       "              Gender                   EmailAddress  AnnualIncome  \\\n",
       "5484     mostly_male     shawn3@adventure-works.com      150000.0   \n",
       "6214         unknown   latoya19@adventure-works.com       70000.0   \n",
       "6217   mostly_female    misty17@adventure-works.com       70000.0   \n",
       "6571   mostly_female  madison27@adventure-works.com       50000.0   \n",
       "8637   mostly_female  shannon11@adventure-works.com      110000.0   \n",
       "9265         unknown    jésus14@adventure-works.com       80000.0   \n",
       "12732  mostly_female      gail4@adventure-works.com       20000.0   \n",
       "13593  mostly_female   leslie22@adventure-works.com      130000.0   \n",
       "14254           andy    casey22@adventure-works.com       30000.0   \n",
       "15526    mostly_male    devin34@adventure-works.com       10000.0   \n",
       "15556    mostly_male     terry9@adventure-works.com       20000.0   \n",
       "16506  mostly_female     jamie4@adventure-works.com       30000.0   \n",
       "18112  mostly_female   lindsey7@adventure-works.com       20000.0   \n",
       "\n",
       "       TotalChildren   EducationLevel      Occupation HomeOwner  \n",
       "5484             3.0        Bachelors      Management         Y  \n",
       "6214             5.0        Bachelors    Professional         Y  \n",
       "6217             1.0  Partial College  Skilled Manual         Y  \n",
       "6571             1.0  Graduate Degree  Skilled Manual         Y  \n",
       "8637             1.0        Bachelors      Management         Y  \n",
       "9265             2.0      High School  Skilled Manual         Y  \n",
       "12732            1.0        Bachelors          Manual         Y  \n",
       "13593            4.0  Partial College    Professional         Y  \n",
       "14254            0.0  Partial College        Clerical         N  \n",
       "15526            3.0      High School          Manual         Y  \n",
       "15556            3.0      High School          Manual         N  \n",
       "16506            3.0  Partial College        Clerical         Y  \n",
       "18112            1.0  Partial College          Manual         Y  "
      ]
     },
     "execution_count": 30,
     "metadata": {},
     "output_type": "execute_result"
    }
   ],
   "source": [
    "aw_customers.loc[aw_customers['Gender'].isin(['mostly_female','mostly_male','unknown','andy'])]"
   ]
  },
  {
   "attachments": {},
   "cell_type": "markdown",
   "metadata": {
    "collapsed": false
   },
   "source": [
    "Replacing mostly female with females, mostly male with males and removing rows where gender is andy or unknown for the purpose of this analysis. There are 3 rows where gender is either unknown or andy."
   ]
  },
  {
   "cell_type": "code",
   "execution_count": 31,
   "metadata": {
    "ExecuteTime": {
     "end_time": "2023-07-05T21:25:20.827410700Z",
     "start_time": "2023-07-05T21:25:18.086308200Z"
    },
    "collapsed": false
   },
   "outputs": [],
   "source": [
    "mask = aw_customers.loc[aw_customers['Gender'].isin(['unknown','andy'])].index\n",
    "aw_customers.drop(index=mask,inplace=True)\n",
    "aw_customers['Gender'].replace({'male':'M','mostly_male':'M','female':'F','mostly_female':'F'},inplace=True)"
   ]
  },
  {
   "cell_type": "code",
   "execution_count": 32,
   "metadata": {
    "ExecuteTime": {
     "end_time": "2023-07-05T21:25:20.827410700Z",
     "start_time": "2023-07-05T21:25:18.119118700Z"
    },
    "collapsed": false
   },
   "outputs": [
    {
     "data": {
      "text/plain": [
       "0"
      ]
     },
     "execution_count": 32,
     "metadata": {},
     "output_type": "execute_result"
    }
   ],
   "source": [
    "aw_customers.isnull().sum().sum()"
   ]
  },
  {
   "attachments": {},
   "cell_type": "markdown",
   "metadata": {
    "collapsed": false
   },
   "source": [
    "There are no more null values present in Customers Table"
   ]
  },
  {
   "cell_type": "code",
   "execution_count": 33,
   "metadata": {
    "ExecuteTime": {
     "end_time": "2023-07-05T21:25:20.828340200Z",
     "start_time": "2023-07-05T21:25:18.151689600Z"
    },
    "collapsed": false
   },
   "outputs": [
    {
     "data": {
      "text/plain": [
       "ProductKey             0\n",
       "ProductSKU             0\n",
       "ProductName            0\n",
       "ModelName              0\n",
       "ProductDescription     0\n",
       "ProductColor          50\n",
       "ProductSize            0\n",
       "ProductStyle           0\n",
       "ProductCost            0\n",
       "ProductPrice           0\n",
       "SubcategoryName        0\n",
       "CategoryName           0\n",
       "dtype: int64"
      ]
     },
     "execution_count": 33,
     "metadata": {},
     "output_type": "execute_result"
    }
   ],
   "source": [
    "# Exploring Null Values in Products Table\n",
    "\n",
    "aw_products.isnull().sum()"
   ]
  },
  {
   "cell_type": "code",
   "execution_count": 34,
   "metadata": {
    "ExecuteTime": {
     "end_time": "2023-07-05T21:25:20.830333900Z",
     "start_time": "2023-07-05T21:25:18.180611900Z"
    },
    "collapsed": false
   },
   "outputs": [
    {
     "data": {
      "text/html": [
       "<div>\n",
       "<style scoped>\n",
       "    .dataframe tbody tr th:only-of-type {\n",
       "        vertical-align: middle;\n",
       "    }\n",
       "\n",
       "    .dataframe tbody tr th {\n",
       "        vertical-align: top;\n",
       "    }\n",
       "\n",
       "    .dataframe thead th {\n",
       "        text-align: right;\n",
       "    }\n",
       "</style>\n",
       "<table border=\"1\" class=\"dataframe\">\n",
       "  <thead>\n",
       "    <tr style=\"text-align: right;\">\n",
       "      <th></th>\n",
       "      <th>ProductKey</th>\n",
       "      <th>ProductSKU</th>\n",
       "      <th>ProductName</th>\n",
       "      <th>ModelName</th>\n",
       "      <th>ProductDescription</th>\n",
       "      <th>ProductColor</th>\n",
       "      <th>ProductSize</th>\n",
       "      <th>ProductStyle</th>\n",
       "      <th>ProductCost</th>\n",
       "      <th>ProductPrice</th>\n",
       "      <th>SubcategoryName</th>\n",
       "      <th>CategoryName</th>\n",
       "    </tr>\n",
       "  </thead>\n",
       "  <tbody>\n",
       "    <tr>\n",
       "      <th>4</th>\n",
       "      <td>447</td>\n",
       "      <td>LO-C100</td>\n",
       "      <td>Cable Lock</td>\n",
       "      <td>Cable Lock</td>\n",
       "      <td>Wraps to fit front and rear tires, carrier and...</td>\n",
       "      <td>NaN</td>\n",
       "      <td>0</td>\n",
       "      <td>0</td>\n",
       "      <td>10.3125</td>\n",
       "      <td>25.0000</td>\n",
       "      <td>Locks</td>\n",
       "      <td>Accessories</td>\n",
       "    </tr>\n",
       "    <tr>\n",
       "      <th>5</th>\n",
       "      <td>448</td>\n",
       "      <td>PU-0452</td>\n",
       "      <td>Minipump</td>\n",
       "      <td>Minipump</td>\n",
       "      <td>Designed for convenience. Fits in your pocket....</td>\n",
       "      <td>NaN</td>\n",
       "      <td>0</td>\n",
       "      <td>0</td>\n",
       "      <td>8.2459</td>\n",
       "      <td>19.9900</td>\n",
       "      <td>Pumps</td>\n",
       "      <td>Accessories</td>\n",
       "    </tr>\n",
       "    <tr>\n",
       "      <th>6</th>\n",
       "      <td>449</td>\n",
       "      <td>PU-M044</td>\n",
       "      <td>Mountain Pump</td>\n",
       "      <td>Mountain Pump</td>\n",
       "      <td>Simple and light-weight. Emergency patches sto...</td>\n",
       "      <td>NaN</td>\n",
       "      <td>0</td>\n",
       "      <td>0</td>\n",
       "      <td>10.3084</td>\n",
       "      <td>24.9900</td>\n",
       "      <td>Pumps</td>\n",
       "      <td>Accessories</td>\n",
       "    </tr>\n",
       "    <tr>\n",
       "      <th>7</th>\n",
       "      <td>450</td>\n",
       "      <td>LT-T990</td>\n",
       "      <td>Taillights - Battery-Powered</td>\n",
       "      <td>Taillight</td>\n",
       "      <td>Affordable light for safe night riding - uses ...</td>\n",
       "      <td>NaN</td>\n",
       "      <td>0</td>\n",
       "      <td>0</td>\n",
       "      <td>5.7709</td>\n",
       "      <td>13.9900</td>\n",
       "      <td>Lights</td>\n",
       "      <td>Accessories</td>\n",
       "    </tr>\n",
       "    <tr>\n",
       "      <th>8</th>\n",
       "      <td>451</td>\n",
       "      <td>LT-H902</td>\n",
       "      <td>Headlights - Dual-Beam</td>\n",
       "      <td>Headlights - Dual-Beam</td>\n",
       "      <td>Rechargeable dual-beam headlight.</td>\n",
       "      <td>NaN</td>\n",
       "      <td>0</td>\n",
       "      <td>0</td>\n",
       "      <td>14.4334</td>\n",
       "      <td>34.9900</td>\n",
       "      <td>Lights</td>\n",
       "      <td>Accessories</td>\n",
       "    </tr>\n",
       "    <tr>\n",
       "      <th>9</th>\n",
       "      <td>452</td>\n",
       "      <td>LT-H903</td>\n",
       "      <td>Headlights - Weatherproof</td>\n",
       "      <td>Headlights - Weatherproof</td>\n",
       "      <td>Rugged weatherproof headlight.</td>\n",
       "      <td>NaN</td>\n",
       "      <td>0</td>\n",
       "      <td>0</td>\n",
       "      <td>18.5584</td>\n",
       "      <td>44.9900</td>\n",
       "      <td>Lights</td>\n",
       "      <td>Accessories</td>\n",
       "    </tr>\n",
       "    <tr>\n",
       "      <th>10</th>\n",
       "      <td>477</td>\n",
       "      <td>WB-H098</td>\n",
       "      <td>Water Bottle - 30 oz.</td>\n",
       "      <td>Water Bottle</td>\n",
       "      <td>AWC logo water bottle - holds 30 oz; leak-proof.</td>\n",
       "      <td>NaN</td>\n",
       "      <td>0</td>\n",
       "      <td>0</td>\n",
       "      <td>1.8663</td>\n",
       "      <td>4.9900</td>\n",
       "      <td>Bottles and Cages</td>\n",
       "      <td>Accessories</td>\n",
       "    </tr>\n",
       "    <tr>\n",
       "      <th>11</th>\n",
       "      <td>478</td>\n",
       "      <td>BC-M005</td>\n",
       "      <td>Mountain Bottle Cage</td>\n",
       "      <td>Mountain Bottle Cage</td>\n",
       "      <td>Tough aluminum cage holds bottle securly on to...</td>\n",
       "      <td>NaN</td>\n",
       "      <td>0</td>\n",
       "      <td>0</td>\n",
       "      <td>3.7363</td>\n",
       "      <td>9.9900</td>\n",
       "      <td>Bottles and Cages</td>\n",
       "      <td>Accessories</td>\n",
       "    </tr>\n",
       "    <tr>\n",
       "      <th>12</th>\n",
       "      <td>479</td>\n",
       "      <td>BC-R205</td>\n",
       "      <td>Road Bottle Cage</td>\n",
       "      <td>Road Bottle Cage</td>\n",
       "      <td>Aluminum cage is lighter than our mountain ver...</td>\n",
       "      <td>NaN</td>\n",
       "      <td>0</td>\n",
       "      <td>0</td>\n",
       "      <td>3.3623</td>\n",
       "      <td>8.9900</td>\n",
       "      <td>Bottles and Cages</td>\n",
       "      <td>Accessories</td>\n",
       "    </tr>\n",
       "    <tr>\n",
       "      <th>13</th>\n",
       "      <td>480</td>\n",
       "      <td>PK-7098</td>\n",
       "      <td>Patch Kit/8 Patches</td>\n",
       "      <td>Patch kit</td>\n",
       "      <td>Includes 8 different size patches, glue and sa...</td>\n",
       "      <td>NaN</td>\n",
       "      <td>0</td>\n",
       "      <td>0</td>\n",
       "      <td>0.8565</td>\n",
       "      <td>2.2900</td>\n",
       "      <td>Tires and Tubes</td>\n",
       "      <td>Accessories</td>\n",
       "    </tr>\n",
       "    <tr>\n",
       "      <th>14</th>\n",
       "      <td>528</td>\n",
       "      <td>TT-M928</td>\n",
       "      <td>Mountain Tire Tube</td>\n",
       "      <td>Mountain Tire Tube</td>\n",
       "      <td>Self-sealing tube.</td>\n",
       "      <td>NaN</td>\n",
       "      <td>0</td>\n",
       "      <td>0</td>\n",
       "      <td>1.8663</td>\n",
       "      <td>4.9900</td>\n",
       "      <td>Tires and Tubes</td>\n",
       "      <td>Accessories</td>\n",
       "    </tr>\n",
       "    <tr>\n",
       "      <th>15</th>\n",
       "      <td>529</td>\n",
       "      <td>TT-R982</td>\n",
       "      <td>Road Tire Tube</td>\n",
       "      <td>Road Tire Tube</td>\n",
       "      <td>Conventional all-purpose tube.</td>\n",
       "      <td>NaN</td>\n",
       "      <td>0</td>\n",
       "      <td>0</td>\n",
       "      <td>1.4923</td>\n",
       "      <td>3.9900</td>\n",
       "      <td>Tires and Tubes</td>\n",
       "      <td>Accessories</td>\n",
       "    </tr>\n",
       "    <tr>\n",
       "      <th>16</th>\n",
       "      <td>530</td>\n",
       "      <td>TT-T092</td>\n",
       "      <td>Touring Tire Tube</td>\n",
       "      <td>Touring Tire Tube</td>\n",
       "      <td>General purpose tube.</td>\n",
       "      <td>NaN</td>\n",
       "      <td>0</td>\n",
       "      <td>0</td>\n",
       "      <td>1.8663</td>\n",
       "      <td>4.9900</td>\n",
       "      <td>Tires and Tubes</td>\n",
       "      <td>Accessories</td>\n",
       "    </tr>\n",
       "    <tr>\n",
       "      <th>17</th>\n",
       "      <td>535</td>\n",
       "      <td>TI-M267</td>\n",
       "      <td>LL Mountain Tire</td>\n",
       "      <td>LL Mountain Tire</td>\n",
       "      <td>Comparible traction, less expensive wire bead ...</td>\n",
       "      <td>NaN</td>\n",
       "      <td>0</td>\n",
       "      <td>0</td>\n",
       "      <td>9.3463</td>\n",
       "      <td>24.9900</td>\n",
       "      <td>Tires and Tubes</td>\n",
       "      <td>Accessories</td>\n",
       "    </tr>\n",
       "    <tr>\n",
       "      <th>18</th>\n",
       "      <td>536</td>\n",
       "      <td>TI-M602</td>\n",
       "      <td>ML Mountain Tire</td>\n",
       "      <td>ML Mountain Tire</td>\n",
       "      <td>Great traction, high-density rubber.</td>\n",
       "      <td>NaN</td>\n",
       "      <td>0</td>\n",
       "      <td>0</td>\n",
       "      <td>11.2163</td>\n",
       "      <td>29.9900</td>\n",
       "      <td>Tires and Tubes</td>\n",
       "      <td>Accessories</td>\n",
       "    </tr>\n",
       "    <tr>\n",
       "      <th>19</th>\n",
       "      <td>537</td>\n",
       "      <td>TI-M823</td>\n",
       "      <td>HL Mountain Tire</td>\n",
       "      <td>HL Mountain Tire</td>\n",
       "      <td>Incredible traction, lightweight carbon reinfo...</td>\n",
       "      <td>NaN</td>\n",
       "      <td>0</td>\n",
       "      <td>0</td>\n",
       "      <td>13.0900</td>\n",
       "      <td>35.0000</td>\n",
       "      <td>Tires and Tubes</td>\n",
       "      <td>Accessories</td>\n",
       "    </tr>\n",
       "    <tr>\n",
       "      <th>20</th>\n",
       "      <td>538</td>\n",
       "      <td>TI-R092</td>\n",
       "      <td>LL Road Tire</td>\n",
       "      <td>LL Road Tire</td>\n",
       "      <td>Same great treads as more expensive tire with ...</td>\n",
       "      <td>NaN</td>\n",
       "      <td>0</td>\n",
       "      <td>0</td>\n",
       "      <td>8.0373</td>\n",
       "      <td>21.4900</td>\n",
       "      <td>Tires and Tubes</td>\n",
       "      <td>Accessories</td>\n",
       "    </tr>\n",
       "    <tr>\n",
       "      <th>21</th>\n",
       "      <td>539</td>\n",
       "      <td>TI-R628</td>\n",
       "      <td>ML Road Tire</td>\n",
       "      <td>ML Road Tire</td>\n",
       "      <td>Higher density rubber.</td>\n",
       "      <td>NaN</td>\n",
       "      <td>0</td>\n",
       "      <td>0</td>\n",
       "      <td>9.3463</td>\n",
       "      <td>24.9900</td>\n",
       "      <td>Tires and Tubes</td>\n",
       "      <td>Accessories</td>\n",
       "    </tr>\n",
       "    <tr>\n",
       "      <th>22</th>\n",
       "      <td>540</td>\n",
       "      <td>TI-R982</td>\n",
       "      <td>HL Road Tire</td>\n",
       "      <td>HL Road Tire</td>\n",
       "      <td>Lightweight carbon reinforced  for an unrivale...</td>\n",
       "      <td>NaN</td>\n",
       "      <td>0</td>\n",
       "      <td>0</td>\n",
       "      <td>12.1924</td>\n",
       "      <td>32.6000</td>\n",
       "      <td>Tires and Tubes</td>\n",
       "      <td>Accessories</td>\n",
       "    </tr>\n",
       "    <tr>\n",
       "      <th>23</th>\n",
       "      <td>541</td>\n",
       "      <td>TI-T723</td>\n",
       "      <td>Touring Tire</td>\n",
       "      <td>Touring Tire</td>\n",
       "      <td>High-density rubber.</td>\n",
       "      <td>NaN</td>\n",
       "      <td>0</td>\n",
       "      <td>0</td>\n",
       "      <td>10.8423</td>\n",
       "      <td>28.9900</td>\n",
       "      <td>Tires and Tubes</td>\n",
       "      <td>Accessories</td>\n",
       "    </tr>\n",
       "    <tr>\n",
       "      <th>24</th>\n",
       "      <td>483</td>\n",
       "      <td>RA-H123</td>\n",
       "      <td>Hitch Rack - 4-Bike</td>\n",
       "      <td>Hitch Rack - 4-Bike</td>\n",
       "      <td>Carries 4 bikes securely; steel construction, ...</td>\n",
       "      <td>NaN</td>\n",
       "      <td>0</td>\n",
       "      <td>0</td>\n",
       "      <td>44.8800</td>\n",
       "      <td>120.0000</td>\n",
       "      <td>Bike Racks</td>\n",
       "      <td>Accessories</td>\n",
       "    </tr>\n",
       "    <tr>\n",
       "      <th>25</th>\n",
       "      <td>484</td>\n",
       "      <td>CL-9009</td>\n",
       "      <td>Bike Wash - Dissolver</td>\n",
       "      <td>Bike Wash</td>\n",
       "      <td>Washes off the toughest road grime; dissolves ...</td>\n",
       "      <td>NaN</td>\n",
       "      <td>0</td>\n",
       "      <td>0</td>\n",
       "      <td>2.9733</td>\n",
       "      <td>7.9500</td>\n",
       "      <td>Cleaners</td>\n",
       "      <td>Accessories</td>\n",
       "    </tr>\n",
       "    <tr>\n",
       "      <th>26</th>\n",
       "      <td>485</td>\n",
       "      <td>FE-6654</td>\n",
       "      <td>Fender Set - Mountain</td>\n",
       "      <td>Fender Set - Mountain</td>\n",
       "      <td>Clip-on fenders fit most mountain bikes.</td>\n",
       "      <td>NaN</td>\n",
       "      <td>0</td>\n",
       "      <td>0</td>\n",
       "      <td>8.2205</td>\n",
       "      <td>21.9800</td>\n",
       "      <td>Fenders</td>\n",
       "      <td>Accessories</td>\n",
       "    </tr>\n",
       "    <tr>\n",
       "      <th>27</th>\n",
       "      <td>486</td>\n",
       "      <td>ST-1401</td>\n",
       "      <td>All-Purpose Bike Stand</td>\n",
       "      <td>All-Purpose Bike Stand</td>\n",
       "      <td>Perfect all-purpose bike stand for working on ...</td>\n",
       "      <td>NaN</td>\n",
       "      <td>0</td>\n",
       "      <td>0</td>\n",
       "      <td>59.4660</td>\n",
       "      <td>159.0000</td>\n",
       "      <td>Bike Stands</td>\n",
       "      <td>Accessories</td>\n",
       "    </tr>\n",
       "    <tr>\n",
       "      <th>123</th>\n",
       "      <td>391</td>\n",
       "      <td>FK-1639</td>\n",
       "      <td>LL Fork</td>\n",
       "      <td>LL Fork</td>\n",
       "      <td>Stout design absorbs shock and offers more pre...</td>\n",
       "      <td>NaN</td>\n",
       "      <td>0</td>\n",
       "      <td>0</td>\n",
       "      <td>65.8097</td>\n",
       "      <td>148.2200</td>\n",
       "      <td>Forks</td>\n",
       "      <td>Components</td>\n",
       "    </tr>\n",
       "    <tr>\n",
       "      <th>124</th>\n",
       "      <td>392</td>\n",
       "      <td>FK-5136</td>\n",
       "      <td>ML Fork</td>\n",
       "      <td>ML Fork</td>\n",
       "      <td>Composite road fork with an aluminum steerer t...</td>\n",
       "      <td>NaN</td>\n",
       "      <td>0</td>\n",
       "      <td>0</td>\n",
       "      <td>77.9176</td>\n",
       "      <td>175.4900</td>\n",
       "      <td>Forks</td>\n",
       "      <td>Components</td>\n",
       "    </tr>\n",
       "    <tr>\n",
       "      <th>125</th>\n",
       "      <td>393</td>\n",
       "      <td>FK-9939</td>\n",
       "      <td>HL Fork</td>\n",
       "      <td>HL Fork</td>\n",
       "      <td>High-performance carbon road fork with curved ...</td>\n",
       "      <td>NaN</td>\n",
       "      <td>0</td>\n",
       "      <td>0</td>\n",
       "      <td>101.8936</td>\n",
       "      <td>229.4900</td>\n",
       "      <td>Forks</td>\n",
       "      <td>Components</td>\n",
       "    </tr>\n",
       "    <tr>\n",
       "      <th>126</th>\n",
       "      <td>394</td>\n",
       "      <td>HS-0296</td>\n",
       "      <td>LL Headset</td>\n",
       "      <td>LL Headset</td>\n",
       "      <td>Threadless headset provides quality at an econ...</td>\n",
       "      <td>NaN</td>\n",
       "      <td>0</td>\n",
       "      <td>0</td>\n",
       "      <td>15.1848</td>\n",
       "      <td>34.2000</td>\n",
       "      <td>Headsets</td>\n",
       "      <td>Components</td>\n",
       "    </tr>\n",
       "    <tr>\n",
       "      <th>127</th>\n",
       "      <td>395</td>\n",
       "      <td>HS-2451</td>\n",
       "      <td>ML Headset</td>\n",
       "      <td>ML Headset</td>\n",
       "      <td>Sealed cartridge keeps dirt out.</td>\n",
       "      <td>NaN</td>\n",
       "      <td>0</td>\n",
       "      <td>0</td>\n",
       "      <td>45.4168</td>\n",
       "      <td>102.2900</td>\n",
       "      <td>Headsets</td>\n",
       "      <td>Components</td>\n",
       "    </tr>\n",
       "    <tr>\n",
       "      <th>128</th>\n",
       "      <td>396</td>\n",
       "      <td>HS-3479</td>\n",
       "      <td>HL Headset</td>\n",
       "      <td>HL Headset</td>\n",
       "      <td>High-quality 1\" threadless headset with a grea...</td>\n",
       "      <td>NaN</td>\n",
       "      <td>0</td>\n",
       "      <td>0</td>\n",
       "      <td>55.3801</td>\n",
       "      <td>124.7300</td>\n",
       "      <td>Headsets</td>\n",
       "      <td>Components</td>\n",
       "    </tr>\n",
       "    <tr>\n",
       "      <th>129</th>\n",
       "      <td>397</td>\n",
       "      <td>HB-M243</td>\n",
       "      <td>LL Mountain Handlebars</td>\n",
       "      <td>LL Mountain Handlebars</td>\n",
       "      <td>All-purpose bar for on or off-road.</td>\n",
       "      <td>NaN</td>\n",
       "      <td>0</td>\n",
       "      <td>0</td>\n",
       "      <td>17.9780</td>\n",
       "      <td>40.4909</td>\n",
       "      <td>Handlebars</td>\n",
       "      <td>Components</td>\n",
       "    </tr>\n",
       "    <tr>\n",
       "      <th>130</th>\n",
       "      <td>399</td>\n",
       "      <td>HB-M763</td>\n",
       "      <td>ML Mountain Handlebars</td>\n",
       "      <td>ML Mountain Handlebars</td>\n",
       "      <td>Tough aluminum alloy bars for downhill.</td>\n",
       "      <td>NaN</td>\n",
       "      <td>0</td>\n",
       "      <td>0</td>\n",
       "      <td>24.9932</td>\n",
       "      <td>56.2909</td>\n",
       "      <td>Handlebars</td>\n",
       "      <td>Components</td>\n",
       "    </tr>\n",
       "    <tr>\n",
       "      <th>131</th>\n",
       "      <td>401</td>\n",
       "      <td>HB-M918</td>\n",
       "      <td>HL Mountain Handlebars</td>\n",
       "      <td>HL Mountain Handlebars</td>\n",
       "      <td>Flat bar strong enough for the pro circuit.</td>\n",
       "      <td>NaN</td>\n",
       "      <td>0</td>\n",
       "      <td>0</td>\n",
       "      <td>48.5453</td>\n",
       "      <td>109.3364</td>\n",
       "      <td>Handlebars</td>\n",
       "      <td>Components</td>\n",
       "    </tr>\n",
       "    <tr>\n",
       "      <th>132</th>\n",
       "      <td>403</td>\n",
       "      <td>HB-R504</td>\n",
       "      <td>LL Road Handlebars</td>\n",
       "      <td>LL Road Handlebars</td>\n",
       "      <td>Unique shape provides easier reach to the levers.</td>\n",
       "      <td>NaN</td>\n",
       "      <td>0</td>\n",
       "      <td>0</td>\n",
       "      <td>17.9780</td>\n",
       "      <td>40.4909</td>\n",
       "      <td>Handlebars</td>\n",
       "      <td>Components</td>\n",
       "    </tr>\n",
       "    <tr>\n",
       "      <th>133</th>\n",
       "      <td>405</td>\n",
       "      <td>HB-R720</td>\n",
       "      <td>ML Road Handlebars</td>\n",
       "      <td>ML Road Handlebars</td>\n",
       "      <td>Anatomically shaped aluminum tube bar will sui...</td>\n",
       "      <td>NaN</td>\n",
       "      <td>0</td>\n",
       "      <td>0</td>\n",
       "      <td>24.9932</td>\n",
       "      <td>56.2909</td>\n",
       "      <td>Handlebars</td>\n",
       "      <td>Components</td>\n",
       "    </tr>\n",
       "    <tr>\n",
       "      <th>134</th>\n",
       "      <td>407</td>\n",
       "      <td>HB-R956</td>\n",
       "      <td>HL Road Handlebars</td>\n",
       "      <td>HL Road Handlebars</td>\n",
       "      <td>Designed for racers; high-end anatomically sha...</td>\n",
       "      <td>NaN</td>\n",
       "      <td>0</td>\n",
       "      <td>0</td>\n",
       "      <td>48.5453</td>\n",
       "      <td>109.3364</td>\n",
       "      <td>Handlebars</td>\n",
       "      <td>Components</td>\n",
       "    </tr>\n",
       "    <tr>\n",
       "      <th>135</th>\n",
       "      <td>553</td>\n",
       "      <td>HB-T721</td>\n",
       "      <td>LL Touring Handlebars</td>\n",
       "      <td>LL Touring Handlebars</td>\n",
       "      <td>Unique shape reduces fatigue for entry level r...</td>\n",
       "      <td>NaN</td>\n",
       "      <td>0</td>\n",
       "      <td>0</td>\n",
       "      <td>20.4640</td>\n",
       "      <td>46.0900</td>\n",
       "      <td>Handlebars</td>\n",
       "      <td>Components</td>\n",
       "    </tr>\n",
       "    <tr>\n",
       "      <th>136</th>\n",
       "      <td>554</td>\n",
       "      <td>HB-T928</td>\n",
       "      <td>HL Touring Handlebars</td>\n",
       "      <td>HL Touring Handlebars</td>\n",
       "      <td>A light yet stiff aluminum bar for long distan...</td>\n",
       "      <td>NaN</td>\n",
       "      <td>0</td>\n",
       "      <td>0</td>\n",
       "      <td>40.6571</td>\n",
       "      <td>91.5700</td>\n",
       "      <td>Handlebars</td>\n",
       "      <td>Components</td>\n",
       "    </tr>\n",
       "    <tr>\n",
       "      <th>173</th>\n",
       "      <td>515</td>\n",
       "      <td>SE-M236</td>\n",
       "      <td>LL Mountain Seat/Saddle</td>\n",
       "      <td>LL Mountain Seat/Saddle 2</td>\n",
       "      <td>Synthetic leather. Features gel for increased ...</td>\n",
       "      <td>NaN</td>\n",
       "      <td>0</td>\n",
       "      <td>0</td>\n",
       "      <td>12.0413</td>\n",
       "      <td>27.1200</td>\n",
       "      <td>Saddles</td>\n",
       "      <td>Components</td>\n",
       "    </tr>\n",
       "    <tr>\n",
       "      <th>174</th>\n",
       "      <td>516</td>\n",
       "      <td>SE-M798</td>\n",
       "      <td>ML Mountain Seat/Saddle</td>\n",
       "      <td>ML Mountain Seat/Saddle 2</td>\n",
       "      <td>Designed to absorb shock.</td>\n",
       "      <td>NaN</td>\n",
       "      <td>0</td>\n",
       "      <td>0</td>\n",
       "      <td>17.3782</td>\n",
       "      <td>39.1400</td>\n",
       "      <td>Saddles</td>\n",
       "      <td>Components</td>\n",
       "    </tr>\n",
       "    <tr>\n",
       "      <th>175</th>\n",
       "      <td>517</td>\n",
       "      <td>SE-M940</td>\n",
       "      <td>HL Mountain Seat/Saddle</td>\n",
       "      <td>HL Mountain Seat/Saddle 2</td>\n",
       "      <td>Anatomic design for a full-day of riding in co...</td>\n",
       "      <td>NaN</td>\n",
       "      <td>0</td>\n",
       "      <td>0</td>\n",
       "      <td>23.3722</td>\n",
       "      <td>52.6400</td>\n",
       "      <td>Saddles</td>\n",
       "      <td>Components</td>\n",
       "    </tr>\n",
       "    <tr>\n",
       "      <th>176</th>\n",
       "      <td>518</td>\n",
       "      <td>SE-R581</td>\n",
       "      <td>LL Road Seat/Saddle</td>\n",
       "      <td>LL Road Seat/Saddle 1</td>\n",
       "      <td>Lightweight foam-padded saddle.</td>\n",
       "      <td>NaN</td>\n",
       "      <td>0</td>\n",
       "      <td>0</td>\n",
       "      <td>12.0413</td>\n",
       "      <td>27.1200</td>\n",
       "      <td>Saddles</td>\n",
       "      <td>Components</td>\n",
       "    </tr>\n",
       "    <tr>\n",
       "      <th>177</th>\n",
       "      <td>519</td>\n",
       "      <td>SE-R908</td>\n",
       "      <td>ML Road Seat/Saddle</td>\n",
       "      <td>ML Road Seat/Saddle 2</td>\n",
       "      <td>Rubber bumpers absorb bumps.</td>\n",
       "      <td>NaN</td>\n",
       "      <td>0</td>\n",
       "      <td>0</td>\n",
       "      <td>17.3782</td>\n",
       "      <td>39.1400</td>\n",
       "      <td>Saddles</td>\n",
       "      <td>Components</td>\n",
       "    </tr>\n",
       "    <tr>\n",
       "      <th>178</th>\n",
       "      <td>520</td>\n",
       "      <td>SE-R995</td>\n",
       "      <td>HL Road Seat/Saddle</td>\n",
       "      <td>HL Road Seat/Saddle 2</td>\n",
       "      <td>Lightweight kevlar racing saddle. Leather.</td>\n",
       "      <td>NaN</td>\n",
       "      <td>0</td>\n",
       "      <td>0</td>\n",
       "      <td>23.3722</td>\n",
       "      <td>52.6400</td>\n",
       "      <td>Saddles</td>\n",
       "      <td>Components</td>\n",
       "    </tr>\n",
       "    <tr>\n",
       "      <th>179</th>\n",
       "      <td>521</td>\n",
       "      <td>SE-T312</td>\n",
       "      <td>LL Touring Seat/Saddle</td>\n",
       "      <td>LL Touring Seat/Saddle</td>\n",
       "      <td>Comfortable, ergonomically shaped gel saddle.</td>\n",
       "      <td>NaN</td>\n",
       "      <td>0</td>\n",
       "      <td>0</td>\n",
       "      <td>12.0413</td>\n",
       "      <td>27.1200</td>\n",
       "      <td>Saddles</td>\n",
       "      <td>Components</td>\n",
       "    </tr>\n",
       "    <tr>\n",
       "      <th>180</th>\n",
       "      <td>522</td>\n",
       "      <td>SE-T762</td>\n",
       "      <td>ML Touring Seat/Saddle</td>\n",
       "      <td>ML Touring Seat/Saddle</td>\n",
       "      <td>New design relieves pressure for long rides.</td>\n",
       "      <td>NaN</td>\n",
       "      <td>0</td>\n",
       "      <td>0</td>\n",
       "      <td>17.3782</td>\n",
       "      <td>39.1400</td>\n",
       "      <td>Saddles</td>\n",
       "      <td>Components</td>\n",
       "    </tr>\n",
       "    <tr>\n",
       "      <th>181</th>\n",
       "      <td>523</td>\n",
       "      <td>SE-T924</td>\n",
       "      <td>HL Touring Seat/Saddle</td>\n",
       "      <td>HL Touring Seat/Saddle</td>\n",
       "      <td>Cut-out shell for a more comfortable ride.</td>\n",
       "      <td>NaN</td>\n",
       "      <td>0</td>\n",
       "      <td>0</td>\n",
       "      <td>23.3722</td>\n",
       "      <td>52.6400</td>\n",
       "      <td>Saddles</td>\n",
       "      <td>Components</td>\n",
       "    </tr>\n",
       "    <tr>\n",
       "      <th>193</th>\n",
       "      <td>601</td>\n",
       "      <td>BB-7421</td>\n",
       "      <td>LL Bottom Bracket</td>\n",
       "      <td>LL Bottom Bracket</td>\n",
       "      <td>Chromoly steel.</td>\n",
       "      <td>NaN</td>\n",
       "      <td>0</td>\n",
       "      <td>0</td>\n",
       "      <td>23.9716</td>\n",
       "      <td>53.9900</td>\n",
       "      <td>Bottom Brackets</td>\n",
       "      <td>Components</td>\n",
       "    </tr>\n",
       "    <tr>\n",
       "      <th>194</th>\n",
       "      <td>602</td>\n",
       "      <td>BB-8107</td>\n",
       "      <td>ML Bottom Bracket</td>\n",
       "      <td>ML Bottom Bracket</td>\n",
       "      <td>Aluminum alloy cups; large diameter spindle.</td>\n",
       "      <td>NaN</td>\n",
       "      <td>0</td>\n",
       "      <td>0</td>\n",
       "      <td>44.9506</td>\n",
       "      <td>101.2400</td>\n",
       "      <td>Bottom Brackets</td>\n",
       "      <td>Components</td>\n",
       "    </tr>\n",
       "    <tr>\n",
       "      <th>195</th>\n",
       "      <td>603</td>\n",
       "      <td>BB-9108</td>\n",
       "      <td>HL Bottom Bracket</td>\n",
       "      <td>HL Bottom Bracket</td>\n",
       "      <td>Aluminum alloy cups and a hollow axle.</td>\n",
       "      <td>NaN</td>\n",
       "      <td>0</td>\n",
       "      <td>0</td>\n",
       "      <td>53.9416</td>\n",
       "      <td>121.4900</td>\n",
       "      <td>Bottom Brackets</td>\n",
       "      <td>Components</td>\n",
       "    </tr>\n",
       "  </tbody>\n",
       "</table>\n",
       "</div>"
      ],
      "text/plain": [
       "     ProductKey ProductSKU                   ProductName  \\\n",
       "4           447    LO-C100                    Cable Lock   \n",
       "5           448    PU-0452                      Minipump   \n",
       "6           449    PU-M044                 Mountain Pump   \n",
       "7           450    LT-T990  Taillights - Battery-Powered   \n",
       "8           451    LT-H902        Headlights - Dual-Beam   \n",
       "9           452    LT-H903     Headlights - Weatherproof   \n",
       "10          477    WB-H098         Water Bottle - 30 oz.   \n",
       "11          478    BC-M005          Mountain Bottle Cage   \n",
       "12          479    BC-R205              Road Bottle Cage   \n",
       "13          480    PK-7098           Patch Kit/8 Patches   \n",
       "14          528    TT-M928            Mountain Tire Tube   \n",
       "15          529    TT-R982                Road Tire Tube   \n",
       "16          530    TT-T092             Touring Tire Tube   \n",
       "17          535    TI-M267              LL Mountain Tire   \n",
       "18          536    TI-M602              ML Mountain Tire   \n",
       "19          537    TI-M823              HL Mountain Tire   \n",
       "20          538    TI-R092                  LL Road Tire   \n",
       "21          539    TI-R628                  ML Road Tire   \n",
       "22          540    TI-R982                  HL Road Tire   \n",
       "23          541    TI-T723                  Touring Tire   \n",
       "24          483    RA-H123           Hitch Rack - 4-Bike   \n",
       "25          484    CL-9009         Bike Wash - Dissolver   \n",
       "26          485    FE-6654         Fender Set - Mountain   \n",
       "27          486    ST-1401        All-Purpose Bike Stand   \n",
       "123         391    FK-1639                       LL Fork   \n",
       "124         392    FK-5136                       ML Fork   \n",
       "125         393    FK-9939                       HL Fork   \n",
       "126         394    HS-0296                    LL Headset   \n",
       "127         395    HS-2451                    ML Headset   \n",
       "128         396    HS-3479                    HL Headset   \n",
       "129         397    HB-M243        LL Mountain Handlebars   \n",
       "130         399    HB-M763        ML Mountain Handlebars   \n",
       "131         401    HB-M918        HL Mountain Handlebars   \n",
       "132         403    HB-R504            LL Road Handlebars   \n",
       "133         405    HB-R720            ML Road Handlebars   \n",
       "134         407    HB-R956            HL Road Handlebars   \n",
       "135         553    HB-T721         LL Touring Handlebars   \n",
       "136         554    HB-T928         HL Touring Handlebars   \n",
       "173         515    SE-M236       LL Mountain Seat/Saddle   \n",
       "174         516    SE-M798       ML Mountain Seat/Saddle   \n",
       "175         517    SE-M940       HL Mountain Seat/Saddle   \n",
       "176         518    SE-R581           LL Road Seat/Saddle   \n",
       "177         519    SE-R908           ML Road Seat/Saddle   \n",
       "178         520    SE-R995           HL Road Seat/Saddle   \n",
       "179         521    SE-T312        LL Touring Seat/Saddle   \n",
       "180         522    SE-T762        ML Touring Seat/Saddle   \n",
       "181         523    SE-T924        HL Touring Seat/Saddle   \n",
       "193         601    BB-7421             LL Bottom Bracket   \n",
       "194         602    BB-8107             ML Bottom Bracket   \n",
       "195         603    BB-9108             HL Bottom Bracket   \n",
       "\n",
       "                     ModelName  \\\n",
       "4                   Cable Lock   \n",
       "5                     Minipump   \n",
       "6                Mountain Pump   \n",
       "7                    Taillight   \n",
       "8       Headlights - Dual-Beam   \n",
       "9    Headlights - Weatherproof   \n",
       "10                Water Bottle   \n",
       "11        Mountain Bottle Cage   \n",
       "12            Road Bottle Cage   \n",
       "13                   Patch kit   \n",
       "14          Mountain Tire Tube   \n",
       "15              Road Tire Tube   \n",
       "16           Touring Tire Tube   \n",
       "17            LL Mountain Tire   \n",
       "18            ML Mountain Tire   \n",
       "19            HL Mountain Tire   \n",
       "20                LL Road Tire   \n",
       "21                ML Road Tire   \n",
       "22                HL Road Tire   \n",
       "23                Touring Tire   \n",
       "24         Hitch Rack - 4-Bike   \n",
       "25                   Bike Wash   \n",
       "26       Fender Set - Mountain   \n",
       "27      All-Purpose Bike Stand   \n",
       "123                    LL Fork   \n",
       "124                    ML Fork   \n",
       "125                    HL Fork   \n",
       "126                 LL Headset   \n",
       "127                 ML Headset   \n",
       "128                 HL Headset   \n",
       "129     LL Mountain Handlebars   \n",
       "130     ML Mountain Handlebars   \n",
       "131     HL Mountain Handlebars   \n",
       "132         LL Road Handlebars   \n",
       "133         ML Road Handlebars   \n",
       "134         HL Road Handlebars   \n",
       "135      LL Touring Handlebars   \n",
       "136      HL Touring Handlebars   \n",
       "173  LL Mountain Seat/Saddle 2   \n",
       "174  ML Mountain Seat/Saddle 2   \n",
       "175  HL Mountain Seat/Saddle 2   \n",
       "176      LL Road Seat/Saddle 1   \n",
       "177      ML Road Seat/Saddle 2   \n",
       "178      HL Road Seat/Saddle 2   \n",
       "179     LL Touring Seat/Saddle   \n",
       "180     ML Touring Seat/Saddle   \n",
       "181     HL Touring Seat/Saddle   \n",
       "193          LL Bottom Bracket   \n",
       "194          ML Bottom Bracket   \n",
       "195          HL Bottom Bracket   \n",
       "\n",
       "                                    ProductDescription ProductColor  \\\n",
       "4    Wraps to fit front and rear tires, carrier and...          NaN   \n",
       "5    Designed for convenience. Fits in your pocket....          NaN   \n",
       "6    Simple and light-weight. Emergency patches sto...          NaN   \n",
       "7    Affordable light for safe night riding - uses ...          NaN   \n",
       "8                    Rechargeable dual-beam headlight.          NaN   \n",
       "9                       Rugged weatherproof headlight.          NaN   \n",
       "10    AWC logo water bottle - holds 30 oz; leak-proof.          NaN   \n",
       "11   Tough aluminum cage holds bottle securly on to...          NaN   \n",
       "12   Aluminum cage is lighter than our mountain ver...          NaN   \n",
       "13   Includes 8 different size patches, glue and sa...          NaN   \n",
       "14                                  Self-sealing tube.          NaN   \n",
       "15                      Conventional all-purpose tube.          NaN   \n",
       "16                               General purpose tube.          NaN   \n",
       "17   Comparible traction, less expensive wire bead ...          NaN   \n",
       "18                Great traction, high-density rubber.          NaN   \n",
       "19   Incredible traction, lightweight carbon reinfo...          NaN   \n",
       "20   Same great treads as more expensive tire with ...          NaN   \n",
       "21                              Higher density rubber.          NaN   \n",
       "22   Lightweight carbon reinforced  for an unrivale...          NaN   \n",
       "23                                High-density rubber.          NaN   \n",
       "24   Carries 4 bikes securely; steel construction, ...          NaN   \n",
       "25   Washes off the toughest road grime; dissolves ...          NaN   \n",
       "26            Clip-on fenders fit most mountain bikes.          NaN   \n",
       "27   Perfect all-purpose bike stand for working on ...          NaN   \n",
       "123  Stout design absorbs shock and offers more pre...          NaN   \n",
       "124  Composite road fork with an aluminum steerer t...          NaN   \n",
       "125  High-performance carbon road fork with curved ...          NaN   \n",
       "126  Threadless headset provides quality at an econ...          NaN   \n",
       "127                   Sealed cartridge keeps dirt out.          NaN   \n",
       "128  High-quality 1\" threadless headset with a grea...          NaN   \n",
       "129                All-purpose bar for on or off-road.          NaN   \n",
       "130            Tough aluminum alloy bars for downhill.          NaN   \n",
       "131        Flat bar strong enough for the pro circuit.          NaN   \n",
       "132  Unique shape provides easier reach to the levers.          NaN   \n",
       "133  Anatomically shaped aluminum tube bar will sui...          NaN   \n",
       "134  Designed for racers; high-end anatomically sha...          NaN   \n",
       "135  Unique shape reduces fatigue for entry level r...          NaN   \n",
       "136  A light yet stiff aluminum bar for long distan...          NaN   \n",
       "173  Synthetic leather. Features gel for increased ...          NaN   \n",
       "174                          Designed to absorb shock.          NaN   \n",
       "175  Anatomic design for a full-day of riding in co...          NaN   \n",
       "176                    Lightweight foam-padded saddle.          NaN   \n",
       "177                       Rubber bumpers absorb bumps.          NaN   \n",
       "178         Lightweight kevlar racing saddle. Leather.          NaN   \n",
       "179      Comfortable, ergonomically shaped gel saddle.          NaN   \n",
       "180       New design relieves pressure for long rides.          NaN   \n",
       "181         Cut-out shell for a more comfortable ride.          NaN   \n",
       "193                                    Chromoly steel.          NaN   \n",
       "194       Aluminum alloy cups; large diameter spindle.          NaN   \n",
       "195             Aluminum alloy cups and a hollow axle.          NaN   \n",
       "\n",
       "    ProductSize ProductStyle  ProductCost  ProductPrice    SubcategoryName  \\\n",
       "4             0            0      10.3125       25.0000              Locks   \n",
       "5             0            0       8.2459       19.9900              Pumps   \n",
       "6             0            0      10.3084       24.9900              Pumps   \n",
       "7             0            0       5.7709       13.9900             Lights   \n",
       "8             0            0      14.4334       34.9900             Lights   \n",
       "9             0            0      18.5584       44.9900             Lights   \n",
       "10            0            0       1.8663        4.9900  Bottles and Cages   \n",
       "11            0            0       3.7363        9.9900  Bottles and Cages   \n",
       "12            0            0       3.3623        8.9900  Bottles and Cages   \n",
       "13            0            0       0.8565        2.2900    Tires and Tubes   \n",
       "14            0            0       1.8663        4.9900    Tires and Tubes   \n",
       "15            0            0       1.4923        3.9900    Tires and Tubes   \n",
       "16            0            0       1.8663        4.9900    Tires and Tubes   \n",
       "17            0            0       9.3463       24.9900    Tires and Tubes   \n",
       "18            0            0      11.2163       29.9900    Tires and Tubes   \n",
       "19            0            0      13.0900       35.0000    Tires and Tubes   \n",
       "20            0            0       8.0373       21.4900    Tires and Tubes   \n",
       "21            0            0       9.3463       24.9900    Tires and Tubes   \n",
       "22            0            0      12.1924       32.6000    Tires and Tubes   \n",
       "23            0            0      10.8423       28.9900    Tires and Tubes   \n",
       "24            0            0      44.8800      120.0000         Bike Racks   \n",
       "25            0            0       2.9733        7.9500           Cleaners   \n",
       "26            0            0       8.2205       21.9800            Fenders   \n",
       "27            0            0      59.4660      159.0000        Bike Stands   \n",
       "123           0            0      65.8097      148.2200              Forks   \n",
       "124           0            0      77.9176      175.4900              Forks   \n",
       "125           0            0     101.8936      229.4900              Forks   \n",
       "126           0            0      15.1848       34.2000           Headsets   \n",
       "127           0            0      45.4168      102.2900           Headsets   \n",
       "128           0            0      55.3801      124.7300           Headsets   \n",
       "129           0            0      17.9780       40.4909         Handlebars   \n",
       "130           0            0      24.9932       56.2909         Handlebars   \n",
       "131           0            0      48.5453      109.3364         Handlebars   \n",
       "132           0            0      17.9780       40.4909         Handlebars   \n",
       "133           0            0      24.9932       56.2909         Handlebars   \n",
       "134           0            0      48.5453      109.3364         Handlebars   \n",
       "135           0            0      20.4640       46.0900         Handlebars   \n",
       "136           0            0      40.6571       91.5700         Handlebars   \n",
       "173           0            0      12.0413       27.1200            Saddles   \n",
       "174           0            0      17.3782       39.1400            Saddles   \n",
       "175           0            0      23.3722       52.6400            Saddles   \n",
       "176           0            0      12.0413       27.1200            Saddles   \n",
       "177           0            0      17.3782       39.1400            Saddles   \n",
       "178           0            0      23.3722       52.6400            Saddles   \n",
       "179           0            0      12.0413       27.1200            Saddles   \n",
       "180           0            0      17.3782       39.1400            Saddles   \n",
       "181           0            0      23.3722       52.6400            Saddles   \n",
       "193           0            0      23.9716       53.9900    Bottom Brackets   \n",
       "194           0            0      44.9506      101.2400    Bottom Brackets   \n",
       "195           0            0      53.9416      121.4900    Bottom Brackets   \n",
       "\n",
       "    CategoryName  \n",
       "4    Accessories  \n",
       "5    Accessories  \n",
       "6    Accessories  \n",
       "7    Accessories  \n",
       "8    Accessories  \n",
       "9    Accessories  \n",
       "10   Accessories  \n",
       "11   Accessories  \n",
       "12   Accessories  \n",
       "13   Accessories  \n",
       "14   Accessories  \n",
       "15   Accessories  \n",
       "16   Accessories  \n",
       "17   Accessories  \n",
       "18   Accessories  \n",
       "19   Accessories  \n",
       "20   Accessories  \n",
       "21   Accessories  \n",
       "22   Accessories  \n",
       "23   Accessories  \n",
       "24   Accessories  \n",
       "25   Accessories  \n",
       "26   Accessories  \n",
       "27   Accessories  \n",
       "123   Components  \n",
       "124   Components  \n",
       "125   Components  \n",
       "126   Components  \n",
       "127   Components  \n",
       "128   Components  \n",
       "129   Components  \n",
       "130   Components  \n",
       "131   Components  \n",
       "132   Components  \n",
       "133   Components  \n",
       "134   Components  \n",
       "135   Components  \n",
       "136   Components  \n",
       "173   Components  \n",
       "174   Components  \n",
       "175   Components  \n",
       "176   Components  \n",
       "177   Components  \n",
       "178   Components  \n",
       "179   Components  \n",
       "180   Components  \n",
       "181   Components  \n",
       "193   Components  \n",
       "194   Components  \n",
       "195   Components  "
      ]
     },
     "execution_count": 34,
     "metadata": {},
     "output_type": "execute_result"
    }
   ],
   "source": [
    "aw_products.loc[aw_products['ProductColor'].isnull()]"
   ]
  },
  {
   "attachments": {},
   "cell_type": "markdown",
   "metadata": {
    "collapsed": false
   },
   "source": [
    "Removing 50 rows out of 293 rows is not a good idea. For the purpose of this analysis, relacing null values with unknown for Product Color Column."
   ]
  },
  {
   "cell_type": "code",
   "execution_count": 35,
   "metadata": {
    "ExecuteTime": {
     "end_time": "2023-07-05T21:25:20.904564Z",
     "start_time": "2023-07-05T21:25:18.247555200Z"
    },
    "collapsed": false
   },
   "outputs": [],
   "source": [
    "aw_products['ProductColor'].fillna('unknown',inplace=True)"
   ]
  },
  {
   "cell_type": "code",
   "execution_count": 36,
   "metadata": {
    "ExecuteTime": {
     "end_time": "2023-07-05T21:25:20.905464200Z",
     "start_time": "2023-07-05T21:25:18.260521400Z"
    },
    "collapsed": false
   },
   "outputs": [
    {
     "data": {
      "text/plain": [
       "0"
      ]
     },
     "execution_count": 36,
     "metadata": {},
     "output_type": "execute_result"
    }
   ],
   "source": [
    "aw_products.isnull().sum().sum()"
   ]
  },
  {
   "attachments": {},
   "cell_type": "markdown",
   "metadata": {
    "collapsed": false
   },
   "source": [
    "There are no more null values present in any of the table."
   ]
  },
  {
   "attachments": {},
   "cell_type": "markdown",
   "metadata": {
    "collapsed": false
   },
   "source": [
    "### <span style = 'color:orange'>**4.5 Handling Data Types**"
   ]
  },
  {
   "cell_type": "code",
   "execution_count": 37,
   "metadata": {
    "ExecuteTime": {
     "end_time": "2023-07-05T21:25:20.906460800Z",
     "start_time": "2023-07-05T21:25:18.291435900Z"
    },
    "collapsed": false
   },
   "outputs": [
    {
     "data": {
      "text/plain": [
       "OrderDate        object\n",
       "StockDate        object\n",
       "OrderNumber      object\n",
       "ProductKey        int64\n",
       "CustomerKey       int64\n",
       "OrderLineItem     int64\n",
       "OrderQuantity     int64\n",
       "Region           object\n",
       "Country          object\n",
       "Continent        object\n",
       "dtype: object"
      ]
     },
     "execution_count": 37,
     "metadata": {},
     "output_type": "execute_result"
    }
   ],
   "source": [
    "# Checking Data Types for Column in Sales Table\n",
    "aw_sales.dtypes"
   ]
  },
  {
   "cell_type": "code",
   "execution_count": 38,
   "metadata": {
    "ExecuteTime": {
     "end_time": "2023-07-05T21:25:20.923417500Z",
     "start_time": "2023-07-05T21:25:18.325330300Z"
    },
    "collapsed": false
   },
   "outputs": [],
   "source": [
    "aw_sales['StockDate'] = pd.to_datetime(aw_sales['StockDate'])  # Converting stock date column to datetime\n",
    "aw_sales['OrderDate'] = pd.to_datetime(aw_sales['OrderDate'])  # Converting order date column to datetime"
   ]
  },
  {
   "cell_type": "code",
   "execution_count": 39,
   "metadata": {
    "ExecuteTime": {
     "end_time": "2023-07-05T21:25:20.924414400Z",
     "start_time": "2023-07-05T21:25:18.399719100Z"
    },
    "collapsed": false
   },
   "outputs": [
    {
     "data": {
      "text/plain": [
       "OrderDate        datetime64[ns]\n",
       "StockDate        datetime64[ns]\n",
       "OrderNumber              object\n",
       "ProductKey                int64\n",
       "CustomerKey               int64\n",
       "OrderLineItem             int64\n",
       "OrderQuantity             int64\n",
       "Region                   object\n",
       "Country                  object\n",
       "Continent                object\n",
       "dtype: object"
      ]
     },
     "execution_count": 39,
     "metadata": {},
     "output_type": "execute_result"
    }
   ],
   "source": [
    "aw_sales.dtypes"
   ]
  },
  {
   "cell_type": "code",
   "execution_count": 40,
   "metadata": {
    "ExecuteTime": {
     "end_time": "2023-07-05T21:25:20.925514500Z",
     "start_time": "2023-07-05T21:25:18.431034400Z"
    },
    "collapsed": false
   },
   "outputs": [
    {
     "data": {
      "text/plain": [
       "ReturnDate        object\n",
       "TerritoryKey       int64\n",
       "ProductKey         int64\n",
       "ReturnQuantity     int64\n",
       "dtype: object"
      ]
     },
     "execution_count": 40,
     "metadata": {},
     "output_type": "execute_result"
    }
   ],
   "source": [
    "# Checking Data Type for Returns Table\n",
    "\n",
    "aw_returns.dtypes"
   ]
  },
  {
   "cell_type": "code",
   "execution_count": 41,
   "metadata": {
    "ExecuteTime": {
     "end_time": "2023-07-05T21:25:20.925514500Z",
     "start_time": "2023-07-05T21:25:18.461656200Z"
    },
    "collapsed": false
   },
   "outputs": [],
   "source": [
    "# Converting Return Date Column to Datetime\n",
    "\n",
    "aw_returns['ReturnDate'] = pd.to_datetime(aw_returns['ReturnDate'])"
   ]
  },
  {
   "cell_type": "code",
   "execution_count": 42,
   "metadata": {
    "ExecuteTime": {
     "end_time": "2023-07-05T21:25:20.926738900Z",
     "start_time": "2023-07-05T21:25:18.491575900Z"
    },
    "collapsed": false
   },
   "outputs": [
    {
     "data": {
      "text/plain": [
       "ReturnDate        datetime64[ns]\n",
       "TerritoryKey               int64\n",
       "ProductKey                 int64\n",
       "ReturnQuantity             int64\n",
       "dtype: object"
      ]
     },
     "execution_count": 42,
     "metadata": {},
     "output_type": "execute_result"
    }
   ],
   "source": [
    "aw_returns.dtypes"
   ]
  },
  {
   "cell_type": "code",
   "execution_count": 43,
   "metadata": {
    "ExecuteTime": {
     "end_time": "2023-07-05T21:25:20.926738900Z",
     "start_time": "2023-07-05T21:25:18.521770500Z"
    },
    "collapsed": false
   },
   "outputs": [
    {
     "data": {
      "text/plain": [
       "CustomerKey        object\n",
       "FirstName          object\n",
       "LastName           object\n",
       "BirthDate          object\n",
       "MaritalStatus      object\n",
       "Gender             object\n",
       "EmailAddress       object\n",
       "AnnualIncome      float64\n",
       "TotalChildren     float64\n",
       "EducationLevel     object\n",
       "Occupation         object\n",
       "HomeOwner          object\n",
       "dtype: object"
      ]
     },
     "execution_count": 43,
     "metadata": {},
     "output_type": "execute_result"
    }
   ],
   "source": [
    "# Checking Data Types for Customers Table\n",
    "aw_customers.dtypes"
   ]
  },
  {
   "cell_type": "code",
   "execution_count": 44,
   "metadata": {
    "ExecuteTime": {
     "end_time": "2023-07-05T21:25:20.927549Z",
     "start_time": "2023-07-05T21:25:18.555741700Z"
    },
    "collapsed": false
   },
   "outputs": [],
   "source": [
    "# Converting categorical columns to Category Type\n",
    "columns = ['MaritalStatus','Gender','EducationLevel','Occupation','HomeOwner']\n",
    "aw_customers[columns] = aw_customers[columns].astype('category')\n",
    "\n",
    "# Converting Birth Date Column to Datetime\n",
    "aw_customers['BirthDate'] = pd.to_datetime(aw_customers['BirthDate'])"
   ]
  },
  {
   "cell_type": "code",
   "execution_count": 45,
   "metadata": {
    "ExecuteTime": {
     "end_time": "2023-07-05T21:25:20.927549Z",
     "start_time": "2023-07-05T21:25:18.615834800Z"
    },
    "collapsed": false
   },
   "outputs": [],
   "source": [
    "# Converting Customer Key Column to int type\n",
    "aw_customers['CustomerKey'] = aw_customers['CustomerKey'].astype('int')"
   ]
  },
  {
   "cell_type": "code",
   "execution_count": 46,
   "metadata": {
    "ExecuteTime": {
     "end_time": "2023-07-05T21:25:20.928402100Z",
     "start_time": "2023-07-05T21:25:18.650155700Z"
    },
    "collapsed": false
   },
   "outputs": [
    {
     "data": {
      "text/plain": [
       "CustomerKey                int32\n",
       "FirstName                 object\n",
       "LastName                  object\n",
       "BirthDate         datetime64[ns]\n",
       "MaritalStatus           category\n",
       "Gender                  category\n",
       "EmailAddress              object\n",
       "AnnualIncome             float64\n",
       "TotalChildren            float64\n",
       "EducationLevel          category\n",
       "Occupation              category\n",
       "HomeOwner               category\n",
       "dtype: object"
      ]
     },
     "execution_count": 46,
     "metadata": {},
     "output_type": "execute_result"
    }
   ],
   "source": [
    "aw_customers.dtypes"
   ]
  },
  {
   "cell_type": "code",
   "execution_count": 47,
   "metadata": {
    "ExecuteTime": {
     "end_time": "2023-07-05T21:25:20.928402100Z",
     "start_time": "2023-07-05T21:25:18.680383700Z"
    },
    "collapsed": false
   },
   "outputs": [
    {
     "data": {
      "text/plain": [
       "ProductKey              int64\n",
       "ProductSKU             object\n",
       "ProductName            object\n",
       "ModelName              object\n",
       "ProductDescription     object\n",
       "ProductColor           object\n",
       "ProductSize            object\n",
       "ProductStyle           object\n",
       "ProductCost           float64\n",
       "ProductPrice          float64\n",
       "SubcategoryName        object\n",
       "CategoryName           object\n",
       "dtype: object"
      ]
     },
     "execution_count": 47,
     "metadata": {},
     "output_type": "execute_result"
    }
   ],
   "source": [
    "# Checking Data Types for Products Table\n",
    "aw_products.dtypes"
   ]
  },
  {
   "cell_type": "code",
   "execution_count": 48,
   "metadata": {
    "ExecuteTime": {
     "end_time": "2023-07-05T21:25:20.928402100Z",
     "start_time": "2023-07-05T21:25:18.714196300Z"
    },
    "collapsed": false
   },
   "outputs": [
    {
     "data": {
      "text/plain": [
       "ProductKey               int64\n",
       "ProductSKU              object\n",
       "ProductName             object\n",
       "ModelName               object\n",
       "ProductDescription      object\n",
       "ProductColor          category\n",
       "ProductSize           category\n",
       "ProductStyle          category\n",
       "ProductCost            float64\n",
       "ProductPrice           float64\n",
       "SubcategoryName       category\n",
       "CategoryName          category\n",
       "dtype: object"
      ]
     },
     "execution_count": 48,
     "metadata": {},
     "output_type": "execute_result"
    }
   ],
   "source": [
    "# Converting Categorical Columns to Category Type\n",
    "columns = ['ProductColor','ProductStyle','ProductSize','SubcategoryName','CategoryName']\n",
    "aw_products[columns] = aw_products[columns].astype('category')\n",
    "aw_products.dtypes"
   ]
  },
  {
   "attachments": {},
   "cell_type": "markdown",
   "metadata": {
    "collapsed": false
   },
   "source": [
    "### <span style = 'color:orange'>**4.6 Handling Inconsistencies in Formatting of the Data**"
   ]
  },
  {
   "cell_type": "code",
   "execution_count": 49,
   "metadata": {
    "ExecuteTime": {
     "end_time": "2023-07-05T21:25:20.934385600Z",
     "start_time": "2023-07-05T21:25:18.740133800Z"
    },
    "collapsed": false
   },
   "outputs": [
    {
     "data": {
      "text/html": [
       "<div>\n",
       "<style scoped>\n",
       "    .dataframe tbody tr th:only-of-type {\n",
       "        vertical-align: middle;\n",
       "    }\n",
       "\n",
       "    .dataframe tbody tr th {\n",
       "        vertical-align: top;\n",
       "    }\n",
       "\n",
       "    .dataframe thead th {\n",
       "        text-align: right;\n",
       "    }\n",
       "</style>\n",
       "<table border=\"1\" class=\"dataframe\">\n",
       "  <thead>\n",
       "    <tr style=\"text-align: right;\">\n",
       "      <th></th>\n",
       "      <th>CustomerKey</th>\n",
       "      <th>FirstName</th>\n",
       "      <th>LastName</th>\n",
       "      <th>BirthDate</th>\n",
       "      <th>MaritalStatus</th>\n",
       "      <th>Gender</th>\n",
       "      <th>EmailAddress</th>\n",
       "      <th>AnnualIncome</th>\n",
       "      <th>TotalChildren</th>\n",
       "      <th>EducationLevel</th>\n",
       "      <th>Occupation</th>\n",
       "      <th>HomeOwner</th>\n",
       "    </tr>\n",
       "  </thead>\n",
       "  <tbody>\n",
       "    <tr>\n",
       "      <th>0</th>\n",
       "      <td>11000</td>\n",
       "      <td>Jon</td>\n",
       "      <td>YANG</td>\n",
       "      <td>1966-04-08</td>\n",
       "      <td>M</td>\n",
       "      <td>M</td>\n",
       "      <td>jon24@adventure-works.com</td>\n",
       "      <td>90000.0</td>\n",
       "      <td>2.0</td>\n",
       "      <td>Bachelors</td>\n",
       "      <td>Professional</td>\n",
       "      <td>Y</td>\n",
       "    </tr>\n",
       "    <tr>\n",
       "      <th>1</th>\n",
       "      <td>11001</td>\n",
       "      <td>Eugene</td>\n",
       "      <td>HUANG</td>\n",
       "      <td>1965-05-14</td>\n",
       "      <td>S</td>\n",
       "      <td>M</td>\n",
       "      <td>eugene10@adventure-works.com</td>\n",
       "      <td>60000.0</td>\n",
       "      <td>3.0</td>\n",
       "      <td>Bachelors</td>\n",
       "      <td>Professional</td>\n",
       "      <td>N</td>\n",
       "    </tr>\n",
       "    <tr>\n",
       "      <th>2</th>\n",
       "      <td>11002</td>\n",
       "      <td>Ruben</td>\n",
       "      <td>TORRES</td>\n",
       "      <td>1965-08-12</td>\n",
       "      <td>M</td>\n",
       "      <td>M</td>\n",
       "      <td>ruben35@adventure-works.com</td>\n",
       "      <td>60000.0</td>\n",
       "      <td>3.0</td>\n",
       "      <td>Bachelors</td>\n",
       "      <td>Professional</td>\n",
       "      <td>Y</td>\n",
       "    </tr>\n",
       "    <tr>\n",
       "      <th>3</th>\n",
       "      <td>11003</td>\n",
       "      <td>Christy</td>\n",
       "      <td>ZHU</td>\n",
       "      <td>1968-02-15</td>\n",
       "      <td>S</td>\n",
       "      <td>F</td>\n",
       "      <td>christy12@adventure-works.com</td>\n",
       "      <td>70000.0</td>\n",
       "      <td>0.0</td>\n",
       "      <td>Bachelors</td>\n",
       "      <td>Professional</td>\n",
       "      <td>N</td>\n",
       "    </tr>\n",
       "    <tr>\n",
       "      <th>4</th>\n",
       "      <td>11004</td>\n",
       "      <td>Elizabeth</td>\n",
       "      <td>JOHNSON</td>\n",
       "      <td>1968-08-08</td>\n",
       "      <td>S</td>\n",
       "      <td>F</td>\n",
       "      <td>elizabeth5@adventure-works.com</td>\n",
       "      <td>80000.0</td>\n",
       "      <td>5.0</td>\n",
       "      <td>Bachelors</td>\n",
       "      <td>Professional</td>\n",
       "      <td>Y</td>\n",
       "    </tr>\n",
       "  </tbody>\n",
       "</table>\n",
       "</div>"
      ],
      "text/plain": [
       "   CustomerKey  FirstName LastName  BirthDate MaritalStatus Gender  \\\n",
       "0        11000        Jon     YANG 1966-04-08             M      M   \n",
       "1        11001     Eugene    HUANG 1965-05-14             S      M   \n",
       "2        11002      Ruben   TORRES 1965-08-12             M      M   \n",
       "3        11003    Christy      ZHU 1968-02-15             S      F   \n",
       "4        11004  Elizabeth  JOHNSON 1968-08-08             S      F   \n",
       "\n",
       "                     EmailAddress  AnnualIncome  TotalChildren EducationLevel  \\\n",
       "0       jon24@adventure-works.com       90000.0            2.0      Bachelors   \n",
       "1    eugene10@adventure-works.com       60000.0            3.0      Bachelors   \n",
       "2     ruben35@adventure-works.com       60000.0            3.0      Bachelors   \n",
       "3   christy12@adventure-works.com       70000.0            0.0      Bachelors   \n",
       "4  elizabeth5@adventure-works.com       80000.0            5.0      Bachelors   \n",
       "\n",
       "     Occupation HomeOwner  \n",
       "0  Professional         Y  \n",
       "1  Professional         N  \n",
       "2  Professional         Y  \n",
       "3  Professional         N  \n",
       "4  Professional         Y  "
      ]
     },
     "execution_count": 49,
     "metadata": {},
     "output_type": "execute_result"
    }
   ],
   "source": [
    "aw_customers.head()"
   ]
  },
  {
   "cell_type": "code",
   "execution_count": 50,
   "metadata": {
    "ExecuteTime": {
     "end_time": "2023-07-05T21:25:20.935384Z",
     "start_time": "2023-07-05T21:25:18.788009900Z"
    },
    "collapsed": false
   },
   "outputs": [
    {
     "data": {
      "text/html": [
       "<div>\n",
       "<style scoped>\n",
       "    .dataframe tbody tr th:only-of-type {\n",
       "        vertical-align: middle;\n",
       "    }\n",
       "\n",
       "    .dataframe tbody tr th {\n",
       "        vertical-align: top;\n",
       "    }\n",
       "\n",
       "    .dataframe thead th {\n",
       "        text-align: right;\n",
       "    }\n",
       "</style>\n",
       "<table border=\"1\" class=\"dataframe\">\n",
       "  <thead>\n",
       "    <tr style=\"text-align: right;\">\n",
       "      <th></th>\n",
       "      <th>CustomerKey</th>\n",
       "      <th>FirstName</th>\n",
       "      <th>LastName</th>\n",
       "      <th>BirthDate</th>\n",
       "      <th>MaritalStatus</th>\n",
       "      <th>Gender</th>\n",
       "      <th>EmailAddress</th>\n",
       "      <th>AnnualIncome</th>\n",
       "      <th>TotalChildren</th>\n",
       "      <th>EducationLevel</th>\n",
       "      <th>Occupation</th>\n",
       "      <th>HomeOwner</th>\n",
       "    </tr>\n",
       "  </thead>\n",
       "  <tbody>\n",
       "    <tr>\n",
       "      <th>0</th>\n",
       "      <td>11000</td>\n",
       "      <td>Jon</td>\n",
       "      <td>Yang</td>\n",
       "      <td>1966-04-08</td>\n",
       "      <td>M</td>\n",
       "      <td>M</td>\n",
       "      <td>jon24@adventure-works.com</td>\n",
       "      <td>90000.0</td>\n",
       "      <td>2.0</td>\n",
       "      <td>Bachelors</td>\n",
       "      <td>Professional</td>\n",
       "      <td>Y</td>\n",
       "    </tr>\n",
       "    <tr>\n",
       "      <th>1</th>\n",
       "      <td>11001</td>\n",
       "      <td>Eugene</td>\n",
       "      <td>Huang</td>\n",
       "      <td>1965-05-14</td>\n",
       "      <td>S</td>\n",
       "      <td>M</td>\n",
       "      <td>eugene10@adventure-works.com</td>\n",
       "      <td>60000.0</td>\n",
       "      <td>3.0</td>\n",
       "      <td>Bachelors</td>\n",
       "      <td>Professional</td>\n",
       "      <td>N</td>\n",
       "    </tr>\n",
       "    <tr>\n",
       "      <th>2</th>\n",
       "      <td>11002</td>\n",
       "      <td>Ruben</td>\n",
       "      <td>Torres</td>\n",
       "      <td>1965-08-12</td>\n",
       "      <td>M</td>\n",
       "      <td>M</td>\n",
       "      <td>ruben35@adventure-works.com</td>\n",
       "      <td>60000.0</td>\n",
       "      <td>3.0</td>\n",
       "      <td>Bachelors</td>\n",
       "      <td>Professional</td>\n",
       "      <td>Y</td>\n",
       "    </tr>\n",
       "    <tr>\n",
       "      <th>3</th>\n",
       "      <td>11003</td>\n",
       "      <td>Christy</td>\n",
       "      <td>Zhu</td>\n",
       "      <td>1968-02-15</td>\n",
       "      <td>S</td>\n",
       "      <td>F</td>\n",
       "      <td>christy12@adventure-works.com</td>\n",
       "      <td>70000.0</td>\n",
       "      <td>0.0</td>\n",
       "      <td>Bachelors</td>\n",
       "      <td>Professional</td>\n",
       "      <td>N</td>\n",
       "    </tr>\n",
       "    <tr>\n",
       "      <th>4</th>\n",
       "      <td>11004</td>\n",
       "      <td>Elizabeth</td>\n",
       "      <td>Johnson</td>\n",
       "      <td>1968-08-08</td>\n",
       "      <td>S</td>\n",
       "      <td>F</td>\n",
       "      <td>elizabeth5@adventure-works.com</td>\n",
       "      <td>80000.0</td>\n",
       "      <td>5.0</td>\n",
       "      <td>Bachelors</td>\n",
       "      <td>Professional</td>\n",
       "      <td>Y</td>\n",
       "    </tr>\n",
       "  </tbody>\n",
       "</table>\n",
       "</div>"
      ],
      "text/plain": [
       "   CustomerKey  FirstName LastName  BirthDate MaritalStatus Gender  \\\n",
       "0        11000        Jon     Yang 1966-04-08             M      M   \n",
       "1        11001     Eugene    Huang 1965-05-14             S      M   \n",
       "2        11002      Ruben   Torres 1965-08-12             M      M   \n",
       "3        11003    Christy      Zhu 1968-02-15             S      F   \n",
       "4        11004  Elizabeth  Johnson 1968-08-08             S      F   \n",
       "\n",
       "                     EmailAddress  AnnualIncome  TotalChildren EducationLevel  \\\n",
       "0       jon24@adventure-works.com       90000.0            2.0      Bachelors   \n",
       "1    eugene10@adventure-works.com       60000.0            3.0      Bachelors   \n",
       "2     ruben35@adventure-works.com       60000.0            3.0      Bachelors   \n",
       "3   christy12@adventure-works.com       70000.0            0.0      Bachelors   \n",
       "4  elizabeth5@adventure-works.com       80000.0            5.0      Bachelors   \n",
       "\n",
       "     Occupation HomeOwner  \n",
       "0  Professional         Y  \n",
       "1  Professional         N  \n",
       "2  Professional         Y  \n",
       "3  Professional         N  \n",
       "4  Professional         Y  "
      ]
     },
     "execution_count": 50,
     "metadata": {},
     "output_type": "execute_result"
    }
   ],
   "source": [
    "# Converting Last Names into title case\n",
    "aw_customers['LastName'] = aw_customers['LastName'].str.title()\n",
    "aw_customers.head()"
   ]
  },
  {
   "attachments": {},
   "cell_type": "markdown",
   "metadata": {
    "collapsed": false
   },
   "source": [
    "No more inconsistencies present in customers table"
   ]
  },
  {
   "cell_type": "code",
   "execution_count": 51,
   "metadata": {
    "ExecuteTime": {
     "end_time": "2023-07-05T21:25:20.935384Z",
     "start_time": "2023-07-05T21:25:18.836338600Z"
    },
    "collapsed": false
   },
   "outputs": [
    {
     "data": {
      "text/html": [
       "<div>\n",
       "<style scoped>\n",
       "    .dataframe tbody tr th:only-of-type {\n",
       "        vertical-align: middle;\n",
       "    }\n",
       "\n",
       "    .dataframe tbody tr th {\n",
       "        vertical-align: top;\n",
       "    }\n",
       "\n",
       "    .dataframe thead th {\n",
       "        text-align: right;\n",
       "    }\n",
       "</style>\n",
       "<table border=\"1\" class=\"dataframe\">\n",
       "  <thead>\n",
       "    <tr style=\"text-align: right;\">\n",
       "      <th></th>\n",
       "      <th>OrderDate</th>\n",
       "      <th>StockDate</th>\n",
       "      <th>OrderNumber</th>\n",
       "      <th>ProductKey</th>\n",
       "      <th>CustomerKey</th>\n",
       "      <th>OrderLineItem</th>\n",
       "      <th>OrderQuantity</th>\n",
       "      <th>Region</th>\n",
       "      <th>Country</th>\n",
       "      <th>Continent</th>\n",
       "    </tr>\n",
       "  </thead>\n",
       "  <tbody>\n",
       "    <tr>\n",
       "      <th>0</th>\n",
       "      <td>2020-01-01</td>\n",
       "      <td>2019-09-21</td>\n",
       "      <td>SO45080</td>\n",
       "      <td>332</td>\n",
       "      <td>14657</td>\n",
       "      <td>1</td>\n",
       "      <td>1</td>\n",
       "      <td>Northwest</td>\n",
       "      <td>United States</td>\n",
       "      <td>North America</td>\n",
       "    </tr>\n",
       "    <tr>\n",
       "      <th>1</th>\n",
       "      <td>2020-01-04</td>\n",
       "      <td>2019-09-15</td>\n",
       "      <td>SO45098</td>\n",
       "      <td>310</td>\n",
       "      <td>29167</td>\n",
       "      <td>1</td>\n",
       "      <td>1</td>\n",
       "      <td>Northwest</td>\n",
       "      <td>United States</td>\n",
       "      <td>North America</td>\n",
       "    </tr>\n",
       "    <tr>\n",
       "      <th>2</th>\n",
       "      <td>2020-01-04</td>\n",
       "      <td>2019-12-20</td>\n",
       "      <td>SO45099</td>\n",
       "      <td>312</td>\n",
       "      <td>29174</td>\n",
       "      <td>1</td>\n",
       "      <td>1</td>\n",
       "      <td>Northwest</td>\n",
       "      <td>United States</td>\n",
       "      <td>North America</td>\n",
       "    </tr>\n",
       "    <tr>\n",
       "      <th>3</th>\n",
       "      <td>2020-01-06</td>\n",
       "      <td>2019-09-24</td>\n",
       "      <td>SO45103</td>\n",
       "      <td>310</td>\n",
       "      <td>29140</td>\n",
       "      <td>1</td>\n",
       "      <td>1</td>\n",
       "      <td>Northwest</td>\n",
       "      <td>United States</td>\n",
       "      <td>North America</td>\n",
       "    </tr>\n",
       "    <tr>\n",
       "      <th>4</th>\n",
       "      <td>2020-01-08</td>\n",
       "      <td>2019-11-21</td>\n",
       "      <td>SO45117</td>\n",
       "      <td>342</td>\n",
       "      <td>14727</td>\n",
       "      <td>1</td>\n",
       "      <td>1</td>\n",
       "      <td>Northwest</td>\n",
       "      <td>United States</td>\n",
       "      <td>North America</td>\n",
       "    </tr>\n",
       "  </tbody>\n",
       "</table>\n",
       "</div>"
      ],
      "text/plain": [
       "   OrderDate  StockDate OrderNumber  ProductKey  CustomerKey  OrderLineItem  \\\n",
       "0 2020-01-01 2019-09-21     SO45080         332        14657              1   \n",
       "1 2020-01-04 2019-09-15     SO45098         310        29167              1   \n",
       "2 2020-01-04 2019-12-20     SO45099         312        29174              1   \n",
       "3 2020-01-06 2019-09-24     SO45103         310        29140              1   \n",
       "4 2020-01-08 2019-11-21     SO45117         342        14727              1   \n",
       "\n",
       "   OrderQuantity     Region        Country      Continent  \n",
       "0              1  Northwest  United States  North America  \n",
       "1              1  Northwest  United States  North America  \n",
       "2              1  Northwest  United States  North America  \n",
       "3              1  Northwest  United States  North America  \n",
       "4              1  Northwest  United States  North America  "
      ]
     },
     "execution_count": 51,
     "metadata": {},
     "output_type": "execute_result"
    }
   ],
   "source": [
    "aw_sales.head()"
   ]
  },
  {
   "cell_type": "code",
   "execution_count": 52,
   "metadata": {
    "ExecuteTime": {
     "end_time": "2023-07-05T21:25:20.936466700Z",
     "start_time": "2023-07-05T21:25:18.883626500Z"
    },
    "collapsed": false
   },
   "outputs": [
    {
     "data": {
      "text/plain": [
       "array(['Northwest', 'Southwest', 'Australia', 'Canada', 'United Kingdom',\n",
       "       'France', 'Germany', 'Southeast', 'Northeast', 'Central'],\n",
       "      dtype=object)"
      ]
     },
     "execution_count": 52,
     "metadata": {},
     "output_type": "execute_result"
    }
   ],
   "source": [
    "aw_sales['Region'].unique()"
   ]
  },
  {
   "cell_type": "code",
   "execution_count": 53,
   "metadata": {
    "ExecuteTime": {
     "end_time": "2023-07-05T21:25:20.937380800Z",
     "start_time": "2023-07-05T21:25:18.914542200Z"
    },
    "collapsed": false
   },
   "outputs": [
    {
     "data": {
      "text/plain": [
       "array(['North America', 'Pacific', 'Europe'], dtype=object)"
      ]
     },
     "execution_count": 53,
     "metadata": {},
     "output_type": "execute_result"
    }
   ],
   "source": [
    "aw_sales['Continent'].unique()"
   ]
  },
  {
   "cell_type": "code",
   "execution_count": 54,
   "metadata": {
    "ExecuteTime": {
     "end_time": "2023-07-05T21:25:20.937380800Z",
     "start_time": "2023-07-05T21:25:18.945460500Z"
    },
    "collapsed": false
   },
   "outputs": [
    {
     "data": {
      "text/plain": [
       "array(['United States', 'Australia', 'Canada', 'United Kingdom', 'France',\n",
       "       'Germany'], dtype=object)"
      ]
     },
     "execution_count": 54,
     "metadata": {},
     "output_type": "execute_result"
    }
   ],
   "source": [
    "aw_sales['Country'].unique()"
   ]
  },
  {
   "attachments": {},
   "cell_type": "markdown",
   "metadata": {
    "collapsed": false
   },
   "source": [
    "No inconsistencies present in sales table"
   ]
  },
  {
   "cell_type": "code",
   "execution_count": 55,
   "metadata": {
    "ExecuteTime": {
     "end_time": "2023-07-05T21:25:20.938378800Z",
     "start_time": "2023-07-05T21:25:18.975429800Z"
    },
    "collapsed": false
   },
   "outputs": [
    {
     "data": {
      "text/html": [
       "<div>\n",
       "<style scoped>\n",
       "    .dataframe tbody tr th:only-of-type {\n",
       "        vertical-align: middle;\n",
       "    }\n",
       "\n",
       "    .dataframe tbody tr th {\n",
       "        vertical-align: top;\n",
       "    }\n",
       "\n",
       "    .dataframe thead th {\n",
       "        text-align: right;\n",
       "    }\n",
       "</style>\n",
       "<table border=\"1\" class=\"dataframe\">\n",
       "  <thead>\n",
       "    <tr style=\"text-align: right;\">\n",
       "      <th></th>\n",
       "      <th>ReturnDate</th>\n",
       "      <th>TerritoryKey</th>\n",
       "      <th>ProductKey</th>\n",
       "      <th>ReturnQuantity</th>\n",
       "    </tr>\n",
       "  </thead>\n",
       "  <tbody>\n",
       "    <tr>\n",
       "      <th>0</th>\n",
       "      <td>2020-01-18</td>\n",
       "      <td>9</td>\n",
       "      <td>312</td>\n",
       "      <td>1</td>\n",
       "    </tr>\n",
       "    <tr>\n",
       "      <th>1</th>\n",
       "      <td>2020-01-18</td>\n",
       "      <td>10</td>\n",
       "      <td>310</td>\n",
       "      <td>1</td>\n",
       "    </tr>\n",
       "    <tr>\n",
       "      <th>2</th>\n",
       "      <td>2020-01-21</td>\n",
       "      <td>8</td>\n",
       "      <td>346</td>\n",
       "      <td>1</td>\n",
       "    </tr>\n",
       "    <tr>\n",
       "      <th>3</th>\n",
       "      <td>2020-01-22</td>\n",
       "      <td>4</td>\n",
       "      <td>311</td>\n",
       "      <td>1</td>\n",
       "    </tr>\n",
       "    <tr>\n",
       "      <th>4</th>\n",
       "      <td>2020-02-02</td>\n",
       "      <td>6</td>\n",
       "      <td>312</td>\n",
       "      <td>1</td>\n",
       "    </tr>\n",
       "  </tbody>\n",
       "</table>\n",
       "</div>"
      ],
      "text/plain": [
       "  ReturnDate  TerritoryKey  ProductKey  ReturnQuantity\n",
       "0 2020-01-18             9         312               1\n",
       "1 2020-01-18            10         310               1\n",
       "2 2020-01-21             8         346               1\n",
       "3 2020-01-22             4         311               1\n",
       "4 2020-02-02             6         312               1"
      ]
     },
     "execution_count": 55,
     "metadata": {},
     "output_type": "execute_result"
    }
   ],
   "source": [
    "aw_returns.head()"
   ]
  },
  {
   "attachments": {},
   "cell_type": "markdown",
   "metadata": {
    "collapsed": false
   },
   "source": [
    "No inconsistencies present in returns table"
   ]
  },
  {
   "cell_type": "code",
   "execution_count": 56,
   "metadata": {
    "ExecuteTime": {
     "end_time": "2023-07-05T21:25:20.938378800Z",
     "start_time": "2023-07-05T21:25:19.006297900Z"
    },
    "collapsed": false
   },
   "outputs": [
    {
     "data": {
      "text/html": [
       "<div>\n",
       "<style scoped>\n",
       "    .dataframe tbody tr th:only-of-type {\n",
       "        vertical-align: middle;\n",
       "    }\n",
       "\n",
       "    .dataframe tbody tr th {\n",
       "        vertical-align: top;\n",
       "    }\n",
       "\n",
       "    .dataframe thead th {\n",
       "        text-align: right;\n",
       "    }\n",
       "</style>\n",
       "<table border=\"1\" class=\"dataframe\">\n",
       "  <thead>\n",
       "    <tr style=\"text-align: right;\">\n",
       "      <th></th>\n",
       "      <th>ProductKey</th>\n",
       "      <th>ProductSKU</th>\n",
       "      <th>ProductName</th>\n",
       "      <th>ModelName</th>\n",
       "      <th>ProductDescription</th>\n",
       "      <th>ProductColor</th>\n",
       "      <th>ProductSize</th>\n",
       "      <th>ProductStyle</th>\n",
       "      <th>ProductCost</th>\n",
       "      <th>ProductPrice</th>\n",
       "      <th>SubcategoryName</th>\n",
       "      <th>CategoryName</th>\n",
       "    </tr>\n",
       "  </thead>\n",
       "  <tbody>\n",
       "    <tr>\n",
       "      <th>0</th>\n",
       "      <td>214</td>\n",
       "      <td>HL-U509-R</td>\n",
       "      <td>Sport-100 Helmet, Red</td>\n",
       "      <td>Sport-100</td>\n",
       "      <td>Universal fit, well-vented, lightweight , snap...</td>\n",
       "      <td>Red</td>\n",
       "      <td>0</td>\n",
       "      <td>0</td>\n",
       "      <td>13.0863</td>\n",
       "      <td>34.9900</td>\n",
       "      <td>Helmets</td>\n",
       "      <td>Accessories</td>\n",
       "    </tr>\n",
       "    <tr>\n",
       "      <th>1</th>\n",
       "      <td>215</td>\n",
       "      <td>HL-U509</td>\n",
       "      <td>Sport-100 Helmet, Black</td>\n",
       "      <td>Sport-100</td>\n",
       "      <td>Universal fit, well-vented, lightweight , snap...</td>\n",
       "      <td>Black</td>\n",
       "      <td>0</td>\n",
       "      <td>0</td>\n",
       "      <td>12.0278</td>\n",
       "      <td>33.6442</td>\n",
       "      <td>Helmets</td>\n",
       "      <td>Accessories</td>\n",
       "    </tr>\n",
       "    <tr>\n",
       "      <th>2</th>\n",
       "      <td>220</td>\n",
       "      <td>HL-U509-B</td>\n",
       "      <td>Sport-100 Helmet, Blue</td>\n",
       "      <td>Sport-100</td>\n",
       "      <td>Universal fit, well-vented, lightweight , snap...</td>\n",
       "      <td>Blue</td>\n",
       "      <td>0</td>\n",
       "      <td>0</td>\n",
       "      <td>12.0278</td>\n",
       "      <td>33.6442</td>\n",
       "      <td>Helmets</td>\n",
       "      <td>Accessories</td>\n",
       "    </tr>\n",
       "    <tr>\n",
       "      <th>3</th>\n",
       "      <td>446</td>\n",
       "      <td>PA-T100</td>\n",
       "      <td>Touring-Panniers, Large</td>\n",
       "      <td>Touring-Panniers</td>\n",
       "      <td>Durable, water-proof nylon construction with e...</td>\n",
       "      <td>Grey</td>\n",
       "      <td>0</td>\n",
       "      <td>0</td>\n",
       "      <td>51.5625</td>\n",
       "      <td>125.0000</td>\n",
       "      <td>Panniers</td>\n",
       "      <td>Accessories</td>\n",
       "    </tr>\n",
       "    <tr>\n",
       "      <th>4</th>\n",
       "      <td>447</td>\n",
       "      <td>LO-C100</td>\n",
       "      <td>Cable Lock</td>\n",
       "      <td>Cable Lock</td>\n",
       "      <td>Wraps to fit front and rear tires, carrier and...</td>\n",
       "      <td>unknown</td>\n",
       "      <td>0</td>\n",
       "      <td>0</td>\n",
       "      <td>10.3125</td>\n",
       "      <td>25.0000</td>\n",
       "      <td>Locks</td>\n",
       "      <td>Accessories</td>\n",
       "    </tr>\n",
       "  </tbody>\n",
       "</table>\n",
       "</div>"
      ],
      "text/plain": [
       "   ProductKey ProductSKU              ProductName         ModelName  \\\n",
       "0         214  HL-U509-R    Sport-100 Helmet, Red         Sport-100   \n",
       "1         215    HL-U509  Sport-100 Helmet, Black         Sport-100   \n",
       "2         220  HL-U509-B   Sport-100 Helmet, Blue         Sport-100   \n",
       "3         446    PA-T100  Touring-Panniers, Large  Touring-Panniers   \n",
       "4         447    LO-C100               Cable Lock        Cable Lock   \n",
       "\n",
       "                                  ProductDescription ProductColor ProductSize  \\\n",
       "0  Universal fit, well-vented, lightweight , snap...          Red           0   \n",
       "1  Universal fit, well-vented, lightweight , snap...        Black           0   \n",
       "2  Universal fit, well-vented, lightweight , snap...         Blue           0   \n",
       "3  Durable, water-proof nylon construction with e...         Grey           0   \n",
       "4  Wraps to fit front and rear tires, carrier and...      unknown           0   \n",
       "\n",
       "  ProductStyle  ProductCost  ProductPrice SubcategoryName CategoryName  \n",
       "0            0      13.0863       34.9900         Helmets  Accessories  \n",
       "1            0      12.0278       33.6442         Helmets  Accessories  \n",
       "2            0      12.0278       33.6442         Helmets  Accessories  \n",
       "3            0      51.5625      125.0000        Panniers  Accessories  \n",
       "4            0      10.3125       25.0000           Locks  Accessories  "
      ]
     },
     "execution_count": 56,
     "metadata": {},
     "output_type": "execute_result"
    }
   ],
   "source": [
    "aw_products.head()"
   ]
  },
  {
   "cell_type": "code",
   "execution_count": 57,
   "metadata": {
    "ExecuteTime": {
     "end_time": "2023-07-05T21:25:20.939503300Z",
     "start_time": "2023-07-05T21:25:19.055166200Z"
    },
    "collapsed": false
   },
   "outputs": [
    {
     "data": {
      "text/html": [
       "<div>\n",
       "<style scoped>\n",
       "    .dataframe tbody tr th:only-of-type {\n",
       "        vertical-align: middle;\n",
       "    }\n",
       "\n",
       "    .dataframe tbody tr th {\n",
       "        vertical-align: top;\n",
       "    }\n",
       "\n",
       "    .dataframe thead th {\n",
       "        text-align: right;\n",
       "    }\n",
       "</style>\n",
       "<table border=\"1\" class=\"dataframe\">\n",
       "  <thead>\n",
       "    <tr style=\"text-align: right;\">\n",
       "      <th></th>\n",
       "      <th>ProductKey</th>\n",
       "      <th>ProductSKU</th>\n",
       "      <th>ProductName</th>\n",
       "      <th>ModelName</th>\n",
       "      <th>ProductDescription</th>\n",
       "      <th>ProductColor</th>\n",
       "      <th>ProductSize</th>\n",
       "      <th>ProductStyle</th>\n",
       "      <th>ProductCost</th>\n",
       "      <th>ProductPrice</th>\n",
       "      <th>SubcategoryName</th>\n",
       "      <th>CategoryName</th>\n",
       "    </tr>\n",
       "  </thead>\n",
       "  <tbody>\n",
       "    <tr>\n",
       "      <th>0</th>\n",
       "      <td>214</td>\n",
       "      <td>HL-U509-R</td>\n",
       "      <td>Sport-100 Helmet, Red</td>\n",
       "      <td>Sport-100</td>\n",
       "      <td>Universal fit, well-vented, lightweight , snap...</td>\n",
       "      <td>Red</td>\n",
       "      <td>0</td>\n",
       "      <td>0</td>\n",
       "      <td>13.09</td>\n",
       "      <td>34.99</td>\n",
       "      <td>Helmets</td>\n",
       "      <td>Accessories</td>\n",
       "    </tr>\n",
       "    <tr>\n",
       "      <th>1</th>\n",
       "      <td>215</td>\n",
       "      <td>HL-U509</td>\n",
       "      <td>Sport-100 Helmet, Black</td>\n",
       "      <td>Sport-100</td>\n",
       "      <td>Universal fit, well-vented, lightweight , snap...</td>\n",
       "      <td>Black</td>\n",
       "      <td>0</td>\n",
       "      <td>0</td>\n",
       "      <td>12.03</td>\n",
       "      <td>33.64</td>\n",
       "      <td>Helmets</td>\n",
       "      <td>Accessories</td>\n",
       "    </tr>\n",
       "    <tr>\n",
       "      <th>2</th>\n",
       "      <td>220</td>\n",
       "      <td>HL-U509-B</td>\n",
       "      <td>Sport-100 Helmet, Blue</td>\n",
       "      <td>Sport-100</td>\n",
       "      <td>Universal fit, well-vented, lightweight , snap...</td>\n",
       "      <td>Blue</td>\n",
       "      <td>0</td>\n",
       "      <td>0</td>\n",
       "      <td>12.03</td>\n",
       "      <td>33.64</td>\n",
       "      <td>Helmets</td>\n",
       "      <td>Accessories</td>\n",
       "    </tr>\n",
       "    <tr>\n",
       "      <th>3</th>\n",
       "      <td>446</td>\n",
       "      <td>PA-T100</td>\n",
       "      <td>Touring-Panniers, Large</td>\n",
       "      <td>Touring-Panniers</td>\n",
       "      <td>Durable, water-proof nylon construction with e...</td>\n",
       "      <td>Grey</td>\n",
       "      <td>0</td>\n",
       "      <td>0</td>\n",
       "      <td>51.56</td>\n",
       "      <td>125.00</td>\n",
       "      <td>Panniers</td>\n",
       "      <td>Accessories</td>\n",
       "    </tr>\n",
       "    <tr>\n",
       "      <th>4</th>\n",
       "      <td>447</td>\n",
       "      <td>LO-C100</td>\n",
       "      <td>Cable Lock</td>\n",
       "      <td>Cable Lock</td>\n",
       "      <td>Wraps to fit front and rear tires, carrier and...</td>\n",
       "      <td>unknown</td>\n",
       "      <td>0</td>\n",
       "      <td>0</td>\n",
       "      <td>10.31</td>\n",
       "      <td>25.00</td>\n",
       "      <td>Locks</td>\n",
       "      <td>Accessories</td>\n",
       "    </tr>\n",
       "  </tbody>\n",
       "</table>\n",
       "</div>"
      ],
      "text/plain": [
       "   ProductKey ProductSKU              ProductName         ModelName  \\\n",
       "0         214  HL-U509-R    Sport-100 Helmet, Red         Sport-100   \n",
       "1         215    HL-U509  Sport-100 Helmet, Black         Sport-100   \n",
       "2         220  HL-U509-B   Sport-100 Helmet, Blue         Sport-100   \n",
       "3         446    PA-T100  Touring-Panniers, Large  Touring-Panniers   \n",
       "4         447    LO-C100               Cable Lock        Cable Lock   \n",
       "\n",
       "                                  ProductDescription ProductColor ProductSize  \\\n",
       "0  Universal fit, well-vented, lightweight , snap...          Red           0   \n",
       "1  Universal fit, well-vented, lightweight , snap...        Black           0   \n",
       "2  Universal fit, well-vented, lightweight , snap...         Blue           0   \n",
       "3  Durable, water-proof nylon construction with e...         Grey           0   \n",
       "4  Wraps to fit front and rear tires, carrier and...      unknown           0   \n",
       "\n",
       "  ProductStyle  ProductCost  ProductPrice SubcategoryName CategoryName  \n",
       "0            0        13.09         34.99         Helmets  Accessories  \n",
       "1            0        12.03         33.64         Helmets  Accessories  \n",
       "2            0        12.03         33.64         Helmets  Accessories  \n",
       "3            0        51.56        125.00        Panniers  Accessories  \n",
       "4            0        10.31         25.00           Locks  Accessories  "
      ]
     },
     "execution_count": 57,
     "metadata": {},
     "output_type": "execute_result"
    }
   ],
   "source": [
    "# Rounding Product Cost and Product Price Values to 2 Decimal Places\n",
    "aw_products[['ProductCost','ProductPrice']] = aw_products[['ProductCost','ProductPrice']].round(2)\n",
    "aw_products.head()"
   ]
  },
  {
   "cell_type": "code",
   "execution_count": 58,
   "metadata": {
    "ExecuteTime": {
     "end_time": "2023-07-05T21:25:20.939503300Z",
     "start_time": "2023-07-05T21:25:19.100671900Z"
    },
    "collapsed": false
   },
   "outputs": [],
   "source": [
    "# In the Product Style Column, replacing 0's with 'NA'\"AdventureWorks Calendar Lookup.csv\"\n",
    "\n",
    "aw_products['ProductStyle'] = aw_products['ProductStyle'].replace({'0':'NA'})"
   ]
  },
  {
   "cell_type": "code",
   "execution_count": 59,
   "metadata": {
    "ExecuteTime": {
     "end_time": "2023-07-05T21:25:20.940706600Z",
     "start_time": "2023-07-05T21:25:19.113542Z"
    },
    "collapsed": false
   },
   "outputs": [],
   "source": [
    "# Removing Product Size Column (it has mixed values for numeric and text based sizes and it won't be helpful for analysis)\n",
    "\n",
    "aw_products.drop('ProductSize',axis=1,inplace=True)"
   ]
  },
  {
   "cell_type": "code",
   "execution_count": 60,
   "metadata": {
    "ExecuteTime": {
     "end_time": "2023-07-05T21:25:20.941371500Z",
     "start_time": "2023-07-05T21:25:19.148451700Z"
    },
    "collapsed": false
   },
   "outputs": [
    {
     "data": {
      "text/html": [
       "<div>\n",
       "<style scoped>\n",
       "    .dataframe tbody tr th:only-of-type {\n",
       "        vertical-align: middle;\n",
       "    }\n",
       "\n",
       "    .dataframe tbody tr th {\n",
       "        vertical-align: top;\n",
       "    }\n",
       "\n",
       "    .dataframe thead th {\n",
       "        text-align: right;\n",
       "    }\n",
       "</style>\n",
       "<table border=\"1\" class=\"dataframe\">\n",
       "  <thead>\n",
       "    <tr style=\"text-align: right;\">\n",
       "      <th></th>\n",
       "      <th>ProductKey</th>\n",
       "      <th>ProductSKU</th>\n",
       "      <th>ProductName</th>\n",
       "      <th>ModelName</th>\n",
       "      <th>ProductDescription</th>\n",
       "      <th>ProductColor</th>\n",
       "      <th>ProductStyle</th>\n",
       "      <th>ProductCost</th>\n",
       "      <th>ProductPrice</th>\n",
       "      <th>SubcategoryName</th>\n",
       "      <th>CategoryName</th>\n",
       "    </tr>\n",
       "  </thead>\n",
       "  <tbody>\n",
       "    <tr>\n",
       "      <th>0</th>\n",
       "      <td>214</td>\n",
       "      <td>HL-U509-R</td>\n",
       "      <td>Sport-100 Helmet, Red</td>\n",
       "      <td>Sport-100</td>\n",
       "      <td>Universal fit, well-vented, lightweight , snap...</td>\n",
       "      <td>Red</td>\n",
       "      <td>NA</td>\n",
       "      <td>13.09</td>\n",
       "      <td>34.99</td>\n",
       "      <td>Helmets</td>\n",
       "      <td>Accessories</td>\n",
       "    </tr>\n",
       "    <tr>\n",
       "      <th>1</th>\n",
       "      <td>215</td>\n",
       "      <td>HL-U509</td>\n",
       "      <td>Sport-100 Helmet, Black</td>\n",
       "      <td>Sport-100</td>\n",
       "      <td>Universal fit, well-vented, lightweight , snap...</td>\n",
       "      <td>Black</td>\n",
       "      <td>NA</td>\n",
       "      <td>12.03</td>\n",
       "      <td>33.64</td>\n",
       "      <td>Helmets</td>\n",
       "      <td>Accessories</td>\n",
       "    </tr>\n",
       "    <tr>\n",
       "      <th>2</th>\n",
       "      <td>220</td>\n",
       "      <td>HL-U509-B</td>\n",
       "      <td>Sport-100 Helmet, Blue</td>\n",
       "      <td>Sport-100</td>\n",
       "      <td>Universal fit, well-vented, lightweight , snap...</td>\n",
       "      <td>Blue</td>\n",
       "      <td>NA</td>\n",
       "      <td>12.03</td>\n",
       "      <td>33.64</td>\n",
       "      <td>Helmets</td>\n",
       "      <td>Accessories</td>\n",
       "    </tr>\n",
       "    <tr>\n",
       "      <th>3</th>\n",
       "      <td>446</td>\n",
       "      <td>PA-T100</td>\n",
       "      <td>Touring-Panniers, Large</td>\n",
       "      <td>Touring-Panniers</td>\n",
       "      <td>Durable, water-proof nylon construction with e...</td>\n",
       "      <td>Grey</td>\n",
       "      <td>NA</td>\n",
       "      <td>51.56</td>\n",
       "      <td>125.00</td>\n",
       "      <td>Panniers</td>\n",
       "      <td>Accessories</td>\n",
       "    </tr>\n",
       "    <tr>\n",
       "      <th>4</th>\n",
       "      <td>447</td>\n",
       "      <td>LO-C100</td>\n",
       "      <td>Cable Lock</td>\n",
       "      <td>Cable Lock</td>\n",
       "      <td>Wraps to fit front and rear tires, carrier and...</td>\n",
       "      <td>unknown</td>\n",
       "      <td>NA</td>\n",
       "      <td>10.31</td>\n",
       "      <td>25.00</td>\n",
       "      <td>Locks</td>\n",
       "      <td>Accessories</td>\n",
       "    </tr>\n",
       "  </tbody>\n",
       "</table>\n",
       "</div>"
      ],
      "text/plain": [
       "   ProductKey ProductSKU              ProductName         ModelName  \\\n",
       "0         214  HL-U509-R    Sport-100 Helmet, Red         Sport-100   \n",
       "1         215    HL-U509  Sport-100 Helmet, Black         Sport-100   \n",
       "2         220  HL-U509-B   Sport-100 Helmet, Blue         Sport-100   \n",
       "3         446    PA-T100  Touring-Panniers, Large  Touring-Panniers   \n",
       "4         447    LO-C100               Cable Lock        Cable Lock   \n",
       "\n",
       "                                  ProductDescription ProductColor  \\\n",
       "0  Universal fit, well-vented, lightweight , snap...          Red   \n",
       "1  Universal fit, well-vented, lightweight , snap...        Black   \n",
       "2  Universal fit, well-vented, lightweight , snap...         Blue   \n",
       "3  Durable, water-proof nylon construction with e...         Grey   \n",
       "4  Wraps to fit front and rear tires, carrier and...      unknown   \n",
       "\n",
       "  ProductStyle  ProductCost  ProductPrice SubcategoryName CategoryName  \n",
       "0           NA        13.09         34.99         Helmets  Accessories  \n",
       "1           NA        12.03         33.64         Helmets  Accessories  \n",
       "2           NA        12.03         33.64         Helmets  Accessories  \n",
       "3           NA        51.56        125.00        Panniers  Accessories  \n",
       "4           NA        10.31         25.00           Locks  Accessories  "
      ]
     },
     "execution_count": 60,
     "metadata": {},
     "output_type": "execute_result"
    }
   ],
   "source": [
    "aw_products.head()"
   ]
  },
  {
   "attachments": {},
   "cell_type": "markdown",
   "metadata": {
    "collapsed": false
   },
   "source": [
    "No more inconsistencies present in products table"
   ]
  },
  {
   "attachments": {},
   "cell_type": "markdown",
   "metadata": {
    "collapsed": false
   },
   "source": [
    "### <span style = 'color:orange'>**4.7 Adding Calculated Columns/Derived Columns**"
   ]
  },
  {
   "cell_type": "code",
   "execution_count": 61,
   "metadata": {
    "ExecuteTime": {
     "end_time": "2023-07-05T21:25:20.941371500Z",
     "start_time": "2023-07-05T21:25:19.178371500Z"
    },
    "collapsed": false
   },
   "outputs": [
    {
     "data": {
      "text/html": [
       "<div>\n",
       "<style scoped>\n",
       "    .dataframe tbody tr th:only-of-type {\n",
       "        vertical-align: middle;\n",
       "    }\n",
       "\n",
       "    .dataframe tbody tr th {\n",
       "        vertical-align: top;\n",
       "    }\n",
       "\n",
       "    .dataframe thead th {\n",
       "        text-align: right;\n",
       "    }\n",
       "</style>\n",
       "<table border=\"1\" class=\"dataframe\">\n",
       "  <thead>\n",
       "    <tr style=\"text-align: right;\">\n",
       "      <th></th>\n",
       "      <th>ProductKey</th>\n",
       "      <th>ProductSKU</th>\n",
       "      <th>ProductName</th>\n",
       "      <th>ModelName</th>\n",
       "      <th>ProductDescription</th>\n",
       "      <th>ProductColor</th>\n",
       "      <th>ProductStyle</th>\n",
       "      <th>ProductCost</th>\n",
       "      <th>ProductPrice</th>\n",
       "      <th>SubcategoryName</th>\n",
       "      <th>CategoryName</th>\n",
       "    </tr>\n",
       "  </thead>\n",
       "  <tbody>\n",
       "    <tr>\n",
       "      <th>0</th>\n",
       "      <td>214</td>\n",
       "      <td>HL-U509-R</td>\n",
       "      <td>Sport-100 Helmet, Red</td>\n",
       "      <td>Sport-100</td>\n",
       "      <td>Universal fit, well-vented, lightweight , snap...</td>\n",
       "      <td>Red</td>\n",
       "      <td>NA</td>\n",
       "      <td>13.09</td>\n",
       "      <td>34.99</td>\n",
       "      <td>Helmets</td>\n",
       "      <td>Accessories</td>\n",
       "    </tr>\n",
       "    <tr>\n",
       "      <th>1</th>\n",
       "      <td>215</td>\n",
       "      <td>HL-U509</td>\n",
       "      <td>Sport-100 Helmet, Black</td>\n",
       "      <td>Sport-100</td>\n",
       "      <td>Universal fit, well-vented, lightweight , snap...</td>\n",
       "      <td>Black</td>\n",
       "      <td>NA</td>\n",
       "      <td>12.03</td>\n",
       "      <td>33.64</td>\n",
       "      <td>Helmets</td>\n",
       "      <td>Accessories</td>\n",
       "    </tr>\n",
       "    <tr>\n",
       "      <th>2</th>\n",
       "      <td>220</td>\n",
       "      <td>HL-U509-B</td>\n",
       "      <td>Sport-100 Helmet, Blue</td>\n",
       "      <td>Sport-100</td>\n",
       "      <td>Universal fit, well-vented, lightweight , snap...</td>\n",
       "      <td>Blue</td>\n",
       "      <td>NA</td>\n",
       "      <td>12.03</td>\n",
       "      <td>33.64</td>\n",
       "      <td>Helmets</td>\n",
       "      <td>Accessories</td>\n",
       "    </tr>\n",
       "    <tr>\n",
       "      <th>3</th>\n",
       "      <td>446</td>\n",
       "      <td>PA-T100</td>\n",
       "      <td>Touring-Panniers, Large</td>\n",
       "      <td>Touring-Panniers</td>\n",
       "      <td>Durable, water-proof nylon construction with e...</td>\n",
       "      <td>Grey</td>\n",
       "      <td>NA</td>\n",
       "      <td>51.56</td>\n",
       "      <td>125.00</td>\n",
       "      <td>Panniers</td>\n",
       "      <td>Accessories</td>\n",
       "    </tr>\n",
       "    <tr>\n",
       "      <th>4</th>\n",
       "      <td>447</td>\n",
       "      <td>LO-C100</td>\n",
       "      <td>Cable Lock</td>\n",
       "      <td>Cable Lock</td>\n",
       "      <td>Wraps to fit front and rear tires, carrier and...</td>\n",
       "      <td>unknown</td>\n",
       "      <td>NA</td>\n",
       "      <td>10.31</td>\n",
       "      <td>25.00</td>\n",
       "      <td>Locks</td>\n",
       "      <td>Accessories</td>\n",
       "    </tr>\n",
       "  </tbody>\n",
       "</table>\n",
       "</div>"
      ],
      "text/plain": [
       "   ProductKey ProductSKU              ProductName         ModelName  \\\n",
       "0         214  HL-U509-R    Sport-100 Helmet, Red         Sport-100   \n",
       "1         215    HL-U509  Sport-100 Helmet, Black         Sport-100   \n",
       "2         220  HL-U509-B   Sport-100 Helmet, Blue         Sport-100   \n",
       "3         446    PA-T100  Touring-Panniers, Large  Touring-Panniers   \n",
       "4         447    LO-C100               Cable Lock        Cable Lock   \n",
       "\n",
       "                                  ProductDescription ProductColor  \\\n",
       "0  Universal fit, well-vented, lightweight , snap...          Red   \n",
       "1  Universal fit, well-vented, lightweight , snap...        Black   \n",
       "2  Universal fit, well-vented, lightweight , snap...         Blue   \n",
       "3  Durable, water-proof nylon construction with e...         Grey   \n",
       "4  Wraps to fit front and rear tires, carrier and...      unknown   \n",
       "\n",
       "  ProductStyle  ProductCost  ProductPrice SubcategoryName CategoryName  \n",
       "0           NA        13.09         34.99         Helmets  Accessories  \n",
       "1           NA        12.03         33.64         Helmets  Accessories  \n",
       "2           NA        12.03         33.64         Helmets  Accessories  \n",
       "3           NA        51.56        125.00        Panniers  Accessories  \n",
       "4           NA        10.31         25.00           Locks  Accessories  "
      ]
     },
     "execution_count": 61,
     "metadata": {},
     "output_type": "execute_result"
    }
   ],
   "source": [
    "aw_products.head()"
   ]
  },
  {
   "attachments": {},
   "cell_type": "markdown",
   "metadata": {
    "collapsed": false
   },
   "source": [
    "##### <span style = 'color:yellow'>4.7.1 Adding Product SKU type Column"
   ]
  },
  {
   "cell_type": "code",
   "execution_count": 62,
   "metadata": {
    "ExecuteTime": {
     "end_time": "2023-07-05T21:25:20.942367400Z",
     "start_time": "2023-07-05T21:25:19.225263700Z"
    },
    "collapsed": false
   },
   "outputs": [
    {
     "data": {
      "text/html": [
       "<div>\n",
       "<style scoped>\n",
       "    .dataframe tbody tr th:only-of-type {\n",
       "        vertical-align: middle;\n",
       "    }\n",
       "\n",
       "    .dataframe tbody tr th {\n",
       "        vertical-align: top;\n",
       "    }\n",
       "\n",
       "    .dataframe thead th {\n",
       "        text-align: right;\n",
       "    }\n",
       "</style>\n",
       "<table border=\"1\" class=\"dataframe\">\n",
       "  <thead>\n",
       "    <tr style=\"text-align: right;\">\n",
       "      <th></th>\n",
       "      <th>ProductKey</th>\n",
       "      <th>ProductSKU</th>\n",
       "      <th>SKU Type</th>\n",
       "      <th>ProductName</th>\n",
       "      <th>ModelName</th>\n",
       "      <th>ProductDescription</th>\n",
       "      <th>ProductColor</th>\n",
       "      <th>ProductStyle</th>\n",
       "      <th>ProductCost</th>\n",
       "      <th>ProductPrice</th>\n",
       "      <th>SubcategoryName</th>\n",
       "      <th>CategoryName</th>\n",
       "    </tr>\n",
       "  </thead>\n",
       "  <tbody>\n",
       "    <tr>\n",
       "      <th>0</th>\n",
       "      <td>214</td>\n",
       "      <td>HL-U509-R</td>\n",
       "      <td>HL-U509</td>\n",
       "      <td>Sport-100 Helmet, Red</td>\n",
       "      <td>Sport-100</td>\n",
       "      <td>Universal fit, well-vented, lightweight , snap...</td>\n",
       "      <td>Red</td>\n",
       "      <td>NA</td>\n",
       "      <td>13.09</td>\n",
       "      <td>34.99</td>\n",
       "      <td>Helmets</td>\n",
       "      <td>Accessories</td>\n",
       "    </tr>\n",
       "    <tr>\n",
       "      <th>1</th>\n",
       "      <td>215</td>\n",
       "      <td>HL-U509</td>\n",
       "      <td>HL-U509</td>\n",
       "      <td>Sport-100 Helmet, Black</td>\n",
       "      <td>Sport-100</td>\n",
       "      <td>Universal fit, well-vented, lightweight , snap...</td>\n",
       "      <td>Black</td>\n",
       "      <td>NA</td>\n",
       "      <td>12.03</td>\n",
       "      <td>33.64</td>\n",
       "      <td>Helmets</td>\n",
       "      <td>Accessories</td>\n",
       "    </tr>\n",
       "    <tr>\n",
       "      <th>2</th>\n",
       "      <td>220</td>\n",
       "      <td>HL-U509-B</td>\n",
       "      <td>HL-U509</td>\n",
       "      <td>Sport-100 Helmet, Blue</td>\n",
       "      <td>Sport-100</td>\n",
       "      <td>Universal fit, well-vented, lightweight , snap...</td>\n",
       "      <td>Blue</td>\n",
       "      <td>NA</td>\n",
       "      <td>12.03</td>\n",
       "      <td>33.64</td>\n",
       "      <td>Helmets</td>\n",
       "      <td>Accessories</td>\n",
       "    </tr>\n",
       "    <tr>\n",
       "      <th>3</th>\n",
       "      <td>446</td>\n",
       "      <td>PA-T100</td>\n",
       "      <td>PA-T100</td>\n",
       "      <td>Touring-Panniers, Large</td>\n",
       "      <td>Touring-Panniers</td>\n",
       "      <td>Durable, water-proof nylon construction with e...</td>\n",
       "      <td>Grey</td>\n",
       "      <td>NA</td>\n",
       "      <td>51.56</td>\n",
       "      <td>125.00</td>\n",
       "      <td>Panniers</td>\n",
       "      <td>Accessories</td>\n",
       "    </tr>\n",
       "    <tr>\n",
       "      <th>4</th>\n",
       "      <td>447</td>\n",
       "      <td>LO-C100</td>\n",
       "      <td>LO-C100</td>\n",
       "      <td>Cable Lock</td>\n",
       "      <td>Cable Lock</td>\n",
       "      <td>Wraps to fit front and rear tires, carrier and...</td>\n",
       "      <td>unknown</td>\n",
       "      <td>NA</td>\n",
       "      <td>10.31</td>\n",
       "      <td>25.00</td>\n",
       "      <td>Locks</td>\n",
       "      <td>Accessories</td>\n",
       "    </tr>\n",
       "  </tbody>\n",
       "</table>\n",
       "</div>"
      ],
      "text/plain": [
       "   ProductKey ProductSKU SKU Type              ProductName         ModelName  \\\n",
       "0         214  HL-U509-R  HL-U509    Sport-100 Helmet, Red         Sport-100   \n",
       "1         215    HL-U509  HL-U509  Sport-100 Helmet, Black         Sport-100   \n",
       "2         220  HL-U509-B  HL-U509   Sport-100 Helmet, Blue         Sport-100   \n",
       "3         446    PA-T100  PA-T100  Touring-Panniers, Large  Touring-Panniers   \n",
       "4         447    LO-C100  LO-C100               Cable Lock        Cable Lock   \n",
       "\n",
       "                                  ProductDescription ProductColor  \\\n",
       "0  Universal fit, well-vented, lightweight , snap...          Red   \n",
       "1  Universal fit, well-vented, lightweight , snap...        Black   \n",
       "2  Universal fit, well-vented, lightweight , snap...         Blue   \n",
       "3  Durable, water-proof nylon construction with e...         Grey   \n",
       "4  Wraps to fit front and rear tires, carrier and...      unknown   \n",
       "\n",
       "  ProductStyle  ProductCost  ProductPrice SubcategoryName CategoryName  \n",
       "0           NA        13.09         34.99         Helmets  Accessories  \n",
       "1           NA        12.03         33.64         Helmets  Accessories  \n",
       "2           NA        12.03         33.64         Helmets  Accessories  \n",
       "3           NA        51.56        125.00        Panniers  Accessories  \n",
       "4           NA        10.31         25.00           Locks  Accessories  "
      ]
     },
     "execution_count": 62,
     "metadata": {},
     "output_type": "execute_result"
    }
   ],
   "source": [
    "# Creating a New Column called SKU Type by extracting all the characters before second '-' in Product SKU Column\n",
    "aw_products['SKU Type'] = aw_products['ProductSKU'].apply(lambda x: '-'.join(x.split('-')[:2]))\n",
    "\n",
    "# Moving SKU type Column to 3 Position in the Table\n",
    "sku = aw_products.pop('SKU Type')\n",
    "aw_products.insert(loc=2,column='SKU Type',value=sku)\n",
    "aw_products.head()"
   ]
  },
  {
   "cell_type": "code",
   "execution_count": 63,
   "metadata": {
    "ExecuteTime": {
     "end_time": "2023-07-05T21:25:20.943363500Z",
     "start_time": "2023-07-05T21:25:19.270130400Z"
    },
    "collapsed": false
   },
   "outputs": [
    {
     "data": {
      "text/html": [
       "<div>\n",
       "<style scoped>\n",
       "    .dataframe tbody tr th:only-of-type {\n",
       "        vertical-align: middle;\n",
       "    }\n",
       "\n",
       "    .dataframe tbody tr th {\n",
       "        vertical-align: top;\n",
       "    }\n",
       "\n",
       "    .dataframe thead th {\n",
       "        text-align: right;\n",
       "    }\n",
       "</style>\n",
       "<table border=\"1\" class=\"dataframe\">\n",
       "  <thead>\n",
       "    <tr style=\"text-align: right;\">\n",
       "      <th></th>\n",
       "      <th>CustomerKey</th>\n",
       "      <th>FirstName</th>\n",
       "      <th>LastName</th>\n",
       "      <th>BirthDate</th>\n",
       "      <th>MaritalStatus</th>\n",
       "      <th>Gender</th>\n",
       "      <th>EmailAddress</th>\n",
       "      <th>AnnualIncome</th>\n",
       "      <th>TotalChildren</th>\n",
       "      <th>EducationLevel</th>\n",
       "      <th>Occupation</th>\n",
       "      <th>HomeOwner</th>\n",
       "    </tr>\n",
       "  </thead>\n",
       "  <tbody>\n",
       "    <tr>\n",
       "      <th>0</th>\n",
       "      <td>11000</td>\n",
       "      <td>Jon</td>\n",
       "      <td>Yang</td>\n",
       "      <td>1966-04-08</td>\n",
       "      <td>M</td>\n",
       "      <td>M</td>\n",
       "      <td>jon24@adventure-works.com</td>\n",
       "      <td>90000.0</td>\n",
       "      <td>2.0</td>\n",
       "      <td>Bachelors</td>\n",
       "      <td>Professional</td>\n",
       "      <td>Y</td>\n",
       "    </tr>\n",
       "    <tr>\n",
       "      <th>1</th>\n",
       "      <td>11001</td>\n",
       "      <td>Eugene</td>\n",
       "      <td>Huang</td>\n",
       "      <td>1965-05-14</td>\n",
       "      <td>S</td>\n",
       "      <td>M</td>\n",
       "      <td>eugene10@adventure-works.com</td>\n",
       "      <td>60000.0</td>\n",
       "      <td>3.0</td>\n",
       "      <td>Bachelors</td>\n",
       "      <td>Professional</td>\n",
       "      <td>N</td>\n",
       "    </tr>\n",
       "    <tr>\n",
       "      <th>2</th>\n",
       "      <td>11002</td>\n",
       "      <td>Ruben</td>\n",
       "      <td>Torres</td>\n",
       "      <td>1965-08-12</td>\n",
       "      <td>M</td>\n",
       "      <td>M</td>\n",
       "      <td>ruben35@adventure-works.com</td>\n",
       "      <td>60000.0</td>\n",
       "      <td>3.0</td>\n",
       "      <td>Bachelors</td>\n",
       "      <td>Professional</td>\n",
       "      <td>Y</td>\n",
       "    </tr>\n",
       "    <tr>\n",
       "      <th>3</th>\n",
       "      <td>11003</td>\n",
       "      <td>Christy</td>\n",
       "      <td>Zhu</td>\n",
       "      <td>1968-02-15</td>\n",
       "      <td>S</td>\n",
       "      <td>F</td>\n",
       "      <td>christy12@adventure-works.com</td>\n",
       "      <td>70000.0</td>\n",
       "      <td>0.0</td>\n",
       "      <td>Bachelors</td>\n",
       "      <td>Professional</td>\n",
       "      <td>N</td>\n",
       "    </tr>\n",
       "    <tr>\n",
       "      <th>4</th>\n",
       "      <td>11004</td>\n",
       "      <td>Elizabeth</td>\n",
       "      <td>Johnson</td>\n",
       "      <td>1968-08-08</td>\n",
       "      <td>S</td>\n",
       "      <td>F</td>\n",
       "      <td>elizabeth5@adventure-works.com</td>\n",
       "      <td>80000.0</td>\n",
       "      <td>5.0</td>\n",
       "      <td>Bachelors</td>\n",
       "      <td>Professional</td>\n",
       "      <td>Y</td>\n",
       "    </tr>\n",
       "  </tbody>\n",
       "</table>\n",
       "</div>"
      ],
      "text/plain": [
       "   CustomerKey  FirstName LastName  BirthDate MaritalStatus Gender  \\\n",
       "0        11000        Jon     Yang 1966-04-08             M      M   \n",
       "1        11001     Eugene    Huang 1965-05-14             S      M   \n",
       "2        11002      Ruben   Torres 1965-08-12             M      M   \n",
       "3        11003    Christy      Zhu 1968-02-15             S      F   \n",
       "4        11004  Elizabeth  Johnson 1968-08-08             S      F   \n",
       "\n",
       "                     EmailAddress  AnnualIncome  TotalChildren EducationLevel  \\\n",
       "0       jon24@adventure-works.com       90000.0            2.0      Bachelors   \n",
       "1    eugene10@adventure-works.com       60000.0            3.0      Bachelors   \n",
       "2     ruben35@adventure-works.com       60000.0            3.0      Bachelors   \n",
       "3   christy12@adventure-works.com       70000.0            0.0      Bachelors   \n",
       "4  elizabeth5@adventure-works.com       80000.0            5.0      Bachelors   \n",
       "\n",
       "     Occupation HomeOwner  \n",
       "0  Professional         Y  \n",
       "1  Professional         N  \n",
       "2  Professional         Y  \n",
       "3  Professional         N  \n",
       "4  Professional         Y  "
      ]
     },
     "execution_count": 63,
     "metadata": {},
     "output_type": "execute_result"
    }
   ],
   "source": [
    "aw_customers.head()"
   ]
  },
  {
   "attachments": {},
   "cell_type": "markdown",
   "metadata": {
    "collapsed": false
   },
   "source": [
    "##### <span style = 'color:yellow'>4.7.2 Adding Full Name and Age Column"
   ]
  },
  {
   "cell_type": "code",
   "execution_count": 64,
   "metadata": {
    "ExecuteTime": {
     "end_time": "2023-07-05T21:25:20.955329Z",
     "start_time": "2023-07-05T21:25:19.304031Z"
    },
    "collapsed": false
   },
   "outputs": [
    {
     "data": {
      "text/html": [
       "<div>\n",
       "<style scoped>\n",
       "    .dataframe tbody tr th:only-of-type {\n",
       "        vertical-align: middle;\n",
       "    }\n",
       "\n",
       "    .dataframe tbody tr th {\n",
       "        vertical-align: top;\n",
       "    }\n",
       "\n",
       "    .dataframe thead th {\n",
       "        text-align: right;\n",
       "    }\n",
       "</style>\n",
       "<table border=\"1\" class=\"dataframe\">\n",
       "  <thead>\n",
       "    <tr style=\"text-align: right;\">\n",
       "      <th></th>\n",
       "      <th>CustomerKey</th>\n",
       "      <th>FirstName</th>\n",
       "      <th>LastName</th>\n",
       "      <th>BirthDate</th>\n",
       "      <th>CustomerAge</th>\n",
       "      <th>MaritalStatus</th>\n",
       "      <th>Gender</th>\n",
       "      <th>EmailAddress</th>\n",
       "      <th>AnnualIncome</th>\n",
       "      <th>TotalChildren</th>\n",
       "      <th>EducationLevel</th>\n",
       "      <th>Occupation</th>\n",
       "      <th>HomeOwner</th>\n",
       "      <th>FullName</th>\n",
       "    </tr>\n",
       "  </thead>\n",
       "  <tbody>\n",
       "    <tr>\n",
       "      <th>0</th>\n",
       "      <td>11000</td>\n",
       "      <td>Jon</td>\n",
       "      <td>Yang</td>\n",
       "      <td>1966-04-08</td>\n",
       "      <td>57</td>\n",
       "      <td>M</td>\n",
       "      <td>M</td>\n",
       "      <td>jon24@adventure-works.com</td>\n",
       "      <td>90000.0</td>\n",
       "      <td>2.0</td>\n",
       "      <td>Bachelors</td>\n",
       "      <td>Professional</td>\n",
       "      <td>Y</td>\n",
       "      <td>Jon Yang</td>\n",
       "    </tr>\n",
       "    <tr>\n",
       "      <th>1</th>\n",
       "      <td>11001</td>\n",
       "      <td>Eugene</td>\n",
       "      <td>Huang</td>\n",
       "      <td>1965-05-14</td>\n",
       "      <td>58</td>\n",
       "      <td>S</td>\n",
       "      <td>M</td>\n",
       "      <td>eugene10@adventure-works.com</td>\n",
       "      <td>60000.0</td>\n",
       "      <td>3.0</td>\n",
       "      <td>Bachelors</td>\n",
       "      <td>Professional</td>\n",
       "      <td>N</td>\n",
       "      <td>Eugene Huang</td>\n",
       "    </tr>\n",
       "    <tr>\n",
       "      <th>2</th>\n",
       "      <td>11002</td>\n",
       "      <td>Ruben</td>\n",
       "      <td>Torres</td>\n",
       "      <td>1965-08-12</td>\n",
       "      <td>58</td>\n",
       "      <td>M</td>\n",
       "      <td>M</td>\n",
       "      <td>ruben35@adventure-works.com</td>\n",
       "      <td>60000.0</td>\n",
       "      <td>3.0</td>\n",
       "      <td>Bachelors</td>\n",
       "      <td>Professional</td>\n",
       "      <td>Y</td>\n",
       "      <td>Ruben Torres</td>\n",
       "    </tr>\n",
       "    <tr>\n",
       "      <th>3</th>\n",
       "      <td>11003</td>\n",
       "      <td>Christy</td>\n",
       "      <td>Zhu</td>\n",
       "      <td>1968-02-15</td>\n",
       "      <td>55</td>\n",
       "      <td>S</td>\n",
       "      <td>F</td>\n",
       "      <td>christy12@adventure-works.com</td>\n",
       "      <td>70000.0</td>\n",
       "      <td>0.0</td>\n",
       "      <td>Bachelors</td>\n",
       "      <td>Professional</td>\n",
       "      <td>N</td>\n",
       "      <td>Christy Zhu</td>\n",
       "    </tr>\n",
       "    <tr>\n",
       "      <th>4</th>\n",
       "      <td>11004</td>\n",
       "      <td>Elizabeth</td>\n",
       "      <td>Johnson</td>\n",
       "      <td>1968-08-08</td>\n",
       "      <td>55</td>\n",
       "      <td>S</td>\n",
       "      <td>F</td>\n",
       "      <td>elizabeth5@adventure-works.com</td>\n",
       "      <td>80000.0</td>\n",
       "      <td>5.0</td>\n",
       "      <td>Bachelors</td>\n",
       "      <td>Professional</td>\n",
       "      <td>Y</td>\n",
       "      <td>Elizabeth Johnson</td>\n",
       "    </tr>\n",
       "  </tbody>\n",
       "</table>\n",
       "</div>"
      ],
      "text/plain": [
       "   CustomerKey  FirstName LastName  BirthDate  CustomerAge MaritalStatus  \\\n",
       "0        11000        Jon     Yang 1966-04-08           57             M   \n",
       "1        11001     Eugene    Huang 1965-05-14           58             S   \n",
       "2        11002      Ruben   Torres 1965-08-12           58             M   \n",
       "3        11003    Christy      Zhu 1968-02-15           55             S   \n",
       "4        11004  Elizabeth  Johnson 1968-08-08           55             S   \n",
       "\n",
       "  Gender                    EmailAddress  AnnualIncome  TotalChildren  \\\n",
       "0      M       jon24@adventure-works.com       90000.0            2.0   \n",
       "1      M    eugene10@adventure-works.com       60000.0            3.0   \n",
       "2      M     ruben35@adventure-works.com       60000.0            3.0   \n",
       "3      F   christy12@adventure-works.com       70000.0            0.0   \n",
       "4      F  elizabeth5@adventure-works.com       80000.0            5.0   \n",
       "\n",
       "  EducationLevel    Occupation HomeOwner           FullName  \n",
       "0      Bachelors  Professional         Y           Jon Yang  \n",
       "1      Bachelors  Professional         N       Eugene Huang  \n",
       "2      Bachelors  Professional         Y       Ruben Torres  \n",
       "3      Bachelors  Professional         N        Christy Zhu  \n",
       "4      Bachelors  Professional         Y  Elizabeth Johnson  "
      ]
     },
     "execution_count": 64,
     "metadata": {},
     "output_type": "execute_result"
    }
   ],
   "source": [
    "# Adding Full Name Column to the Customers Table\n",
    "aw_customers['FullName'] = aw_customers['FirstName'] + ' ' + aw_customers['LastName']\n",
    "\n",
    "# Adding Customers Age Column to the Customers Table\n",
    "from datetime import datetime\n",
    "current_year = datetime.now().year\n",
    "aw_customers['CustomerAge'] = current_year - aw_customers['BirthDate'].dt.year\n",
    "\n",
    "# Relocating Age column to right after Birthdate Column\n",
    "age = aw_customers.pop('CustomerAge')\n",
    "aw_customers.insert(loc=4,column='CustomerAge',value=age)\n",
    "\n",
    "aw_customers.head()"
   ]
  },
  {
   "attachments": {},
   "cell_type": "markdown",
   "metadata": {
    "collapsed": false
   },
   "source": [
    "##### <span style = 'color:yellow'>4.7.3 Adding Customer Segmentation Columns\n",
    "\n",
    "1. Create Calculated Column named CustomerPriority in the Customer Table based on criteria: a. if the customer is a parent and has an annual income >$100,000 then customer priority is 'Priority' otherwise 'Standard'\n",
    "2. Segment Customers based on Income Level: >=150,000: very high, >=100,000: High, >=50,000: Average otherwise Low\n",
    "3. Segment Customers based on Education Category: If partial high school or high school then 'high school', if bachelor's or partial college then 'undergrad', if graduate degree then Graduate\n",
    "4. Segment Customers based on age groups."
   ]
  },
  {
   "cell_type": "code",
   "execution_count": 65,
   "metadata": {
    "ExecuteTime": {
     "end_time": "2023-07-05T21:25:20.957325300Z",
     "start_time": "2023-07-05T21:25:19.361923200Z"
    },
    "collapsed": false
   },
   "outputs": [
    {
     "data": {
      "text/html": [
       "<div>\n",
       "<style scoped>\n",
       "    .dataframe tbody tr th:only-of-type {\n",
       "        vertical-align: middle;\n",
       "    }\n",
       "\n",
       "    .dataframe tbody tr th {\n",
       "        vertical-align: top;\n",
       "    }\n",
       "\n",
       "    .dataframe thead th {\n",
       "        text-align: right;\n",
       "    }\n",
       "</style>\n",
       "<table border=\"1\" class=\"dataframe\">\n",
       "  <thead>\n",
       "    <tr style=\"text-align: right;\">\n",
       "      <th></th>\n",
       "      <th>CustomerKey</th>\n",
       "      <th>FirstName</th>\n",
       "      <th>LastName</th>\n",
       "      <th>BirthDate</th>\n",
       "      <th>CustomerAge</th>\n",
       "      <th>MaritalStatus</th>\n",
       "      <th>Gender</th>\n",
       "      <th>EmailAddress</th>\n",
       "      <th>AnnualIncome</th>\n",
       "      <th>TotalChildren</th>\n",
       "      <th>EducationLevel</th>\n",
       "      <th>Occupation</th>\n",
       "      <th>HomeOwner</th>\n",
       "      <th>FullName</th>\n",
       "    </tr>\n",
       "  </thead>\n",
       "  <tbody>\n",
       "    <tr>\n",
       "      <th>0</th>\n",
       "      <td>11000</td>\n",
       "      <td>Jon</td>\n",
       "      <td>Yang</td>\n",
       "      <td>1966-04-08</td>\n",
       "      <td>57</td>\n",
       "      <td>M</td>\n",
       "      <td>M</td>\n",
       "      <td>jon24@adventure-works.com</td>\n",
       "      <td>90000.0</td>\n",
       "      <td>2.0</td>\n",
       "      <td>Bachelors</td>\n",
       "      <td>Professional</td>\n",
       "      <td>Y</td>\n",
       "      <td>Jon Yang</td>\n",
       "    </tr>\n",
       "    <tr>\n",
       "      <th>1</th>\n",
       "      <td>11001</td>\n",
       "      <td>Eugene</td>\n",
       "      <td>Huang</td>\n",
       "      <td>1965-05-14</td>\n",
       "      <td>58</td>\n",
       "      <td>S</td>\n",
       "      <td>M</td>\n",
       "      <td>eugene10@adventure-works.com</td>\n",
       "      <td>60000.0</td>\n",
       "      <td>3.0</td>\n",
       "      <td>Bachelors</td>\n",
       "      <td>Professional</td>\n",
       "      <td>N</td>\n",
       "      <td>Eugene Huang</td>\n",
       "    </tr>\n",
       "    <tr>\n",
       "      <th>2</th>\n",
       "      <td>11002</td>\n",
       "      <td>Ruben</td>\n",
       "      <td>Torres</td>\n",
       "      <td>1965-08-12</td>\n",
       "      <td>58</td>\n",
       "      <td>M</td>\n",
       "      <td>M</td>\n",
       "      <td>ruben35@adventure-works.com</td>\n",
       "      <td>60000.0</td>\n",
       "      <td>3.0</td>\n",
       "      <td>Bachelors</td>\n",
       "      <td>Professional</td>\n",
       "      <td>Y</td>\n",
       "      <td>Ruben Torres</td>\n",
       "    </tr>\n",
       "    <tr>\n",
       "      <th>3</th>\n",
       "      <td>11003</td>\n",
       "      <td>Christy</td>\n",
       "      <td>Zhu</td>\n",
       "      <td>1968-02-15</td>\n",
       "      <td>55</td>\n",
       "      <td>S</td>\n",
       "      <td>F</td>\n",
       "      <td>christy12@adventure-works.com</td>\n",
       "      <td>70000.0</td>\n",
       "      <td>0.0</td>\n",
       "      <td>Bachelors</td>\n",
       "      <td>Professional</td>\n",
       "      <td>N</td>\n",
       "      <td>Christy Zhu</td>\n",
       "    </tr>\n",
       "    <tr>\n",
       "      <th>4</th>\n",
       "      <td>11004</td>\n",
       "      <td>Elizabeth</td>\n",
       "      <td>Johnson</td>\n",
       "      <td>1968-08-08</td>\n",
       "      <td>55</td>\n",
       "      <td>S</td>\n",
       "      <td>F</td>\n",
       "      <td>elizabeth5@adventure-works.com</td>\n",
       "      <td>80000.0</td>\n",
       "      <td>5.0</td>\n",
       "      <td>Bachelors</td>\n",
       "      <td>Professional</td>\n",
       "      <td>Y</td>\n",
       "      <td>Elizabeth Johnson</td>\n",
       "    </tr>\n",
       "  </tbody>\n",
       "</table>\n",
       "</div>"
      ],
      "text/plain": [
       "   CustomerKey  FirstName LastName  BirthDate  CustomerAge MaritalStatus  \\\n",
       "0        11000        Jon     Yang 1966-04-08           57             M   \n",
       "1        11001     Eugene    Huang 1965-05-14           58             S   \n",
       "2        11002      Ruben   Torres 1965-08-12           58             M   \n",
       "3        11003    Christy      Zhu 1968-02-15           55             S   \n",
       "4        11004  Elizabeth  Johnson 1968-08-08           55             S   \n",
       "\n",
       "  Gender                    EmailAddress  AnnualIncome  TotalChildren  \\\n",
       "0      M       jon24@adventure-works.com       90000.0            2.0   \n",
       "1      M    eugene10@adventure-works.com       60000.0            3.0   \n",
       "2      M     ruben35@adventure-works.com       60000.0            3.0   \n",
       "3      F   christy12@adventure-works.com       70000.0            0.0   \n",
       "4      F  elizabeth5@adventure-works.com       80000.0            5.0   \n",
       "\n",
       "  EducationLevel    Occupation HomeOwner           FullName  \n",
       "0      Bachelors  Professional         Y           Jon Yang  \n",
       "1      Bachelors  Professional         N       Eugene Huang  \n",
       "2      Bachelors  Professional         Y       Ruben Torres  \n",
       "3      Bachelors  Professional         N        Christy Zhu  \n",
       "4      Bachelors  Professional         Y  Elizabeth Johnson  "
      ]
     },
     "execution_count": 65,
     "metadata": {},
     "output_type": "execute_result"
    }
   ],
   "source": [
    "aw_customers.head()"
   ]
  },
  {
   "cell_type": "code",
   "execution_count": 66,
   "metadata": {
    "ExecuteTime": {
     "end_time": "2023-07-05T21:25:20.969292100Z",
     "start_time": "2023-07-05T21:25:19.395329700Z"
    },
    "collapsed": false
   },
   "outputs": [],
   "source": [
    "# Customer Segmentation Using Age Groups (Adding AgeGroup Column)\n",
    "bins = [0, 20, 30, 40, 50, 60, float('inf')]\n",
    "labels = ['<20', '20-29', '30-39', '40-49', '50-59', '60+']\n",
    "aw_customers['AgeGroup'] = pd.cut(aw_customers['CustomerAge'], bins=bins, labels=labels)"
   ]
  },
  {
   "cell_type": "code",
   "execution_count": 67,
   "metadata": {
    "ExecuteTime": {
     "end_time": "2023-07-05T21:25:20.973281Z",
     "start_time": "2023-07-05T21:25:19.431234100Z"
    },
    "collapsed": false
   },
   "outputs": [],
   "source": [
    "# Customer Segmentation using Income Levels (Adding IncomeLevel Column)\n",
    "\n",
    "bins = [0,50000,100000,150000,float('inf')]\n",
    "labels = ['Low','Average','High','Very High']\n",
    "\n",
    "aw_customers['IncomeLevel'] = pd.cut(aw_customers['AnnualIncome'],bins=bins,labels=labels)"
   ]
  },
  {
   "cell_type": "code",
   "execution_count": 68,
   "metadata": {
    "ExecuteTime": {
     "end_time": "2023-07-05T21:25:21.025694900Z",
     "start_time": "2023-07-05T21:25:19.461671900Z"
    },
    "collapsed": false
   },
   "outputs": [
    {
     "data": {
      "text/plain": [
       "['Average', 'Low', 'Very High', 'High']\n",
       "Categories (4, object): ['Low' < 'Average' < 'High' < 'Very High']"
      ]
     },
     "execution_count": 68,
     "metadata": {},
     "output_type": "execute_result"
    }
   ],
   "source": [
    "aw_customers['IncomeLevel'].unique()"
   ]
  },
  {
   "cell_type": "code",
   "execution_count": 69,
   "metadata": {
    "ExecuteTime": {
     "end_time": "2023-07-05T21:25:21.122908200Z",
     "start_time": "2023-07-05T21:25:19.491633Z"
    },
    "collapsed": false
   },
   "outputs": [
    {
     "data": {
      "text/plain": [
       "['Bachelors', 'Partial College', 'High School', 'Partial High School', 'Graduate Degree']\n",
       "Categories (5, object): ['Bachelors', 'Graduate Degree', 'High School', 'Partial College', 'Partial High School']"
      ]
     },
     "execution_count": 69,
     "metadata": {},
     "output_type": "execute_result"
    }
   ],
   "source": [
    "aw_customers['EducationLevel'].unique()"
   ]
  },
  {
   "cell_type": "code",
   "execution_count": 70,
   "metadata": {
    "ExecuteTime": {
     "end_time": "2023-07-05T21:25:21.122908200Z",
     "start_time": "2023-07-05T21:25:19.525542300Z"
    },
    "collapsed": false
   },
   "outputs": [],
   "source": [
    "# Customer Segmentation Using Education Level (Adding Education Category Column)\n",
    "aw_customers['EducationCategory'] = aw_customers['EducationLevel'].map({'Bachelors':'Bachelors','Partial College':'Bachelors','High School':'High School',\n",
    "                                                                        'Partial High School':'High School','Graduate Degree':'Graduate'})"
   ]
  },
  {
   "cell_type": "code",
   "execution_count": 71,
   "metadata": {
    "ExecuteTime": {
     "end_time": "2023-07-05T21:25:21.189814500Z",
     "start_time": "2023-07-05T21:25:19.553466200Z"
    },
    "collapsed": false
   },
   "outputs": [
    {
     "data": {
      "text/plain": [
       "array(['Bachelors', 'High School', 'Graduate'], dtype=object)"
      ]
     },
     "execution_count": 71,
     "metadata": {},
     "output_type": "execute_result"
    }
   ],
   "source": [
    "aw_customers['EducationCategory'].unique()"
   ]
  },
  {
   "cell_type": "code",
   "execution_count": 72,
   "metadata": {
    "ExecuteTime": {
     "end_time": "2023-07-05T21:25:21.770451200Z",
     "start_time": "2023-07-05T21:25:19.584412700Z"
    },
    "collapsed": false
   },
   "outputs": [
    {
     "data": {
      "text/plain": [
       "array(['Standard', 'Priority'], dtype=object)"
      ]
     },
     "execution_count": 72,
     "metadata": {},
     "output_type": "execute_result"
    }
   ],
   "source": [
    "# Customer Segmentation For Customer Priority (Adding CustomerPriority Column)\n",
    "\n",
    "aw_customers['CustomerPriority'] = aw_customers.apply(lambda row:'Priority' if (row['AnnualIncome']>100000 and row['TotalChildren']>0) else 'Standard',axis=1)\n",
    "aw_customers['CustomerPriority'].unique()"
   ]
  },
  {
   "attachments": {},
   "cell_type": "markdown",
   "metadata": {},
   "source": [
    "### <span style = 'color:orange'>**4.8 Exporting Cleaned Data to CSV Files**"
   ]
  },
  {
   "cell_type": "code",
   "execution_count": 160,
   "metadata": {},
   "outputs": [],
   "source": [
    "# Exporting Cleaned Data\n",
    "aw_sales.to_csv('AW Sales.csv')\n",
    "aw_customers.to_csv('AW Customers.csv')\n",
    "aw_products.to_csv('AW Products.csv')\n",
    "aw_returns.to_csv('AW Returns.csv')"
   ]
  },
  {
   "attachments": {},
   "cell_type": "markdown",
   "metadata": {
    "collapsed": false
   },
   "source": [
    "# <span style = 'color:green'>**5. Sales Analysis**"
   ]
  },
  {
   "attachments": {},
   "cell_type": "markdown",
   "metadata": {
    "collapsed": false
   },
   "source": [
    "### <span style = 'color:orange'>**5.1 Revenue Trend**"
   ]
  },
  {
   "cell_type": "code",
   "execution_count": 122,
   "metadata": {
    "ExecuteTime": {
     "end_time": "2023-07-05T21:25:22.050366700Z",
     "start_time": "2023-07-05T21:25:19.851131Z"
    },
    "collapsed": false
   },
   "outputs": [
    {
     "data": {
      "image/png": "[encoded data removed]",
      "text/plain": [
       "<Figure size 1000x500 with 1 Axes>"
      ]
     },
     "metadata": {},
     "output_type": "display_data"
    }
   ],
   "source": [
    "df_rev = aw_sales.merge(aw_products,on='ProductKey',how='inner')[['OrderDate','OrderQuantity','ProductPrice']]\n",
    "df_rev['Revenue'] = df_rev['OrderQuantity'] * df_rev['ProductPrice']\n",
    "df_rev = df_rev.set_index('OrderDate')['Revenue']\n",
    "df_rev.resample(rule='M').sum().plot(figsize=(10,5),xlabel='Order Date',ylabel = 'Revenue',title='Revenue Trend');"
   ]
  },
  {
   "attachments": {},
   "cell_type": "markdown",
   "metadata": {
    "collapsed": false
   },
   "source": [
    "### <span style = 'color:orange'>**5.2 Total Revenue, Total Orders, Total Profit and Return Rate For All Years**"
   ]
  },
  {
   "cell_type": "code",
   "execution_count": 74,
   "metadata": {
    "ExecuteTime": {
     "end_time": "2023-07-05T21:25:22.051461Z",
     "start_time": "2023-07-05T21:25:20.719114600Z"
    },
    "collapsed": false
   },
   "outputs": [],
   "source": [
    "total_orders = aw_sales['OrderNumber'].nunique()  # Total Orders\n",
    "df_cost = aw_sales.merge(aw_products,on='ProductKey',how='inner')[['OrderDate','OrderQuantity','ProductCost']]\n",
    "total_cost = (df_cost['OrderQuantity'] * df_cost['ProductCost']).sum()  # total cost = quantity * product cost\n",
    "total_profit = df_rev.sum() - total_cost  # total revenue - total cost\n",
    "return_rate = (aw_returns['ReturnQuantity'].sum())/aw_sales['OrderQuantity'].sum()"
   ]
  },
  {
   "cell_type": "code",
   "execution_count": 75,
   "metadata": {
    "ExecuteTime": {
     "end_time": "2023-07-05T21:25:22.052362500Z",
     "start_time": "2023-07-05T21:25:20.805401300Z"
    },
    "collapsed": false
   },
   "outputs": [
    {
     "name": "stdout",
     "output_type": "stream",
     "text": [
      "Total Revenue: 24.91 Million\n",
      "Total Orders: 25164\n",
      "Total Profit: 10.46 Million\n",
      "Return Rate: 2.17%\n"
     ]
    }
   ],
   "source": [
    "print(f'Total Revenue: {round(df_rev.sum()/1000000,2)} Million')\n",
    "print(f'Total Orders: {total_orders}')\n",
    "print(f'Total Profit: {round(total_profit/1000000,2)} Million')\n",
    "print(f'Return Rate: {round(return_rate*100,2)}%')"
   ]
  },
  {
   "cell_type": "code",
   "execution_count": 76,
   "metadata": {
    "ExecuteTime": {
     "end_time": "2023-07-05T21:25:23.279463Z",
     "start_time": "2023-07-05T21:25:20.838313600Z"
    },
    "collapsed": false
   },
   "outputs": [
    {
     "data": {
      "text/html": [
       "\n",
       "<div style=\"background-color:green; color: white; font-size: 20px; display: inline-block; padding: 10px;\">\n",
       "    <strong>Total Revenue: </strong>24.91 Million<br>\n",
       "    <strong>Total Orders: </strong>25164<br>\n",
       "    <strong>Total Profit: </strong>10.46 Million<br>\n",
       "    <strong>Return Rate: </strong>2.17%\n",
       "</div>\n"
      ],
      "text/plain": [
       "<IPython.core.display.HTML object>"
      ]
     },
     "metadata": {},
     "output_type": "display_data"
    }
   ],
   "source": [
    "# Display in html styled output\n",
    "\n",
    "from IPython.display import display, HTML\n",
    "\n",
    "# Create a string of HTML code\n",
    "html_string = f\"\"\"\n",
    "<div style=\"background-color:green; color: white; font-size: 20px; display: inline-block; padding: 10px;\">\n",
    "    <strong>Total Revenue: </strong>{round(df_rev.sum()/1000000,2)} Million<br>\n",
    "    <strong>Total Orders: </strong>{total_orders}<br>\n",
    "    <strong>Total Profit: </strong>{round(total_profit/1000000,2)} Million<br>\n",
    "    <strong>Return Rate: </strong>{round(return_rate*100,2)}%\n",
    "</div>\n",
    "\"\"\"\n",
    "\n",
    "display(HTML(html_string))"
   ]
  },
  {
   "attachments": {},
   "cell_type": "markdown",
   "metadata": {
    "collapsed": false
   },
   "source": [
    "### <span style = 'color:orange'>**5.3 Total Orders by Category**"
   ]
  },
  {
   "cell_type": "code",
   "execution_count": 77,
   "metadata": {
    "ExecuteTime": {
     "end_time": "2023-07-05T21:25:24.477890100Z",
     "start_time": "2023-07-05T21:25:20.865245400Z"
    },
    "collapsed": false
   },
   "outputs": [
    {
     "data": {
      "image/png": "[encoded data removed]",
      "text/plain": [
       "<Figure size 640x480 with 1 Axes>"
      ]
     },
     "metadata": {},
     "output_type": "display_data"
    }
   ],
   "source": [
    "orders_by_category = aw_sales.merge(aw_products,on='ProductKey',how='inner')['CategoryName'].value_counts()\n",
    "sns.barplot(x=orders_by_category,y=orders_by_category.index,orient='h')\n",
    "plt.title('Orders by Category',color='red')\n",
    "plt.xlabel('Number of Orders',color='red')\n",
    "plt.ylabel('Category Name',color='red');"
   ]
  },
  {
   "attachments": {},
   "cell_type": "markdown",
   "metadata": {
    "collapsed": false
   },
   "source": [
    "### <span style = 'color:orange'>**5.4 Most Ordered Product Type and Most Returned Product Type**"
   ]
  },
  {
   "cell_type": "code",
   "execution_count": 78,
   "metadata": {
    "ExecuteTime": {
     "end_time": "2023-07-05T21:25:24.618063600Z",
     "start_time": "2023-07-05T21:25:21.587693Z"
    },
    "collapsed": false
   },
   "outputs": [
    {
     "data": {
      "text/plain": [
       "OrderNumber    Tires and Tubes\n",
       "dtype: object"
      ]
     },
     "execution_count": 78,
     "metadata": {},
     "output_type": "execute_result"
    }
   ],
   "source": [
    "# Most Ordered Product Type\n",
    "aw_sales.merge(aw_products, on=\"ProductKey\", how=\"inner\")[\n",
    "    [\"OrderNumber\", \"SubcategoryName\"]\n",
    "].groupby(\"SubcategoryName\").count().idxmax()\n"
   ]
  },
  {
   "cell_type": "code",
   "execution_count": 79,
   "metadata": {
    "ExecuteTime": {
     "end_time": "2023-07-05T21:25:24.618134700Z",
     "start_time": "2023-07-05T21:25:21.683435500Z"
    },
    "collapsed": false
   },
   "outputs": [],
   "source": [
    "# Most Returned Product Type (total returned quantity/total orders)\n",
    "return_quantity = aw_returns.merge(aw_products, on=\"ProductKey\", how=\"inner\")[\n",
    "    [\"ReturnQuantity\", \"SubcategoryName\"]\n",
    "].groupby(\"SubcategoryName\").sum()\n"
   ]
  },
  {
   "cell_type": "code",
   "execution_count": 80,
   "metadata": {
    "ExecuteTime": {
     "end_time": "2023-07-05T21:25:24.738592Z",
     "start_time": "2023-07-05T21:25:21.713357400Z"
    }
   },
   "outputs": [],
   "source": [
    "total_orders = aw_sales.merge(aw_products, on=\"ProductKey\", how=\"inner\")[\n",
    "    [\"OrderNumber\", \"SubcategoryName\"]\n",
    "].groupby(\"SubcategoryName\").count()"
   ]
  },
  {
   "cell_type": "code",
   "execution_count": 81,
   "metadata": {
    "ExecuteTime": {
     "end_time": "2023-07-05T21:25:24.765823400Z",
     "start_time": "2023-07-05T21:25:21.793016800Z"
    }
   },
   "outputs": [
    {
     "data": {
      "text/plain": [
       "'Shorts'"
      ]
     },
     "execution_count": 81,
     "metadata": {},
     "output_type": "execute_result"
    }
   ],
   "source": [
    "# Most Returned Product Type\n",
    "(return_quantity['ReturnQuantity']/total_orders['OrderNumber']).idxmax()"
   ]
  },
  {
   "attachments": {},
   "cell_type": "markdown",
   "metadata": {},
   "source": [
    "The most ordered product type is Tires and Tubes and Most Returned Product Type is Shorts."
   ]
  },
  {
   "attachments": {},
   "cell_type": "markdown",
   "metadata": {},
   "source": [
    "### <span style = 'color:orange'>**5.5 Top 10 Products by Orders and Revenue**"
   ]
  },
  {
   "cell_type": "code",
   "execution_count": 82,
   "metadata": {
    "ExecuteTime": {
     "end_time": "2023-07-05T21:25:24.916482300Z",
     "start_time": "2023-07-05T21:25:21.840810200Z"
    }
   },
   "outputs": [],
   "source": [
    "product_rev = aw_sales.merge(aw_products,on='ProductKey',how='inner')[['ProductName','OrderQuantity','ProductPrice']]\n",
    "product_rev['Revenue'] = product_rev['OrderQuantity'] * product_rev['ProductPrice']\n",
    "product_rev = product_rev[['ProductName','Revenue']]\n",
    "top10_product_rev = product_rev.groupby('ProductName').sum().sort_values(by='Revenue',ascending=False).head(10)"
   ]
  },
  {
   "cell_type": "code",
   "execution_count": 83,
   "metadata": {
    "ExecuteTime": {
     "end_time": "2023-07-05T21:25:25.619781800Z",
     "start_time": "2023-07-05T21:25:21.932564800Z"
    }
   },
   "outputs": [
    {
     "data": {
      "image/png": "[encoded data removed]",
      "text/plain": [
       "<Figure size 640x480 with 1 Axes>"
      ]
     },
     "metadata": {},
     "output_type": "display_data"
    }
   ],
   "source": [
    "sns.barplot(data=top10_product_rev,x=top10_product_rev.index,y=top10_product_rev['Revenue'])\n",
    "plt.xticks(rotation=90)\n",
    "plt.title('Top 10 Prouducts by Revenue',color='red')\n",
    "plt.xlabel('Product Name',color='red')\n",
    "plt.ylabel('Revenue',color='red');"
   ]
  },
  {
   "cell_type": "code",
   "execution_count": 84,
   "metadata": {
    "ExecuteTime": {
     "end_time": "2023-07-05T21:25:26.398559Z",
     "start_time": "2023-07-05T21:25:22.602488600Z"
    }
   },
   "outputs": [
    {
     "data": {
      "image/png": "[encoded data removed]",
      "text/plain": [
       "<Figure size 640x480 with 1 Axes>"
      ]
     },
     "metadata": {},
     "output_type": "display_data"
    }
   ],
   "source": [
    "top10_orders = (\n",
    "    aw_sales.merge(aw_products, on=\"ProductKey\", how=\"inner\")[\n",
    "        [\"ProductName\", \"OrderNumber\"]\n",
    "    ]\n",
    "    .groupby(\"ProductName\")\n",
    "    .count()\n",
    "    .sort_values(by=\"OrderNumber\", ascending=False)\n",
    "    .head(10)\n",
    ")\n",
    "\n",
    "sns.barplot(x=top10_orders.index, y=top10_orders[\"OrderNumber\"])\n",
    "plt.xticks(rotation=90)\n",
    "plt.title(\"Top 10 Products by Orders\",color='red')\n",
    "plt.xlabel(\"Product Name\",color='red')\n",
    "plt.ylabel(\"Number of Orders\",color='red');\n"
   ]
  },
  {
   "attachments": {},
   "cell_type": "markdown",
   "metadata": {
    "collapsed": false
   },
   "source": [
    "### <span style = 'color:orange'>**5.6 Top 100 Customers Driving the Revenue**"
   ]
  },
  {
   "cell_type": "code",
   "execution_count": 85,
   "metadata": {
    "ExecuteTime": {
     "end_time": "2023-07-05T21:25:27.164860700Z",
     "start_time": "2023-07-05T21:25:23.507788800Z"
    },
    "collapsed": false
   },
   "outputs": [
    {
     "data": {
      "text/html": [
       "<div>\n",
       "<style scoped>\n",
       "    .dataframe tbody tr th:only-of-type {\n",
       "        vertical-align: middle;\n",
       "    }\n",
       "\n",
       "    .dataframe tbody tr th {\n",
       "        vertical-align: top;\n",
       "    }\n",
       "\n",
       "    .dataframe thead th {\n",
       "        text-align: right;\n",
       "    }\n",
       "</style>\n",
       "<table border=\"1\" class=\"dataframe\">\n",
       "  <thead>\n",
       "    <tr style=\"text-align: right;\">\n",
       "      <th></th>\n",
       "      <th>CustomerKey</th>\n",
       "      <th>FullName</th>\n",
       "      <th>OrderNumber</th>\n",
       "      <th>OrderQuantity</th>\n",
       "      <th>ProductPrice</th>\n",
       "    </tr>\n",
       "  </thead>\n",
       "  <tbody>\n",
       "    <tr>\n",
       "      <th>0</th>\n",
       "      <td>14657</td>\n",
       "      <td>John Thomas</td>\n",
       "      <td>SO45080</td>\n",
       "      <td>1</td>\n",
       "      <td>699.1</td>\n",
       "    </tr>\n",
       "    <tr>\n",
       "      <th>1</th>\n",
       "      <td>14734</td>\n",
       "      <td>Kevin Edwards</td>\n",
       "      <td>SO45383</td>\n",
       "      <td>1</td>\n",
       "      <td>699.1</td>\n",
       "    </tr>\n",
       "    <tr>\n",
       "      <th>2</th>\n",
       "      <td>15189</td>\n",
       "      <td>Kayla Russell</td>\n",
       "      <td>SO46896</td>\n",
       "      <td>1</td>\n",
       "      <td>699.1</td>\n",
       "    </tr>\n",
       "    <tr>\n",
       "      <th>3</th>\n",
       "      <td>15252</td>\n",
       "      <td>Jada Murphy</td>\n",
       "      <td>SO47311</td>\n",
       "      <td>1</td>\n",
       "      <td>699.1</td>\n",
       "    </tr>\n",
       "    <tr>\n",
       "      <th>4</th>\n",
       "      <td>15311</td>\n",
       "      <td>Brandon Thompson</td>\n",
       "      <td>SO47507</td>\n",
       "      <td>1</td>\n",
       "      <td>699.1</td>\n",
       "    </tr>\n",
       "  </tbody>\n",
       "</table>\n",
       "</div>"
      ],
      "text/plain": [
       "   CustomerKey          FullName OrderNumber  OrderQuantity  ProductPrice\n",
       "0        14657       John Thomas     SO45080              1         699.1\n",
       "1        14734     Kevin Edwards     SO45383              1         699.1\n",
       "2        15189     Kayla Russell     SO46896              1         699.1\n",
       "3        15252       Jada Murphy     SO47311              1         699.1\n",
       "4        15311  Brandon Thompson     SO47507              1         699.1"
      ]
     },
     "execution_count": 85,
     "metadata": {},
     "output_type": "execute_result"
    }
   ],
   "source": [
    "# Merge Sales Table, Customer Table and Products Table and Get Relevant Columns\n",
    "df1 = aw_sales.merge(aw_customers,on='CustomerKey',how='inner').merge(aw_products,on='ProductKey',how='inner')[['CustomerKey','FullName','OrderNumber','OrderQuantity','ProductPrice']]\n",
    "df1.head()"
   ]
  },
  {
   "cell_type": "code",
   "execution_count": 86,
   "metadata": {
    "ExecuteTime": {
     "end_time": "2023-07-05T21:25:27.259204400Z",
     "start_time": "2023-07-05T21:25:23.509238Z"
    },
    "collapsed": false
   },
   "outputs": [
    {
     "data": {
      "text/html": [
       "<div>\n",
       "<style scoped>\n",
       "    .dataframe tbody tr th:only-of-type {\n",
       "        vertical-align: middle;\n",
       "    }\n",
       "\n",
       "    .dataframe tbody tr th {\n",
       "        vertical-align: top;\n",
       "    }\n",
       "\n",
       "    .dataframe thead th {\n",
       "        text-align: right;\n",
       "    }\n",
       "</style>\n",
       "<table border=\"1\" class=\"dataframe\">\n",
       "  <thead>\n",
       "    <tr style=\"text-align: right;\">\n",
       "      <th></th>\n",
       "      <th>CustomerKey</th>\n",
       "      <th>FullName</th>\n",
       "      <th>OrderNumber</th>\n",
       "      <th>OrderQuantity</th>\n",
       "      <th>ProductPrice</th>\n",
       "      <th>Revenue</th>\n",
       "    </tr>\n",
       "  </thead>\n",
       "  <tbody>\n",
       "    <tr>\n",
       "      <th>0</th>\n",
       "      <td>14657</td>\n",
       "      <td>John Thomas</td>\n",
       "      <td>SO45080</td>\n",
       "      <td>1</td>\n",
       "      <td>699.1</td>\n",
       "      <td>699.1</td>\n",
       "    </tr>\n",
       "    <tr>\n",
       "      <th>1</th>\n",
       "      <td>14734</td>\n",
       "      <td>Kevin Edwards</td>\n",
       "      <td>SO45383</td>\n",
       "      <td>1</td>\n",
       "      <td>699.1</td>\n",
       "      <td>699.1</td>\n",
       "    </tr>\n",
       "    <tr>\n",
       "      <th>2</th>\n",
       "      <td>15189</td>\n",
       "      <td>Kayla Russell</td>\n",
       "      <td>SO46896</td>\n",
       "      <td>1</td>\n",
       "      <td>699.1</td>\n",
       "      <td>699.1</td>\n",
       "    </tr>\n",
       "    <tr>\n",
       "      <th>3</th>\n",
       "      <td>15252</td>\n",
       "      <td>Jada Murphy</td>\n",
       "      <td>SO47311</td>\n",
       "      <td>1</td>\n",
       "      <td>699.1</td>\n",
       "      <td>699.1</td>\n",
       "    </tr>\n",
       "    <tr>\n",
       "      <th>4</th>\n",
       "      <td>15311</td>\n",
       "      <td>Brandon Thompson</td>\n",
       "      <td>SO47507</td>\n",
       "      <td>1</td>\n",
       "      <td>699.1</td>\n",
       "      <td>699.1</td>\n",
       "    </tr>\n",
       "  </tbody>\n",
       "</table>\n",
       "</div>"
      ],
      "text/plain": [
       "   CustomerKey          FullName OrderNumber  OrderQuantity  ProductPrice  \\\n",
       "0        14657       John Thomas     SO45080              1         699.1   \n",
       "1        14734     Kevin Edwards     SO45383              1         699.1   \n",
       "2        15189     Kayla Russell     SO46896              1         699.1   \n",
       "3        15252       Jada Murphy     SO47311              1         699.1   \n",
       "4        15311  Brandon Thompson     SO47507              1         699.1   \n",
       "\n",
       "   Revenue  \n",
       "0    699.1  \n",
       "1    699.1  \n",
       "2    699.1  \n",
       "3    699.1  \n",
       "4    699.1  "
      ]
     },
     "execution_count": 86,
     "metadata": {},
     "output_type": "execute_result"
    }
   ],
   "source": [
    "# Add a Column for Revenue\n",
    "df1['Revenue'] = df1['OrderQuantity'] * df1['ProductPrice']\n",
    "df1.head()"
   ]
  },
  {
   "cell_type": "code",
   "execution_count": 87,
   "metadata": {
    "ExecuteTime": {
     "end_time": "2023-07-05T21:25:27.275293300Z",
     "start_time": "2023-07-05T21:25:23.509751800Z"
    },
    "collapsed": false
   },
   "outputs": [],
   "source": [
    "# Find Unique Number of Orders and Total Revenue for Each Customer Sorted by Revenue in Descending Order\n",
    "top100_customers = df1.groupby(['CustomerKey','FullName']).agg({'OrderNumber':'nunique','Revenue':'sum'}).sort_values(by='Revenue',ascending=False).head(100).round().reset_index()"
   ]
  },
  {
   "cell_type": "code",
   "execution_count": 88,
   "metadata": {
    "ExecuteTime": {
     "end_time": "2023-07-05T21:25:27.277117900Z",
     "start_time": "2023-07-05T21:25:23.566599300Z"
    },
    "collapsed": false
   },
   "outputs": [],
   "source": [
    "# Rename Columns\n",
    "top100_customers.columns = ['CustomerKey','FullName','Number of Orders','Revenue']"
   ]
  },
  {
   "cell_type": "code",
   "execution_count": 89,
   "metadata": {
    "ExecuteTime": {
     "end_time": "2023-07-05T21:25:27.278116600Z",
     "start_time": "2023-07-05T21:25:23.581559500Z"
    },
    "collapsed": false
   },
   "outputs": [
    {
     "data": {
      "text/html": [
       "<div>\n",
       "<style scoped>\n",
       "    .dataframe tbody tr th:only-of-type {\n",
       "        vertical-align: middle;\n",
       "    }\n",
       "\n",
       "    .dataframe tbody tr th {\n",
       "        vertical-align: top;\n",
       "    }\n",
       "\n",
       "    .dataframe thead th {\n",
       "        text-align: right;\n",
       "    }\n",
       "</style>\n",
       "<table border=\"1\" class=\"dataframe\">\n",
       "  <thead>\n",
       "    <tr style=\"text-align: right;\">\n",
       "      <th></th>\n",
       "      <th>CustomerKey</th>\n",
       "      <th>FullName</th>\n",
       "      <th>Number of Orders</th>\n",
       "      <th>Revenue</th>\n",
       "    </tr>\n",
       "  </thead>\n",
       "  <tbody>\n",
       "    <tr>\n",
       "      <th>0</th>\n",
       "      <td>11433</td>\n",
       "      <td>Maurice Shan</td>\n",
       "      <td>6</td>\n",
       "      <td>12408.0</td>\n",
       "    </tr>\n",
       "    <tr>\n",
       "      <th>1</th>\n",
       "      <td>11439</td>\n",
       "      <td>Janet Munoz</td>\n",
       "      <td>6</td>\n",
       "      <td>12015.0</td>\n",
       "    </tr>\n",
       "    <tr>\n",
       "      <th>2</th>\n",
       "      <td>11241</td>\n",
       "      <td>Lisa Cai</td>\n",
       "      <td>7</td>\n",
       "      <td>11330.0</td>\n",
       "    </tr>\n",
       "    <tr>\n",
       "      <th>3</th>\n",
       "      <td>11417</td>\n",
       "      <td>Lacey Zheng</td>\n",
       "      <td>7</td>\n",
       "      <td>11086.0</td>\n",
       "    </tr>\n",
       "    <tr>\n",
       "      <th>4</th>\n",
       "      <td>11420</td>\n",
       "      <td>Jordan Turner</td>\n",
       "      <td>7</td>\n",
       "      <td>11022.0</td>\n",
       "    </tr>\n",
       "    <tr>\n",
       "      <th>...</th>\n",
       "      <td>...</td>\n",
       "      <td>...</td>\n",
       "      <td>...</td>\n",
       "      <td>...</td>\n",
       "    </tr>\n",
       "    <tr>\n",
       "      <th>95</th>\n",
       "      <td>11905</td>\n",
       "      <td>Isaiah Ramirez</td>\n",
       "      <td>3</td>\n",
       "      <td>7949.0</td>\n",
       "    </tr>\n",
       "    <tr>\n",
       "      <th>96</th>\n",
       "      <td>11452</td>\n",
       "      <td>Erika Rubio</td>\n",
       "      <td>3</td>\n",
       "      <td>7945.0</td>\n",
       "    </tr>\n",
       "    <tr>\n",
       "      <th>97</th>\n",
       "      <td>11906</td>\n",
       "      <td>Gabriella Sanders</td>\n",
       "      <td>3</td>\n",
       "      <td>7943.0</td>\n",
       "    </tr>\n",
       "    <tr>\n",
       "      <th>98</th>\n",
       "      <td>11969</td>\n",
       "      <td>Randy Xu</td>\n",
       "      <td>3</td>\n",
       "      <td>7942.0</td>\n",
       "    </tr>\n",
       "    <tr>\n",
       "      <th>99</th>\n",
       "      <td>11472</td>\n",
       "      <td>Kenneth Kumar</td>\n",
       "      <td>3</td>\n",
       "      <td>7941.0</td>\n",
       "    </tr>\n",
       "  </tbody>\n",
       "</table>\n",
       "<p>100 rows × 4 columns</p>\n",
       "</div>"
      ],
      "text/plain": [
       "    CustomerKey           FullName  Number of Orders  Revenue\n",
       "0         11433       Maurice Shan                 6  12408.0\n",
       "1         11439        Janet Munoz                 6  12015.0\n",
       "2         11241           Lisa Cai                 7  11330.0\n",
       "3         11417        Lacey Zheng                 7  11086.0\n",
       "4         11420      Jordan Turner                 7  11022.0\n",
       "..          ...                ...               ...      ...\n",
       "95        11905     Isaiah Ramirez                 3   7949.0\n",
       "96        11452        Erika Rubio                 3   7945.0\n",
       "97        11906  Gabriella Sanders                 3   7943.0\n",
       "98        11969           Randy Xu                 3   7942.0\n",
       "99        11472      Kenneth Kumar                 3   7941.0\n",
       "\n",
       "[100 rows x 4 columns]"
      ]
     },
     "execution_count": 89,
     "metadata": {},
     "output_type": "execute_result"
    }
   ],
   "source": [
    "# Find Top 100 Customers by Revenue\n",
    "top100_customers.head(100)"
   ]
  },
  {
   "attachments": {},
   "cell_type": "markdown",
   "metadata": {
    "collapsed": false
   },
   "source": [
    "Maurice Shan is the Top Customer (by Revenue) with 6 Orders Placed for Total Amount $12408."
   ]
  },
  {
   "attachments": {},
   "cell_type": "markdown",
   "metadata": {
    "collapsed": false
   },
   "source": [
    "### <span style = 'color:orange'>**5.7 Customer Growth by Year**"
   ]
  },
  {
   "cell_type": "code",
   "execution_count": 90,
   "metadata": {
    "ExecuteTime": {
     "end_time": "2023-07-05T21:25:27.582773200Z",
     "start_time": "2023-07-05T21:25:23.628880300Z"
    },
    "collapsed": false
   },
   "outputs": [
    {
     "data": {
      "text/plain": [
       "<Axes: xlabel='OrderDate'>"
      ]
     },
     "execution_count": 90,
     "metadata": {},
     "output_type": "execute_result"
    },
    {
     "data": {
      "image/png": "[encoded data removed]",
      "text/plain": [
       "<Figure size 640x480 with 1 Axes>"
      ]
     },
     "metadata": {},
     "output_type": "display_data"
    }
   ],
   "source": [
    "aw_sales.set_index(aw_sales['OrderDate'].dt.year).groupby(level=0).agg({'CustomerKey':'nunique'}).plot(kind='bar')"
   ]
  },
  {
   "cell_type": "code",
   "execution_count": 91,
   "metadata": {
    "ExecuteTime": {
     "end_time": "2023-07-05T21:25:27.582773200Z",
     "start_time": "2023-07-05T21:25:24.031375Z"
    },
    "collapsed": false
   },
   "outputs": [],
   "source": [
    "cust_count_2020 = aw_sales[aw_sales['OrderDate'].dt.year==2020]['CustomerKey'].nunique()\n",
    "cust_count_2020_to_2021 = aw_sales[aw_sales['OrderDate'].dt.year.isin([2020,2021])]['CustomerKey'].nunique()\n",
    "cust_count_2020_to_2022 = aw_sales[aw_sales['OrderDate'].dt.year.isin([2020,2021,2022])]['CustomerKey'].nunique()"
   ]
  },
  {
   "cell_type": "code",
   "execution_count": 92,
   "metadata": {
    "ExecuteTime": {
     "end_time": "2023-07-05T21:25:27.626657300Z",
     "start_time": "2023-07-05T21:25:24.113284Z"
    },
    "collapsed": false
   },
   "outputs": [
    {
     "data": {
      "image/png": "[encoded data removed]",
      "text/plain": [
       "<Figure size 640x480 with 1 Axes>"
      ]
     },
     "metadata": {},
     "output_type": "display_data"
    }
   ],
   "source": [
    "pd.DataFrame({'year':[2020,2021,2022],'CustomerCount':[cust_count_2020,cust_count_2020_to_2021,cust_count_2020_to_2022]}).set_index('year').plot(kind='bar')\n",
    "plt.title('Customer Growth by Year',color='green',pad=10,fontdict={'size':18})\n",
    "plt.xlabel('Year',color='green',labelpad=10,size=12)\n",
    "plt.ylabel('Cumulative Number of Unique Customers',color='green',labelpad=10,size=12);"
   ]
  },
  {
   "attachments": {},
   "cell_type": "markdown",
   "metadata": {
    "collapsed": false
   },
   "source": [
    "### <span style = 'color:orange'>**5.8 Orders by Income Level of Customers**"
   ]
  },
  {
   "cell_type": "code",
   "execution_count": 93,
   "metadata": {
    "ExecuteTime": {
     "end_time": "2023-07-05T21:25:27.627652900Z",
     "start_time": "2023-07-05T21:25:24.724393800Z"
    },
    "collapsed": false
   },
   "outputs": [
    {
     "data": {
      "text/html": [
       "<div>\n",
       "<style scoped>\n",
       "    .dataframe tbody tr th:only-of-type {\n",
       "        vertical-align: middle;\n",
       "    }\n",
       "\n",
       "    .dataframe tbody tr th {\n",
       "        vertical-align: top;\n",
       "    }\n",
       "\n",
       "    .dataframe thead th {\n",
       "        text-align: right;\n",
       "    }\n",
       "</style>\n",
       "<table border=\"1\" class=\"dataframe\">\n",
       "  <thead>\n",
       "    <tr style=\"text-align: right;\">\n",
       "      <th></th>\n",
       "      <th>OrderNumber</th>\n",
       "    </tr>\n",
       "    <tr>\n",
       "      <th>IncomeLevel</th>\n",
       "      <th></th>\n",
       "    </tr>\n",
       "  </thead>\n",
       "  <tbody>\n",
       "    <tr>\n",
       "      <th>Low</th>\n",
       "      <td>11105</td>\n",
       "    </tr>\n",
       "    <tr>\n",
       "      <th>Average</th>\n",
       "      <td>11577</td>\n",
       "    </tr>\n",
       "    <tr>\n",
       "      <th>High</th>\n",
       "      <td>2161</td>\n",
       "    </tr>\n",
       "    <tr>\n",
       "      <th>Very High</th>\n",
       "      <td>316</td>\n",
       "    </tr>\n",
       "  </tbody>\n",
       "</table>\n",
       "</div>"
      ],
      "text/plain": [
       "             OrderNumber\n",
       "IncomeLevel             \n",
       "Low                11105\n",
       "Average            11577\n",
       "High                2161\n",
       "Very High            316"
      ]
     },
     "execution_count": 93,
     "metadata": {},
     "output_type": "execute_result"
    }
   ],
   "source": [
    "order_by_income = aw_sales.merge(aw_customers,on='CustomerKey',how='inner')[['IncomeLevel','OrderNumber']].groupby(by='IncomeLevel').agg({'OrderNumber':'nunique'})\n",
    "order_by_income"
   ]
  },
  {
   "cell_type": "code",
   "execution_count": 94,
   "metadata": {
    "ExecuteTime": {
     "end_time": "2023-07-05T21:25:27.627652900Z",
     "start_time": "2023-07-05T21:25:24.739423700Z"
    },
    "collapsed": false
   },
   "outputs": [],
   "source": [
    "order_by_income.columns = ['Total Orders']"
   ]
  },
  {
   "cell_type": "code",
   "execution_count": 95,
   "metadata": {
    "ExecuteTime": {
     "end_time": "2023-07-05T21:25:27.628652Z",
     "start_time": "2023-07-05T21:25:24.753700900Z"
    },
    "collapsed": false
   },
   "outputs": [
    {
     "data": {
      "text/html": [
       "<div>\n",
       "<style scoped>\n",
       "    .dataframe tbody tr th:only-of-type {\n",
       "        vertical-align: middle;\n",
       "    }\n",
       "\n",
       "    .dataframe tbody tr th {\n",
       "        vertical-align: top;\n",
       "    }\n",
       "\n",
       "    .dataframe thead th {\n",
       "        text-align: right;\n",
       "    }\n",
       "</style>\n",
       "<table border=\"1\" class=\"dataframe\">\n",
       "  <thead>\n",
       "    <tr style=\"text-align: right;\">\n",
       "      <th></th>\n",
       "      <th>Total Orders</th>\n",
       "    </tr>\n",
       "    <tr>\n",
       "      <th>IncomeLevel</th>\n",
       "      <th></th>\n",
       "    </tr>\n",
       "  </thead>\n",
       "  <tbody>\n",
       "    <tr>\n",
       "      <th>Low</th>\n",
       "      <td>11105</td>\n",
       "    </tr>\n",
       "    <tr>\n",
       "      <th>Average</th>\n",
       "      <td>11577</td>\n",
       "    </tr>\n",
       "    <tr>\n",
       "      <th>High</th>\n",
       "      <td>2161</td>\n",
       "    </tr>\n",
       "    <tr>\n",
       "      <th>Very High</th>\n",
       "      <td>316</td>\n",
       "    </tr>\n",
       "  </tbody>\n",
       "</table>\n",
       "</div>"
      ],
      "text/plain": [
       "             Total Orders\n",
       "IncomeLevel              \n",
       "Low                 11105\n",
       "Average             11577\n",
       "High                 2161\n",
       "Very High             316"
      ]
     },
     "execution_count": 95,
     "metadata": {},
     "output_type": "execute_result"
    }
   ],
   "source": [
    "order_by_income"
   ]
  },
  {
   "cell_type": "code",
   "execution_count": 96,
   "metadata": {
    "ExecuteTime": {
     "end_time": "2023-07-05T21:25:27.629648Z",
     "start_time": "2023-07-05T21:25:24.887552900Z"
    },
    "collapsed": false
   },
   "outputs": [
    {
     "data": {
      "image/png": "[encoded data removed]",
      "text/plain": [
       "<Figure size 640x480 with 1 Axes>"
      ]
     },
     "metadata": {},
     "output_type": "display_data"
    }
   ],
   "source": [
    "sizes = order_by_income['Total Orders']\n",
    "labels = order_by_income.index\n",
    "\n",
    "# Create a pie chart\n",
    "plt.pie(sizes, labels=labels, autopct='%1.1f%%', startangle=90)\n",
    "\n",
    "# Draw a white circle at the center (to turn the pie chart into a doughnut chart)\n",
    "centre_circle = plt.Circle((0,0),0.70,fc='white')\n",
    "fig = plt.gcf()\n",
    "fig.gca().add_artist(centre_circle)\n",
    "\n",
    "# Equal aspect ratio ensures that pie is drawn as a circle.\n",
    "plt.axis('equal')\n",
    "\n",
    "# Set title\n",
    "plt.title('Total Orders by Income Level',pad=20,fontdict={'size':18,'color':'green'})\n",
    "plt.tight_layout()\n",
    "plt.show()\n"
   ]
  },
  {
   "attachments": {},
   "cell_type": "markdown",
   "metadata": {
    "collapsed": false
   },
   "source": [
    "### <span style = 'color:orange'>**5.9 Total Orders by Occupation**"
   ]
  },
  {
   "cell_type": "code",
   "execution_count": 97,
   "metadata": {
    "ExecuteTime": {
     "end_time": "2023-07-05T21:25:27.803189100Z",
     "start_time": "2023-07-05T21:25:25.051051600Z"
    },
    "collapsed": false
   },
   "outputs": [],
   "source": [
    "order_by_occupation = aw_sales.merge(aw_customers,on='CustomerKey',how='inner')[['Occupation','OrderNumber']].groupby(by='Occupation').agg({'OrderNumber':'nunique'})"
   ]
  },
  {
   "cell_type": "code",
   "execution_count": 98,
   "metadata": {
    "ExecuteTime": {
     "end_time": "2023-07-05T21:25:28.030027200Z",
     "start_time": "2023-07-05T21:25:25.147180800Z"
    },
    "collapsed": false
   },
   "outputs": [
    {
     "data": {
      "text/html": [
       "<div>\n",
       "<style scoped>\n",
       "    .dataframe tbody tr th:only-of-type {\n",
       "        vertical-align: middle;\n",
       "    }\n",
       "\n",
       "    .dataframe tbody tr th {\n",
       "        vertical-align: top;\n",
       "    }\n",
       "\n",
       "    .dataframe thead th {\n",
       "        text-align: right;\n",
       "    }\n",
       "</style>\n",
       "<table border=\"1\" class=\"dataframe\">\n",
       "  <thead>\n",
       "    <tr style=\"text-align: right;\">\n",
       "      <th></th>\n",
       "      <th>Total Orders</th>\n",
       "    </tr>\n",
       "    <tr>\n",
       "      <th>Occupation</th>\n",
       "      <th></th>\n",
       "    </tr>\n",
       "  </thead>\n",
       "  <tbody>\n",
       "    <tr>\n",
       "      <th>Clerical</th>\n",
       "      <td>3971</td>\n",
       "    </tr>\n",
       "    <tr>\n",
       "      <th>Management</th>\n",
       "      <td>4379</td>\n",
       "    </tr>\n",
       "    <tr>\n",
       "      <th>Manual</th>\n",
       "      <td>2934</td>\n",
       "    </tr>\n",
       "    <tr>\n",
       "      <th>Professional</th>\n",
       "      <td>7923</td>\n",
       "    </tr>\n",
       "    <tr>\n",
       "      <th>Skilled Manual</th>\n",
       "      <td>5952</td>\n",
       "    </tr>\n",
       "  </tbody>\n",
       "</table>\n",
       "</div>"
      ],
      "text/plain": [
       "                Total Orders\n",
       "Occupation                  \n",
       "Clerical                3971\n",
       "Management              4379\n",
       "Manual                  2934\n",
       "Professional            7923\n",
       "Skilled Manual          5952"
      ]
     },
     "execution_count": 98,
     "metadata": {},
     "output_type": "execute_result"
    }
   ],
   "source": [
    "order_by_occupation.columns = ['Total Orders']\n",
    "order_by_occupation"
   ]
  },
  {
   "cell_type": "code",
   "execution_count": 99,
   "metadata": {
    "ExecuteTime": {
     "end_time": "2023-07-05T21:25:28.446309200Z",
     "start_time": "2023-07-05T21:25:25.174967100Z"
    },
    "collapsed": false
   },
   "outputs": [
    {
     "data": {
      "image/png": "[encoded data removed]",
      "text/plain": [
       "<Figure size 640x480 with 1 Axes>"
      ]
     },
     "metadata": {},
     "output_type": "display_data"
    }
   ],
   "source": [
    "sizes = order_by_occupation['Total Orders']\n",
    "labels = order_by_occupation.index\n",
    "\n",
    "# Create a pie chart\n",
    "plt.pie(sizes, labels=labels, autopct='%1.1f%%', startangle=90)\n",
    "\n",
    "# Draw a white circle at the center (to turn the pie chart into a doughnut chart)\n",
    "centre_circle = plt.Circle((0,0),0.70,fc='white')\n",
    "fig = plt.gcf()\n",
    "fig.gca().add_artist(centre_circle)\n",
    "\n",
    "# Equal aspect ratio ensures that pie is drawn as a circle.\n",
    "plt.axis('equal')\n",
    "\n",
    "# Set title\n",
    "plt.title('Total Orders by Occupation',pad=20,fontdict={'size':18,'color':'green'})\n",
    "plt.tight_layout()\n",
    "plt.show()"
   ]
  },
  {
   "attachments": {},
   "cell_type": "markdown",
   "metadata": {
    "collapsed": false
   },
   "source": [
    "### <span style = 'color:orange'>**5.10 Revenue Per Customer and Trend of Revenue Per Customer**\n",
    "\n",
    "Revenue Per Customer can be obtained by dividing total revenue by total number of customers."
   ]
  },
  {
   "cell_type": "code",
   "execution_count": 100,
   "metadata": {
    "ExecuteTime": {
     "end_time": "2023-07-05T21:25:28.676699500Z",
     "start_time": "2023-07-05T21:25:25.485097500Z"
    },
    "collapsed": false
   },
   "outputs": [
    {
     "data": {
      "text/html": [
       "<div>\n",
       "<style scoped>\n",
       "    .dataframe tbody tr th:only-of-type {\n",
       "        vertical-align: middle;\n",
       "    }\n",
       "\n",
       "    .dataframe tbody tr th {\n",
       "        vertical-align: top;\n",
       "    }\n",
       "\n",
       "    .dataframe thead th {\n",
       "        text-align: right;\n",
       "    }\n",
       "</style>\n",
       "<table border=\"1\" class=\"dataframe\">\n",
       "  <thead>\n",
       "    <tr style=\"text-align: right;\">\n",
       "      <th></th>\n",
       "      <th>OrderDate</th>\n",
       "      <th>ProductPrice</th>\n",
       "      <th>OrderQuantity</th>\n",
       "      <th>Revenue</th>\n",
       "    </tr>\n",
       "  </thead>\n",
       "  <tbody>\n",
       "    <tr>\n",
       "      <th>0</th>\n",
       "      <td>2020-01-01</td>\n",
       "      <td>699.1</td>\n",
       "      <td>1</td>\n",
       "      <td>699.1</td>\n",
       "    </tr>\n",
       "    <tr>\n",
       "      <th>1</th>\n",
       "      <td>2020-02-06</td>\n",
       "      <td>699.1</td>\n",
       "      <td>1</td>\n",
       "      <td>699.1</td>\n",
       "    </tr>\n",
       "    <tr>\n",
       "      <th>2</th>\n",
       "      <td>2020-07-27</td>\n",
       "      <td>699.1</td>\n",
       "      <td>1</td>\n",
       "      <td>699.1</td>\n",
       "    </tr>\n",
       "    <tr>\n",
       "      <th>3</th>\n",
       "      <td>2020-08-27</td>\n",
       "      <td>699.1</td>\n",
       "      <td>1</td>\n",
       "      <td>699.1</td>\n",
       "    </tr>\n",
       "    <tr>\n",
       "      <th>4</th>\n",
       "      <td>2020-09-09</td>\n",
       "      <td>699.1</td>\n",
       "      <td>1</td>\n",
       "      <td>699.1</td>\n",
       "    </tr>\n",
       "  </tbody>\n",
       "</table>\n",
       "</div>"
      ],
      "text/plain": [
       "   OrderDate  ProductPrice  OrderQuantity  Revenue\n",
       "0 2020-01-01         699.1              1    699.1\n",
       "1 2020-02-06         699.1              1    699.1\n",
       "2 2020-07-27         699.1              1    699.1\n",
       "3 2020-08-27         699.1              1    699.1\n",
       "4 2020-09-09         699.1              1    699.1"
      ]
     },
     "execution_count": 100,
     "metadata": {},
     "output_type": "execute_result"
    }
   ],
   "source": [
    "aw_revenue = aw_sales.merge(aw_products,on='ProductKey',how='inner')[['OrderDate','ProductPrice','OrderQuantity']]\n",
    "aw_revenue['Revenue'] = aw_revenue['ProductPrice']*aw_revenue['OrderQuantity']\n",
    "aw_revenue.head()"
   ]
  },
  {
   "cell_type": "code",
   "execution_count": 101,
   "metadata": {
    "ExecuteTime": {
     "end_time": "2023-07-05T21:25:28.677307100Z",
     "start_time": "2023-07-05T21:25:25.559411900Z"
    },
    "collapsed": false
   },
   "outputs": [
    {
     "data": {
      "text/plain": [
       "OrderDate\n",
       "2020     6404933.98\n",
       "2021    15729129.33\n",
       "2022    24914567.18\n",
       "Name: Revenue, dtype: float64"
      ]
     },
     "execution_count": 101,
     "metadata": {},
     "output_type": "execute_result"
    }
   ],
   "source": [
    "# Calculating Cumulative Revenue\n",
    "cum_sum_revenue = aw_revenue.set_index(aw_revenue['OrderDate'].dt.year)['Revenue'].groupby(level=0).sum().cumsum()\n",
    "cum_sum_revenue"
   ]
  },
  {
   "cell_type": "code",
   "execution_count": 102,
   "metadata": {
    "ExecuteTime": {
     "end_time": "2023-07-05T21:25:28.677695300Z",
     "start_time": "2023-07-05T21:25:25.590862100Z"
    },
    "collapsed": false
   },
   "outputs": [
    {
     "data": {
      "text/plain": [
       "2020     2630\n",
       "2021    10559\n",
       "2022    17416\n",
       "Name: CumulativeCustomerCount, dtype: int64"
      ]
     },
     "execution_count": 102,
     "metadata": {},
     "output_type": "execute_result"
    }
   ],
   "source": [
    "# Creating Series of Cumulative Number of Customers\n",
    "\n",
    "aw_cust_count = pd.Series([cust_count_2020,cust_count_2020_to_2021,cust_count_2020_to_2022],index=[2020,2021,2022],name='CumulativeCustomerCount')\n",
    "aw_cust_count\n"
   ]
  },
  {
   "cell_type": "code",
   "execution_count": 103,
   "metadata": {
    "ExecuteTime": {
     "end_time": "2023-07-05T21:25:28.829584300Z",
     "start_time": "2023-07-05T21:25:25.621778300Z"
    },
    "collapsed": false
   },
   "outputs": [
    {
     "data": {
      "text/html": [
       "<div>\n",
       "<style scoped>\n",
       "    .dataframe tbody tr th:only-of-type {\n",
       "        vertical-align: middle;\n",
       "    }\n",
       "\n",
       "    .dataframe tbody tr th {\n",
       "        vertical-align: top;\n",
       "    }\n",
       "\n",
       "    .dataframe thead th {\n",
       "        text-align: right;\n",
       "    }\n",
       "</style>\n",
       "<table border=\"1\" class=\"dataframe\">\n",
       "  <thead>\n",
       "    <tr style=\"text-align: right;\">\n",
       "      <th></th>\n",
       "      <th>Cum_Cust_Count</th>\n",
       "      <th>Cum_Revenue</th>\n",
       "    </tr>\n",
       "  </thead>\n",
       "  <tbody>\n",
       "    <tr>\n",
       "      <th>2020</th>\n",
       "      <td>2630</td>\n",
       "      <td>6404933.98</td>\n",
       "    </tr>\n",
       "    <tr>\n",
       "      <th>2021</th>\n",
       "      <td>10559</td>\n",
       "      <td>15729129.33</td>\n",
       "    </tr>\n",
       "    <tr>\n",
       "      <th>2022</th>\n",
       "      <td>17416</td>\n",
       "      <td>24914567.18</td>\n",
       "    </tr>\n",
       "  </tbody>\n",
       "</table>\n",
       "</div>"
      ],
      "text/plain": [
       "      Cum_Cust_Count  Cum_Revenue\n",
       "2020            2630   6404933.98\n",
       "2021           10559  15729129.33\n",
       "2022           17416  24914567.18"
      ]
     },
     "execution_count": 103,
     "metadata": {},
     "output_type": "execute_result"
    }
   ],
   "source": [
    "# Concatenating Cumulative Revenue and Cumulative Customer Numbers\n",
    "\n",
    "revenue_per_cust = pd.concat(objs=[aw_cust_count,cum_sum_revenue],axis=1)\n",
    "revenue_per_cust.columns = ['Cum_Cust_Count','Cum_Revenue']\n",
    "revenue_per_cust"
   ]
  },
  {
   "cell_type": "code",
   "execution_count": 104,
   "metadata": {
    "ExecuteTime": {
     "end_time": "2023-07-05T21:25:28.884406700Z",
     "start_time": "2023-07-05T21:25:25.653690200Z"
    },
    "collapsed": false
   },
   "outputs": [
    {
     "data": {
      "text/html": [
       "<div>\n",
       "<style scoped>\n",
       "    .dataframe tbody tr th:only-of-type {\n",
       "        vertical-align: middle;\n",
       "    }\n",
       "\n",
       "    .dataframe tbody tr th {\n",
       "        vertical-align: top;\n",
       "    }\n",
       "\n",
       "    .dataframe thead th {\n",
       "        text-align: right;\n",
       "    }\n",
       "</style>\n",
       "<table border=\"1\" class=\"dataframe\">\n",
       "  <thead>\n",
       "    <tr style=\"text-align: right;\">\n",
       "      <th></th>\n",
       "      <th>Cum_Cust_Count</th>\n",
       "      <th>Cum_Revenue</th>\n",
       "      <th>Revenue Per Customer</th>\n",
       "    </tr>\n",
       "  </thead>\n",
       "  <tbody>\n",
       "    <tr>\n",
       "      <th>2020</th>\n",
       "      <td>2630</td>\n",
       "      <td>6404933.98</td>\n",
       "      <td>2435.336114</td>\n",
       "    </tr>\n",
       "    <tr>\n",
       "      <th>2021</th>\n",
       "      <td>10559</td>\n",
       "      <td>15729129.33</td>\n",
       "      <td>1489.641948</td>\n",
       "    </tr>\n",
       "    <tr>\n",
       "      <th>2022</th>\n",
       "      <td>17416</td>\n",
       "      <td>24914567.18</td>\n",
       "      <td>1430.556223</td>\n",
       "    </tr>\n",
       "  </tbody>\n",
       "</table>\n",
       "</div>"
      ],
      "text/plain": [
       "      Cum_Cust_Count  Cum_Revenue  Revenue Per Customer\n",
       "2020            2630   6404933.98           2435.336114\n",
       "2021           10559  15729129.33           1489.641948\n",
       "2022           17416  24914567.18           1430.556223"
      ]
     },
     "execution_count": 104,
     "metadata": {},
     "output_type": "execute_result"
    }
   ],
   "source": [
    "# Adding a Column for Revenue Per Customer\n",
    "revenue_per_cust['Revenue Per Customer'] = revenue_per_cust['Cum_Revenue']/revenue_per_cust['Cum_Cust_Count']\n",
    "revenue_per_cust"
   ]
  },
  {
   "cell_type": "code",
   "execution_count": 105,
   "metadata": {
    "ExecuteTime": {
     "end_time": "2023-07-05T21:25:29.212529100Z",
     "start_time": "2023-07-05T21:25:25.681616200Z"
    },
    "collapsed": false
   },
   "outputs": [
    {
     "data": {
      "image/png": "[encoded data removed]",
      "text/plain": [
       "<Figure size 640x480 with 1 Axes>"
      ]
     },
     "metadata": {},
     "output_type": "display_data"
    }
   ],
   "source": [
    "# Plotting Revenue Per Customer Trend (Yearly)\n",
    "sns.barplot(data=revenue_per_cust,x=revenue_per_cust.index,y='Revenue Per Customer')\n",
    "plt.title('Revenue Per Customer Trend',fontdict={'size':18,'color':'green'})\n",
    "plt.xlabel('Year')\n",
    "plt.ylabel('Cumulative Revenue Per Customer');\n"
   ]
  },
  {
   "cell_type": "code",
   "execution_count": 106,
   "metadata": {
    "ExecuteTime": {
     "end_time": "2023-07-05T21:25:29.424742300Z",
     "start_time": "2023-07-05T21:25:26.077264900Z"
    },
    "collapsed": false
   },
   "outputs": [
    {
     "data": {
      "text/html": [
       "<div>\n",
       "<style scoped>\n",
       "    .dataframe tbody tr th:only-of-type {\n",
       "        vertical-align: middle;\n",
       "    }\n",
       "\n",
       "    .dataframe tbody tr th {\n",
       "        vertical-align: top;\n",
       "    }\n",
       "\n",
       "    .dataframe thead th {\n",
       "        text-align: right;\n",
       "    }\n",
       "</style>\n",
       "<table border=\"1\" class=\"dataframe\">\n",
       "  <thead>\n",
       "    <tr style=\"text-align: right;\">\n",
       "      <th></th>\n",
       "      <th>OrderDate</th>\n",
       "      <th>StockDate</th>\n",
       "      <th>OrderNumber</th>\n",
       "      <th>ProductKey</th>\n",
       "      <th>CustomerKey</th>\n",
       "      <th>OrderLineItem</th>\n",
       "      <th>OrderQuantity</th>\n",
       "      <th>Region</th>\n",
       "      <th>Country</th>\n",
       "      <th>Continent</th>\n",
       "      <th>...</th>\n",
       "      <th>SKU Type</th>\n",
       "      <th>ProductName</th>\n",
       "      <th>ModelName</th>\n",
       "      <th>ProductDescription</th>\n",
       "      <th>ProductColor</th>\n",
       "      <th>ProductStyle</th>\n",
       "      <th>ProductCost</th>\n",
       "      <th>ProductPrice</th>\n",
       "      <th>SubcategoryName</th>\n",
       "      <th>CategoryName</th>\n",
       "    </tr>\n",
       "  </thead>\n",
       "  <tbody>\n",
       "    <tr>\n",
       "      <th>0</th>\n",
       "      <td>2020-01-01</td>\n",
       "      <td>2019-09-21</td>\n",
       "      <td>SO45080</td>\n",
       "      <td>332</td>\n",
       "      <td>14657</td>\n",
       "      <td>1</td>\n",
       "      <td>1</td>\n",
       "      <td>Northwest</td>\n",
       "      <td>United States</td>\n",
       "      <td>North America</td>\n",
       "      <td>...</td>\n",
       "      <td>BK-R50B</td>\n",
       "      <td>Road-650 Black, 58</td>\n",
       "      <td>Road-650</td>\n",
       "      <td>Value-priced bike with many features of our to...</td>\n",
       "      <td>Black</td>\n",
       "      <td>U</td>\n",
       "      <td>413.15</td>\n",
       "      <td>699.1</td>\n",
       "      <td>Road Bikes</td>\n",
       "      <td>Bikes</td>\n",
       "    </tr>\n",
       "    <tr>\n",
       "      <th>1</th>\n",
       "      <td>2020-02-06</td>\n",
       "      <td>2019-10-12</td>\n",
       "      <td>SO45383</td>\n",
       "      <td>332</td>\n",
       "      <td>14734</td>\n",
       "      <td>1</td>\n",
       "      <td>1</td>\n",
       "      <td>Northwest</td>\n",
       "      <td>United States</td>\n",
       "      <td>North America</td>\n",
       "      <td>...</td>\n",
       "      <td>BK-R50B</td>\n",
       "      <td>Road-650 Black, 58</td>\n",
       "      <td>Road-650</td>\n",
       "      <td>Value-priced bike with many features of our to...</td>\n",
       "      <td>Black</td>\n",
       "      <td>U</td>\n",
       "      <td>413.15</td>\n",
       "      <td>699.1</td>\n",
       "      <td>Road Bikes</td>\n",
       "      <td>Bikes</td>\n",
       "    </tr>\n",
       "    <tr>\n",
       "      <th>2</th>\n",
       "      <td>2020-07-27</td>\n",
       "      <td>2020-06-16</td>\n",
       "      <td>SO46896</td>\n",
       "      <td>332</td>\n",
       "      <td>15189</td>\n",
       "      <td>1</td>\n",
       "      <td>1</td>\n",
       "      <td>Northwest</td>\n",
       "      <td>United States</td>\n",
       "      <td>North America</td>\n",
       "      <td>...</td>\n",
       "      <td>BK-R50B</td>\n",
       "      <td>Road-650 Black, 58</td>\n",
       "      <td>Road-650</td>\n",
       "      <td>Value-priced bike with many features of our to...</td>\n",
       "      <td>Black</td>\n",
       "      <td>U</td>\n",
       "      <td>413.15</td>\n",
       "      <td>699.1</td>\n",
       "      <td>Road Bikes</td>\n",
       "      <td>Bikes</td>\n",
       "    </tr>\n",
       "    <tr>\n",
       "      <th>3</th>\n",
       "      <td>2020-08-27</td>\n",
       "      <td>2020-06-21</td>\n",
       "      <td>SO47311</td>\n",
       "      <td>332</td>\n",
       "      <td>15252</td>\n",
       "      <td>1</td>\n",
       "      <td>1</td>\n",
       "      <td>Northwest</td>\n",
       "      <td>United States</td>\n",
       "      <td>North America</td>\n",
       "      <td>...</td>\n",
       "      <td>BK-R50B</td>\n",
       "      <td>Road-650 Black, 58</td>\n",
       "      <td>Road-650</td>\n",
       "      <td>Value-priced bike with many features of our to...</td>\n",
       "      <td>Black</td>\n",
       "      <td>U</td>\n",
       "      <td>413.15</td>\n",
       "      <td>699.1</td>\n",
       "      <td>Road Bikes</td>\n",
       "      <td>Bikes</td>\n",
       "    </tr>\n",
       "    <tr>\n",
       "      <th>4</th>\n",
       "      <td>2020-09-09</td>\n",
       "      <td>2020-05-20</td>\n",
       "      <td>SO47507</td>\n",
       "      <td>332</td>\n",
       "      <td>15311</td>\n",
       "      <td>1</td>\n",
       "      <td>1</td>\n",
       "      <td>Northwest</td>\n",
       "      <td>United States</td>\n",
       "      <td>North America</td>\n",
       "      <td>...</td>\n",
       "      <td>BK-R50B</td>\n",
       "      <td>Road-650 Black, 58</td>\n",
       "      <td>Road-650</td>\n",
       "      <td>Value-priced bike with many features of our to...</td>\n",
       "      <td>Black</td>\n",
       "      <td>U</td>\n",
       "      <td>413.15</td>\n",
       "      <td>699.1</td>\n",
       "      <td>Road Bikes</td>\n",
       "      <td>Bikes</td>\n",
       "    </tr>\n",
       "  </tbody>\n",
       "</table>\n",
       "<p>5 rows × 38 columns</p>\n",
       "</div>"
      ],
      "text/plain": [
       "   OrderDate  StockDate OrderNumber  ProductKey  CustomerKey  OrderLineItem  \\\n",
       "0 2020-01-01 2019-09-21     SO45080         332        14657              1   \n",
       "1 2020-02-06 2019-10-12     SO45383         332        14734              1   \n",
       "2 2020-07-27 2020-06-16     SO46896         332        15189              1   \n",
       "3 2020-08-27 2020-06-21     SO47311         332        15252              1   \n",
       "4 2020-09-09 2020-05-20     SO47507         332        15311              1   \n",
       "\n",
       "   OrderQuantity     Region        Country      Continent  ... SKU Type  \\\n",
       "0              1  Northwest  United States  North America  ...  BK-R50B   \n",
       "1              1  Northwest  United States  North America  ...  BK-R50B   \n",
       "2              1  Northwest  United States  North America  ...  BK-R50B   \n",
       "3              1  Northwest  United States  North America  ...  BK-R50B   \n",
       "4              1  Northwest  United States  North America  ...  BK-R50B   \n",
       "\n",
       "          ProductName ModelName  \\\n",
       "0  Road-650 Black, 58  Road-650   \n",
       "1  Road-650 Black, 58  Road-650   \n",
       "2  Road-650 Black, 58  Road-650   \n",
       "3  Road-650 Black, 58  Road-650   \n",
       "4  Road-650 Black, 58  Road-650   \n",
       "\n",
       "                                  ProductDescription ProductColor  \\\n",
       "0  Value-priced bike with many features of our to...        Black   \n",
       "1  Value-priced bike with many features of our to...        Black   \n",
       "2  Value-priced bike with many features of our to...        Black   \n",
       "3  Value-priced bike with many features of our to...        Black   \n",
       "4  Value-priced bike with many features of our to...        Black   \n",
       "\n",
       "  ProductStyle ProductCost  ProductPrice  SubcategoryName CategoryName  \n",
       "0            U      413.15         699.1       Road Bikes        Bikes  \n",
       "1            U      413.15         699.1       Road Bikes        Bikes  \n",
       "2            U      413.15         699.1       Road Bikes        Bikes  \n",
       "3            U      413.15         699.1       Road Bikes        Bikes  \n",
       "4            U      413.15         699.1       Road Bikes        Bikes  \n",
       "\n",
       "[5 rows x 38 columns]"
      ]
     },
     "execution_count": 106,
     "metadata": {},
     "output_type": "execute_result"
    }
   ],
   "source": [
    "aw_combined = aw_sales.merge(aw_customers,on='CustomerKey',how='inner').merge(aw_products,on='ProductKey',how='inner')\n",
    "aw_combined.head()"
   ]
  },
  {
   "cell_type": "code",
   "execution_count": 107,
   "metadata": {
    "ExecuteTime": {
     "end_time": "2023-07-05T21:25:29.602164600Z",
     "start_time": "2023-07-05T21:25:26.232408200Z"
    },
    "collapsed": false
   },
   "outputs": [
    {
     "data": {
      "text/html": [
       "<div>\n",
       "<style scoped>\n",
       "    .dataframe tbody tr th:only-of-type {\n",
       "        vertical-align: middle;\n",
       "    }\n",
       "\n",
       "    .dataframe tbody tr th {\n",
       "        vertical-align: top;\n",
       "    }\n",
       "\n",
       "    .dataframe thead th {\n",
       "        text-align: right;\n",
       "    }\n",
       "</style>\n",
       "<table border=\"1\" class=\"dataframe\">\n",
       "  <thead>\n",
       "    <tr style=\"text-align: right;\">\n",
       "      <th></th>\n",
       "      <th>OrderDate</th>\n",
       "      <th>StockDate</th>\n",
       "      <th>OrderNumber</th>\n",
       "      <th>ProductKey</th>\n",
       "      <th>CustomerKey</th>\n",
       "      <th>OrderLineItem</th>\n",
       "      <th>OrderQuantity</th>\n",
       "      <th>Region</th>\n",
       "      <th>Country</th>\n",
       "      <th>Continent</th>\n",
       "      <th>...</th>\n",
       "      <th>ProductName</th>\n",
       "      <th>ModelName</th>\n",
       "      <th>ProductDescription</th>\n",
       "      <th>ProductColor</th>\n",
       "      <th>ProductStyle</th>\n",
       "      <th>ProductCost</th>\n",
       "      <th>ProductPrice</th>\n",
       "      <th>SubcategoryName</th>\n",
       "      <th>CategoryName</th>\n",
       "      <th>Revenue</th>\n",
       "    </tr>\n",
       "  </thead>\n",
       "  <tbody>\n",
       "    <tr>\n",
       "      <th>0</th>\n",
       "      <td>2020-01-01</td>\n",
       "      <td>2019-09-21</td>\n",
       "      <td>SO45080</td>\n",
       "      <td>332</td>\n",
       "      <td>14657</td>\n",
       "      <td>1</td>\n",
       "      <td>1</td>\n",
       "      <td>Northwest</td>\n",
       "      <td>United States</td>\n",
       "      <td>North America</td>\n",
       "      <td>...</td>\n",
       "      <td>Road-650 Black, 58</td>\n",
       "      <td>Road-650</td>\n",
       "      <td>Value-priced bike with many features of our to...</td>\n",
       "      <td>Black</td>\n",
       "      <td>U</td>\n",
       "      <td>413.15</td>\n",
       "      <td>699.1</td>\n",
       "      <td>Road Bikes</td>\n",
       "      <td>Bikes</td>\n",
       "      <td>699.1</td>\n",
       "    </tr>\n",
       "    <tr>\n",
       "      <th>1</th>\n",
       "      <td>2020-02-06</td>\n",
       "      <td>2019-10-12</td>\n",
       "      <td>SO45383</td>\n",
       "      <td>332</td>\n",
       "      <td>14734</td>\n",
       "      <td>1</td>\n",
       "      <td>1</td>\n",
       "      <td>Northwest</td>\n",
       "      <td>United States</td>\n",
       "      <td>North America</td>\n",
       "      <td>...</td>\n",
       "      <td>Road-650 Black, 58</td>\n",
       "      <td>Road-650</td>\n",
       "      <td>Value-priced bike with many features of our to...</td>\n",
       "      <td>Black</td>\n",
       "      <td>U</td>\n",
       "      <td>413.15</td>\n",
       "      <td>699.1</td>\n",
       "      <td>Road Bikes</td>\n",
       "      <td>Bikes</td>\n",
       "      <td>699.1</td>\n",
       "    </tr>\n",
       "    <tr>\n",
       "      <th>2</th>\n",
       "      <td>2020-07-27</td>\n",
       "      <td>2020-06-16</td>\n",
       "      <td>SO46896</td>\n",
       "      <td>332</td>\n",
       "      <td>15189</td>\n",
       "      <td>1</td>\n",
       "      <td>1</td>\n",
       "      <td>Northwest</td>\n",
       "      <td>United States</td>\n",
       "      <td>North America</td>\n",
       "      <td>...</td>\n",
       "      <td>Road-650 Black, 58</td>\n",
       "      <td>Road-650</td>\n",
       "      <td>Value-priced bike with many features of our to...</td>\n",
       "      <td>Black</td>\n",
       "      <td>U</td>\n",
       "      <td>413.15</td>\n",
       "      <td>699.1</td>\n",
       "      <td>Road Bikes</td>\n",
       "      <td>Bikes</td>\n",
       "      <td>699.1</td>\n",
       "    </tr>\n",
       "    <tr>\n",
       "      <th>3</th>\n",
       "      <td>2020-08-27</td>\n",
       "      <td>2020-06-21</td>\n",
       "      <td>SO47311</td>\n",
       "      <td>332</td>\n",
       "      <td>15252</td>\n",
       "      <td>1</td>\n",
       "      <td>1</td>\n",
       "      <td>Northwest</td>\n",
       "      <td>United States</td>\n",
       "      <td>North America</td>\n",
       "      <td>...</td>\n",
       "      <td>Road-650 Black, 58</td>\n",
       "      <td>Road-650</td>\n",
       "      <td>Value-priced bike with many features of our to...</td>\n",
       "      <td>Black</td>\n",
       "      <td>U</td>\n",
       "      <td>413.15</td>\n",
       "      <td>699.1</td>\n",
       "      <td>Road Bikes</td>\n",
       "      <td>Bikes</td>\n",
       "      <td>699.1</td>\n",
       "    </tr>\n",
       "    <tr>\n",
       "      <th>4</th>\n",
       "      <td>2020-09-09</td>\n",
       "      <td>2020-05-20</td>\n",
       "      <td>SO47507</td>\n",
       "      <td>332</td>\n",
       "      <td>15311</td>\n",
       "      <td>1</td>\n",
       "      <td>1</td>\n",
       "      <td>Northwest</td>\n",
       "      <td>United States</td>\n",
       "      <td>North America</td>\n",
       "      <td>...</td>\n",
       "      <td>Road-650 Black, 58</td>\n",
       "      <td>Road-650</td>\n",
       "      <td>Value-priced bike with many features of our to...</td>\n",
       "      <td>Black</td>\n",
       "      <td>U</td>\n",
       "      <td>413.15</td>\n",
       "      <td>699.1</td>\n",
       "      <td>Road Bikes</td>\n",
       "      <td>Bikes</td>\n",
       "      <td>699.1</td>\n",
       "    </tr>\n",
       "  </tbody>\n",
       "</table>\n",
       "<p>5 rows × 39 columns</p>\n",
       "</div>"
      ],
      "text/plain": [
       "   OrderDate  StockDate OrderNumber  ProductKey  CustomerKey  OrderLineItem  \\\n",
       "0 2020-01-01 2019-09-21     SO45080         332        14657              1   \n",
       "1 2020-02-06 2019-10-12     SO45383         332        14734              1   \n",
       "2 2020-07-27 2020-06-16     SO46896         332        15189              1   \n",
       "3 2020-08-27 2020-06-21     SO47311         332        15252              1   \n",
       "4 2020-09-09 2020-05-20     SO47507         332        15311              1   \n",
       "\n",
       "   OrderQuantity     Region        Country      Continent  ...  \\\n",
       "0              1  Northwest  United States  North America  ...   \n",
       "1              1  Northwest  United States  North America  ...   \n",
       "2              1  Northwest  United States  North America  ...   \n",
       "3              1  Northwest  United States  North America  ...   \n",
       "4              1  Northwest  United States  North America  ...   \n",
       "\n",
       "          ProductName ModelName  \\\n",
       "0  Road-650 Black, 58  Road-650   \n",
       "1  Road-650 Black, 58  Road-650   \n",
       "2  Road-650 Black, 58  Road-650   \n",
       "3  Road-650 Black, 58  Road-650   \n",
       "4  Road-650 Black, 58  Road-650   \n",
       "\n",
       "                                  ProductDescription  ProductColor  \\\n",
       "0  Value-priced bike with many features of our to...         Black   \n",
       "1  Value-priced bike with many features of our to...         Black   \n",
       "2  Value-priced bike with many features of our to...         Black   \n",
       "3  Value-priced bike with many features of our to...         Black   \n",
       "4  Value-priced bike with many features of our to...         Black   \n",
       "\n",
       "  ProductStyle ProductCost ProductPrice  SubcategoryName  CategoryName Revenue  \n",
       "0            U      413.15        699.1       Road Bikes         Bikes   699.1  \n",
       "1            U      413.15        699.1       Road Bikes         Bikes   699.1  \n",
       "2            U      413.15        699.1       Road Bikes         Bikes   699.1  \n",
       "3            U      413.15        699.1       Road Bikes         Bikes   699.1  \n",
       "4            U      413.15        699.1       Road Bikes         Bikes   699.1  \n",
       "\n",
       "[5 rows x 39 columns]"
      ]
     },
     "execution_count": 107,
     "metadata": {},
     "output_type": "execute_result"
    }
   ],
   "source": [
    "aw_combined['Revenue'] = aw_combined['ProductPrice'] * aw_combined['OrderQuantity']\n",
    "aw_combined.head()"
   ]
  },
  {
   "cell_type": "code",
   "execution_count": 108,
   "metadata": {
    "ExecuteTime": {
     "end_time": "2023-07-05T21:25:31.002795500Z",
     "start_time": "2023-07-05T21:25:26.278846400Z"
    },
    "collapsed": false
   },
   "outputs": [
    {
     "data": {
      "image/png": "[encoded data removed]",
      "text/plain": [
       "<Figure size 1200x800 with 1 Axes>"
      ]
     },
     "metadata": {},
     "output_type": "display_data"
    }
   ],
   "source": [
    "# Plotting Revenue Trend/Monthly Sales Over Time\n",
    "from matplotlib import dates\n",
    "plt.figure(figsize=(12,8))\n",
    "aw_combined.set_index('OrderDate')['Revenue'].resample('M').sum().plot(title='Monthly Revenue Trend',xlabel = 'Order Date',ylabel = 'Revenue');"
   ]
  }
 ],
 "metadata": {
  "kernelspec": {
   "display_name": "Python 3",
   "language": "python",
   "name": "python3"
  },
  "language_info": {
   "codemirror_mode": {
    "name": "ipython",
    "version": 3
   },
   "file_extension": ".py",
   "mimetype": "text/x-python",
   "name": "python",
   "nbconvert_exporter": "python",
   "pygments_lexer": "ipython3",
   "version": "3.9.13"
  }
 },
 "nbformat": 4,
 "nbformat_minor": 0
}
